{
 "cells": [
  {
   "cell_type": "markdown",
   "metadata": {},
   "source": [
    "# Looking for the smartest algorithm in the room\n",
    "\n",
    "Machine Learning practice with the **Enron** Email Corpus and Financial Dataset.\n",
    "\n",
    "---\n",
    "\n",
    "Katie's enthusiasm is contractible, so I went ahead to learn a bit. Watching the documentary allowed me to learn quite some new things about that ugly side of the _American Dream_.\n",
    "\n",
    "Here's to some more involvement through a different path."
   ]
  },
  {
   "cell_type": "markdown",
   "metadata": {},
   "source": [
    "## What is this about?\n",
    "Using Machine Learning techniques, I will try to analyze the two combined datasets to try to predict who of the people that are part of the dataset might be persons of interest (poi).\n",
    "I define a poi to be someone who might be worth further investigation, because he or she might be more closely involved in the Enron fraud case than other people who worked at the company at that time.\n",
    "\n",
    "One feature that these predictions will be based on, is the label 'poi', that was manually assembled by Katie Malone from people proven to be involved in the fraud. (Source: http://usatoday30.usatoday.com/money/industries/energy/2005-12-28-enron-participants_x.htm)\n",
    "It therefore represents a key feature for the analysis.\n"
   ]
  },
  {
   "cell_type": "code",
   "execution_count": 1,
   "metadata": {
    "collapsed": true
   },
   "outputs": [],
   "source": [
    "#!/usr/bin/python\n",
    "\n",
    "import sys\n",
    "import pickle\n",
    "import pprint\n",
    "sys.path.append(\"../tools/\")\n",
    "\n",
    "from feature_format import featureFormat, targetFeatureSplit\n",
    "from tester import dump_classifier_and_data"
   ]
  },
  {
   "cell_type": "markdown",
   "metadata": {},
   "source": [
    "## Selecting Features\n",
    "### Selection Mechanism\n",
    "At first I wanted to know how often do I actually have data for the respective features, so I coded this up.\n",
    "Initially I wanted to consider only features that are shared by at least 60% of the people in the dataset (where `feature != 'NaN'`). However, this did not include any data of the Email Corpus, so I reduced the treshold to 50%."
   ]
  },
  {
   "cell_type": "code",
   "execution_count": 2,
   "metadata": {
    "collapsed": false
   },
   "outputs": [
    {
     "name": "stdout",
     "output_type": "stream",
     "text": [
      "['poi',\n",
      " 'shared_receipt_with_poi',\n",
      " 'from_poi_to_this_person',\n",
      " 'salary',\n",
      " 'total_payments',\n",
      " 'bonus',\n",
      " 'from_this_person_to_poi']\n"
     ]
    }
   ],
   "source": [
    "### Task 1: Select what features you'll use.\n",
    "### features_list is a list of strings, each of which is a feature name.\n",
    "### The first feature must be \"poi\".\n",
    "\n",
    "### Load the dictionary containing the dataset\n",
    "with open(\"final_project_dataset.pkl\", \"r\") as data_file:\n",
    "    data_dict = pickle.load(data_file)\n",
    "\n",
    "###\n",
    "### 1 - SELECTING FEATURES\n",
    "###\n",
    "\n",
    "# a dict with the basic structure of the data, to keep count of occurences\n",
    "count_dict = {'bonus': 0,\n",
    " 'deferral_payments': 0,\n",
    " 'deferred_income': 0,\n",
    " 'director_fees': 0,\n",
    " 'email_address': 0,\n",
    " 'exercised_stock_options': 0,\n",
    " 'expenses': 0,\n",
    " 'from_messages': 0,\n",
    " 'from_poi_to_this_person': 0,\n",
    " 'from_this_person_to_poi': 0,\n",
    " 'loan_advances': 0,\n",
    " 'long_term_incentive': 0,\n",
    " 'other': 0,\n",
    " 'poi': 0,\n",
    " 'restricted_stock': 0,\n",
    " 'restricted_stock_deferred': 0,\n",
    " 'salary': 0,\n",
    " 'shared_receipt_with_poi': 0,\n",
    " 'to_messages': 0,\n",
    " 'total_payments': 0,\n",
    " 'total_stock_value': 0}\n",
    "# to see which features are present for many people, i count\n",
    "for person, p_dict in data_dict.items():\n",
    "\tfor key, value in p_dict.items():\n",
    "\t\tif value != \"NaN\":\n",
    "\t\t\tcount_dict[key] += 1\n",
    "# for better comparison i will use the percentage of total\n",
    "amount_people = len(data_dict)\n",
    "perc_dict = {}\n",
    "for key, value in count_dict.items():\n",
    "\tperc_dict[key] = round((value * 100.0) / amount_people, 2)\n",
    "#pprint.pprint(perc_dict)\n",
    "# filtering for the more common features, with a treshhold of 50%\n",
    "common_feature_list = []\n",
    "for key, value in perc_dict.items():\n",
    "\tif value >= 50:\n",
    "\t\tcommon_feature_list.append(key)\n",
    "\n",
    "# removing features I don't want to investigate (for justification\n",
    "# see the ML_report_Enron file)\n",
    "remove_list = ['to_messages', 'exercised_stock_options', 'email_address',\n",
    "\t\t\t'total_stock_value', 'expenses', 'from_messages', 'other', 'restricted_stock']\n",
    "features_list = [feature for index, feature in enumerate(common_feature_list) if feature not in remove_list]\n",
    "# ordering 'poi' to index = 0\n",
    "features_list = features_list[4:] + features_list[:4]\n",
    "pprint.pprint(features_list)"
   ]
  },
  {
   "cell_type": "markdown",
   "metadata": {},
   "source": [
    "Of the result:\n",
    "\n",
    "```python\n",
    "['salary', 'to_messages', 'total_payments', 'exercised_stock_options', 'bonus', 'email_address', 'total_stock_value', 'expenses', 'from_messages', 'other', 'from_this_person_to_poi', 'poi', 'shared_receipt_with_poi', 'restricted_stock', 'from_poi_to_this_person']\n",
    "```\n",
    "\n",
    "I selected\n",
    "\n",
    "```python\n",
    "['poi', 'salary', 'bonus', 'total_payments', 'shared_receipt_with_poi', 'from_poi_to_this_person', 'from_this_person_to_poi' ]\n",
    "```\n",
    "\n",
    "\n",
    "#### out\n",
    "'email_address' is a unique string for each person and therefore won't have any predictive power. 'to_messages' and 'from_messages' seems better encoded in 'from_poi_to_this_person' and 'from_this_person_to_poi', considering that I will explore the data in correlation to pois (persons of interest).\n",
    "I don't even know what 'other' is, and neither am I familiar with 'restricted_stock' and 'exercised_stock_options'.\n",
    "I can probably understand 'total_stock_value', however I know that high-ranking pois were selling off their stocks of the company towards the end, and I just generally don't know enough about the stock market to handle these values well. I also am unsure about what 'expenses' are logged in the so-named variable, so for this analysis I kept it aside.\n",
    "\n",
    "\n",
    "#### in\n",
    "What I therefore chose to further investigate and train my classifiers on, is 'salary', 'bonus' and 'total_payments', for the more obvious financial-related features. Further I chose 'from_poi_to_this_person' and 'from_this_person_to_poi' from the email corpus data, to investigate a possible relationship indicated of pois sending an increased amount of emails between each other than towards non-pois.\n",
    "And finally I also chose 'shared_receipt_with_poi' from the financial dataset. This is another more exploratoy feature, but it got me interested to look for trends here (and to properly understand what does this mean).\n"
   ]
  },
  {
   "cell_type": "markdown",
   "metadata": {},
   "source": [
    "### Other Considerations\n",
    "I decided not to employ a Decision Tree algorithm for selecting my features. My main reason for this was, that even though some now-discarded feature might do a good job in predicting pois, I found it dangerous to base this on features that have less than half of the data involved.\n",
    "With 146 people, the dataset is anyways not very large, therefore I wanted to make sure to train and test my algorithms at least on a somewhat representable size."
   ]
  },
  {
   "cell_type": "code",
   "execution_count": 3,
   "metadata": {
    "collapsed": false
   },
   "outputs": [
    {
     "data": {
      "text/html": [
       "<div>\n",
       "<table border=\"1\" class=\"dataframe\">\n",
       "  <thead>\n",
       "    <tr style=\"text-align: right;\">\n",
       "      <th></th>\n",
       "      <th>bonus</th>\n",
       "      <th>from_poi_to_this_person</th>\n",
       "      <th>from_this_person_to_poi</th>\n",
       "      <th>poi</th>\n",
       "      <th>salary</th>\n",
       "      <th>shared_receipt_with_poi</th>\n",
       "      <th>total_payments</th>\n",
       "    </tr>\n",
       "  </thead>\n",
       "  <tbody>\n",
       "    <tr>\n",
       "      <th>ALLEN PHILLIP K</th>\n",
       "      <td>4175000</td>\n",
       "      <td>47</td>\n",
       "      <td>65</td>\n",
       "      <td>False</td>\n",
       "      <td>201955</td>\n",
       "      <td>1407</td>\n",
       "      <td>4484442</td>\n",
       "    </tr>\n",
       "    <tr>\n",
       "      <th>BADUM JAMES P</th>\n",
       "      <td>NaN</td>\n",
       "      <td>NaN</td>\n",
       "      <td>NaN</td>\n",
       "      <td>False</td>\n",
       "      <td>NaN</td>\n",
       "      <td>NaN</td>\n",
       "      <td>182466</td>\n",
       "    </tr>\n",
       "    <tr>\n",
       "      <th>BANNANTINE JAMES M</th>\n",
       "      <td>NaN</td>\n",
       "      <td>39</td>\n",
       "      <td>0</td>\n",
       "      <td>False</td>\n",
       "      <td>477</td>\n",
       "      <td>465</td>\n",
       "      <td>916197</td>\n",
       "    </tr>\n",
       "    <tr>\n",
       "      <th>BAXTER JOHN C</th>\n",
       "      <td>1200000</td>\n",
       "      <td>NaN</td>\n",
       "      <td>NaN</td>\n",
       "      <td>False</td>\n",
       "      <td>267102</td>\n",
       "      <td>NaN</td>\n",
       "      <td>5634343</td>\n",
       "    </tr>\n",
       "    <tr>\n",
       "      <th>BAY FRANKLIN R</th>\n",
       "      <td>400000</td>\n",
       "      <td>NaN</td>\n",
       "      <td>NaN</td>\n",
       "      <td>False</td>\n",
       "      <td>239671</td>\n",
       "      <td>NaN</td>\n",
       "      <td>827696</td>\n",
       "    </tr>\n",
       "  </tbody>\n",
       "</table>\n",
       "</div>"
      ],
      "text/plain": [
       "                      bonus from_poi_to_this_person from_this_person_to_poi  \\\n",
       "ALLEN PHILLIP K     4175000                      47                      65   \n",
       "BADUM JAMES P           NaN                     NaN                     NaN   \n",
       "BANNANTINE JAMES M      NaN                      39                       0   \n",
       "BAXTER JOHN C       1200000                     NaN                     NaN   \n",
       "BAY FRANKLIN R       400000                     NaN                     NaN   \n",
       "\n",
       "                      poi  salary shared_receipt_with_poi total_payments  \n",
       "ALLEN PHILLIP K     False  201955                    1407        4484442  \n",
       "BADUM JAMES P       False     NaN                     NaN         182466  \n",
       "BANNANTINE JAMES M  False     477                     465         916197  \n",
       "BAXTER JOHN C       False  267102                     NaN        5634343  \n",
       "BAY FRANKLIN R      False  239671                     NaN         827696  "
      ]
     },
     "execution_count": 3,
     "metadata": {},
     "output_type": "execute_result"
    }
   ],
   "source": [
    "# preparing a pandas DF for easier access\n",
    "import pandas as pd\n",
    "\n",
    "enron_df = pd.DataFrame(data_dict)\n",
    "# better in the other format\n",
    "enron_df = enron_df.transpose()\n",
    "\n",
    "# reducing the dataframe for better overview\n",
    "for c in enron_df.columns:\n",
    "    if c not in features_list:\n",
    "        enron_df.drop(c, axis=1, inplace=True)\n",
    "enron_df.head()"
   ]
  },
  {
   "cell_type": "markdown",
   "metadata": {},
   "source": [
    "## Outliers?\n",
    "Checking whether all is sound in the data."
   ]
  },
  {
   "cell_type": "code",
   "execution_count": 4,
   "metadata": {
    "collapsed": false
   },
   "outputs": [
    {
     "data": {
      "text/plain": [
       "<matplotlib.collections.PathCollection at 0x1089047d0>"
      ]
     },
     "execution_count": 4,
     "metadata": {},
     "output_type": "execute_result"
    },
    {
     "name": "stderr",
     "output_type": "stream",
     "text": [
      "/Applications/anaconda/lib/python2.7/site-packages/matplotlib/collections.py:590: FutureWarning: elementwise comparison failed; returning scalar instead, but in the future will perform elementwise comparison\n",
      "  if self._edgecolors == str('face'):\n"
     ]
    },
    {
     "data": {
      "image/png": "[encoded data removed]",
      "text/plain": [
       "<matplotlib.figure.Figure at 0x107fca550>"
      ]
     },
     "metadata": {},
     "output_type": "display_data"
    }
   ],
   "source": [
    "%matplotlib inline\n",
    "from matplotlib import pyplot as plt\n",
    "\n",
    "plt.scatter(enron_df['bonus'], enron_df['salary'])"
   ]
  },
  {
   "cell_type": "markdown",
   "metadata": {},
   "source": [
    "Gotcha! Let's take a closer loook at this one all the way up there!"
   ]
  },
  {
   "cell_type": "markdown",
   "metadata": {},
   "source": [
    "I had a little trouble here when trying to find the `max()` value of the columns. The code only returned me `NaN` as the max. After a while I figured that this is because the `'NaN'` values were actually **strings**, not `None` type. Here I figured this out and went ahead to transform them into actual `NaN`."
   ]
  },
  {
   "cell_type": "code",
   "execution_count": 5,
   "metadata": {
    "collapsed": false
   },
   "outputs": [
    {
     "name": "stdout",
     "output_type": "stream",
     "text": [
      "<type 'str'>\n"
     ]
    }
   ],
   "source": [
    "print type(enron_df['salary'][1])"
   ]
  },
  {
   "cell_type": "code",
   "execution_count": 6,
   "metadata": {
    "collapsed": false
   },
   "outputs": [
    {
     "data": {
      "text/plain": [
       "ALLEN PHILLIP K       False\n",
       "BADUM JAMES P         False\n",
       "BANNANTINE JAMES M    False\n",
       "BAXTER JOHN C         False\n",
       "BAY FRANKLIN R        False\n",
       "Name: salary, dtype: bool"
      ]
     },
     "execution_count": 6,
     "metadata": {},
     "output_type": "execute_result"
    }
   ],
   "source": [
    "enron_df['salary'].isnull().head()"
   ]
  },
  {
   "cell_type": "code",
   "execution_count": 7,
   "metadata": {
    "collapsed": false
   },
   "outputs": [
    {
     "data": {
      "text/html": [
       "<div>\n",
       "<table border=\"1\" class=\"dataframe\">\n",
       "  <thead>\n",
       "    <tr style=\"text-align: right;\">\n",
       "      <th></th>\n",
       "      <th>bonus</th>\n",
       "      <th>from_poi_to_this_person</th>\n",
       "      <th>from_this_person_to_poi</th>\n",
       "      <th>poi</th>\n",
       "      <th>salary</th>\n",
       "      <th>shared_receipt_with_poi</th>\n",
       "      <th>total_payments</th>\n",
       "    </tr>\n",
       "  </thead>\n",
       "  <tbody>\n",
       "    <tr>\n",
       "      <th>ALLEN PHILLIP K</th>\n",
       "      <td>4175000</td>\n",
       "      <td>47</td>\n",
       "      <td>65</td>\n",
       "      <td>False</td>\n",
       "      <td>201955</td>\n",
       "      <td>1407</td>\n",
       "      <td>4484442</td>\n",
       "    </tr>\n",
       "    <tr>\n",
       "      <th>BADUM JAMES P</th>\n",
       "      <td>NaN</td>\n",
       "      <td>NaN</td>\n",
       "      <td>NaN</td>\n",
       "      <td>False</td>\n",
       "      <td>NaN</td>\n",
       "      <td>NaN</td>\n",
       "      <td>182466</td>\n",
       "    </tr>\n",
       "    <tr>\n",
       "      <th>BANNANTINE JAMES M</th>\n",
       "      <td>NaN</td>\n",
       "      <td>39</td>\n",
       "      <td>0</td>\n",
       "      <td>False</td>\n",
       "      <td>477</td>\n",
       "      <td>465</td>\n",
       "      <td>916197</td>\n",
       "    </tr>\n",
       "    <tr>\n",
       "      <th>BAXTER JOHN C</th>\n",
       "      <td>1200000</td>\n",
       "      <td>NaN</td>\n",
       "      <td>NaN</td>\n",
       "      <td>False</td>\n",
       "      <td>267102</td>\n",
       "      <td>NaN</td>\n",
       "      <td>5634343</td>\n",
       "    </tr>\n",
       "    <tr>\n",
       "      <th>BAY FRANKLIN R</th>\n",
       "      <td>400000</td>\n",
       "      <td>NaN</td>\n",
       "      <td>NaN</td>\n",
       "      <td>False</td>\n",
       "      <td>239671</td>\n",
       "      <td>NaN</td>\n",
       "      <td>827696</td>\n",
       "    </tr>\n",
       "  </tbody>\n",
       "</table>\n",
       "</div>"
      ],
      "text/plain": [
       "                      bonus  from_poi_to_this_person  from_this_person_to_poi  \\\n",
       "ALLEN PHILLIP K     4175000                       47                       65   \n",
       "BADUM JAMES P           NaN                      NaN                      NaN   \n",
       "BANNANTINE JAMES M      NaN                       39                        0   \n",
       "BAXTER JOHN C       1200000                      NaN                      NaN   \n",
       "BAY FRANKLIN R       400000                      NaN                      NaN   \n",
       "\n",
       "                      poi  salary  shared_receipt_with_poi  total_payments  \n",
       "ALLEN PHILLIP K     False  201955                     1407         4484442  \n",
       "BADUM JAMES P       False     NaN                      NaN          182466  \n",
       "BANNANTINE JAMES M  False     477                      465          916197  \n",
       "BAXTER JOHN C       False  267102                      NaN         5634343  \n",
       "BAY FRANKLIN R      False  239671                      NaN          827696  "
      ]
     },
     "execution_count": 7,
     "metadata": {},
     "output_type": "execute_result"
    }
   ],
   "source": [
    "enron_df.replace(['NaN'], [None], inplace=True)\n",
    "enron_df.head()"
   ]
  },
  {
   "cell_type": "code",
   "execution_count": 8,
   "metadata": {
    "collapsed": false
   },
   "outputs": [
    {
     "data": {
      "text/plain": [
       "ALLEN PHILLIP K       False\n",
       "BADUM JAMES P          True\n",
       "BANNANTINE JAMES M    False\n",
       "BAXTER JOHN C         False\n",
       "BAY FRANKLIN R        False\n",
       "Name: salary, dtype: bool"
      ]
     },
     "execution_count": 8,
     "metadata": {},
     "output_type": "execute_result"
    }
   ],
   "source": [
    "enron_df['salary'].isnull().head()"
   ]
  },
  {
   "cell_type": "markdown",
   "metadata": {},
   "source": [
    "Okay, with that out of the way, I can finally target my outlier."
   ]
  },
  {
   "cell_type": "code",
   "execution_count": 9,
   "metadata": {
    "collapsed": false
   },
   "outputs": [],
   "source": [
    "outlier = enron_df['salary'].max()"
   ]
  },
  {
   "cell_type": "code",
   "execution_count": 10,
   "metadata": {
    "collapsed": false
   },
   "outputs": [
    {
     "name": "stdout",
     "output_type": "stream",
     "text": [
      "          bonus  from_poi_to_this_person  from_this_person_to_poi    poi  \\\n",
      "TOTAL  97343619                      NaN                      NaN  False   \n",
      "\n",
      "         salary  shared_receipt_with_poi  total_payments  \n",
      "TOTAL  26704229                      NaN       309886585  \n"
     ]
    }
   ],
   "source": [
    "print enron_df.loc[enron_df['salary'] == outlier]"
   ]
  },
  {
   "cell_type": "markdown",
   "metadata": {},
   "source": [
    "Yep. \"Mr. Total\" was not one of the main players in the fraud - this row can be safely removed."
   ]
  },
  {
   "cell_type": "code",
   "execution_count": 11,
   "metadata": {
    "collapsed": false
   },
   "outputs": [
    {
     "data": {
      "text/html": [
       "<div>\n",
       "<table border=\"1\" class=\"dataframe\">\n",
       "  <thead>\n",
       "    <tr style=\"text-align: right;\">\n",
       "      <th></th>\n",
       "      <th>bonus</th>\n",
       "      <th>from_poi_to_this_person</th>\n",
       "      <th>from_this_person_to_poi</th>\n",
       "      <th>poi</th>\n",
       "      <th>salary</th>\n",
       "      <th>shared_receipt_with_poi</th>\n",
       "      <th>total_payments</th>\n",
       "    </tr>\n",
       "  </thead>\n",
       "  <tbody>\n",
       "    <tr>\n",
       "      <th>ALLEN PHILLIP K</th>\n",
       "      <td>4175000</td>\n",
       "      <td>47</td>\n",
       "      <td>65</td>\n",
       "      <td>False</td>\n",
       "      <td>201955</td>\n",
       "      <td>1407</td>\n",
       "      <td>4484442</td>\n",
       "    </tr>\n",
       "    <tr>\n",
       "      <th>BADUM JAMES P</th>\n",
       "      <td>NaN</td>\n",
       "      <td>NaN</td>\n",
       "      <td>NaN</td>\n",
       "      <td>False</td>\n",
       "      <td>NaN</td>\n",
       "      <td>NaN</td>\n",
       "      <td>182466</td>\n",
       "    </tr>\n",
       "    <tr>\n",
       "      <th>BANNANTINE JAMES M</th>\n",
       "      <td>NaN</td>\n",
       "      <td>39</td>\n",
       "      <td>0</td>\n",
       "      <td>False</td>\n",
       "      <td>477</td>\n",
       "      <td>465</td>\n",
       "      <td>916197</td>\n",
       "    </tr>\n",
       "    <tr>\n",
       "      <th>BAXTER JOHN C</th>\n",
       "      <td>1200000</td>\n",
       "      <td>NaN</td>\n",
       "      <td>NaN</td>\n",
       "      <td>False</td>\n",
       "      <td>267102</td>\n",
       "      <td>NaN</td>\n",
       "      <td>5634343</td>\n",
       "    </tr>\n",
       "    <tr>\n",
       "      <th>BAY FRANKLIN R</th>\n",
       "      <td>400000</td>\n",
       "      <td>NaN</td>\n",
       "      <td>NaN</td>\n",
       "      <td>False</td>\n",
       "      <td>239671</td>\n",
       "      <td>NaN</td>\n",
       "      <td>827696</td>\n",
       "    </tr>\n",
       "  </tbody>\n",
       "</table>\n",
       "</div>"
      ],
      "text/plain": [
       "                      bonus  from_poi_to_this_person  from_this_person_to_poi  \\\n",
       "ALLEN PHILLIP K     4175000                       47                       65   \n",
       "BADUM JAMES P           NaN                      NaN                      NaN   \n",
       "BANNANTINE JAMES M      NaN                       39                        0   \n",
       "BAXTER JOHN C       1200000                      NaN                      NaN   \n",
       "BAY FRANKLIN R       400000                      NaN                      NaN   \n",
       "\n",
       "                      poi  salary  shared_receipt_with_poi  total_payments  \n",
       "ALLEN PHILLIP K     False  201955                     1407         4484442  \n",
       "BADUM JAMES P       False     NaN                      NaN          182466  \n",
       "BANNANTINE JAMES M  False     477                      465          916197  \n",
       "BAXTER JOHN C       False  267102                      NaN         5634343  \n",
       "BAY FRANKLIN R      False  239671                      NaN          827696  "
      ]
     },
     "execution_count": 11,
     "metadata": {},
     "output_type": "execute_result"
    }
   ],
   "source": [
    "enron_df = enron_df[enron_df.salary != outlier]\n",
    "enron_df.head()"
   ]
  },
  {
   "cell_type": "code",
   "execution_count": 12,
   "metadata": {
    "collapsed": false
   },
   "outputs": [
    {
     "name": "stdout",
     "output_type": "stream",
     "text": [
      "1111258.0\n"
     ]
    }
   ],
   "source": [
    "print enron_df['salary'].max()"
   ]
  },
  {
   "cell_type": "markdown",
   "metadata": {},
   "source": [
    "This looks more \"reasonable\". Let's give it up for the graphic."
   ]
  },
  {
   "cell_type": "code",
   "execution_count": 13,
   "metadata": {
    "collapsed": false
   },
   "outputs": [
    {
     "data": {
      "text/plain": [
       "<matplotlib.collections.PathCollection at 0x108aa5250>"
      ]
     },
     "execution_count": 13,
     "metadata": {},
     "output_type": "execute_result"
    },
    {
     "data": {
      "image/png": "[encoded data removed]",
      "text/plain": [
       "<matplotlib.figure.Figure at 0x108904fd0>"
      ]
     },
     "metadata": {},
     "output_type": "display_data"
    }
   ],
   "source": [
    "plt.scatter(enron_df['bonus'], enron_df['salary'])"
   ]
  },
  {
   "cell_type": "markdown",
   "metadata": {},
   "source": [
    "Even though these remaining sums seem highly overpriced as well, these ones are most likely outliers of interest (oois). Some people got a lot of money."
   ]
  },
  {
   "cell_type": "code",
   "execution_count": 14,
   "metadata": {
    "collapsed": false
   },
   "outputs": [
    {
     "name": "stdout",
     "output_type": "stream",
     "text": [
      "                    bonus  from_poi_to_this_person  from_this_person_to_poi  \\\n",
      "BANNANTINE JAMES M    NaN                       39                        0   \n",
      "\n",
      "                      poi  salary  shared_receipt_with_poi  total_payments  \n",
      "BANNANTINE JAMES M  False     477                      465          916197  \n"
     ]
    }
   ],
   "source": [
    "# checking also the minimum\n",
    "min_outlier = enron_df.salary.min()\n",
    "print enron_df.loc[enron_df.salary == min_outlier]"
   ]
  },
  {
   "cell_type": "code",
   "execution_count": 15,
   "metadata": {
    "collapsed": false
   },
   "outputs": [
    {
     "data": {
      "text/plain": [
       "<matplotlib.collections.PathCollection at 0x108cb6e50>"
      ]
     },
     "execution_count": 15,
     "metadata": {},
     "output_type": "execute_result"
    },
    {
     "data": {
      "image/png": "[encoded data removed]",
      "text/plain": [
       "<matplotlib.figure.Figure at 0x108adb7d0>"
      ]
     },
     "metadata": {},
     "output_type": "display_data"
    }
   ],
   "source": [
    "plt.scatter(enron_df.salary, enron_df.total_payments)"
   ]
  },
  {
   "cell_type": "markdown",
   "metadata": {},
   "source": [
    "Another lone rider here, however he might be real..."
   ]
  },
  {
   "cell_type": "code",
   "execution_count": 16,
   "metadata": {
    "collapsed": false
   },
   "outputs": [
    {
     "name": "stdout",
     "output_type": "stream",
     "text": [
      "                 bonus  from_poi_to_this_person  from_this_person_to_poi  \\\n",
      "LAY KENNETH L  7000000                      123                       16   \n",
      "\n",
      "                poi   salary  shared_receipt_with_poi  total_payments  \n",
      "LAY KENNETH L  True  1072321                     2411       103559793  \n"
     ]
    }
   ],
   "source": [
    "outlier = enron_df.total_payments.max()\n",
    "print enron_df.loc[enron_df.total_payments == outlier]"
   ]
  },
  {
   "cell_type": "markdown",
   "metadata": {},
   "source": [
    "Yep... That's one of our men..."
   ]
  },
  {
   "cell_type": "code",
   "execution_count": 17,
   "metadata": {
    "collapsed": false
   },
   "outputs": [
    {
     "name": "stdout",
     "output_type": "stream",
     "text": [
      "                 bonus  from_poi_to_this_person  from_this_person_to_poi  \\\n",
      "MENDELSOHN JOHN    NaN                      NaN                      NaN   \n",
      "\n",
      "                   poi  salary  shared_receipt_with_poi  total_payments  \n",
      "MENDELSOHN JOHN  False     NaN                      NaN             148  \n"
     ]
    }
   ],
   "source": [
    "# checking also the minimum\n",
    "min_outlier = enron_df.total_payments.min()\n",
    "print enron_df.loc[enron_df.total_payments == min_outlier]"
   ]
  },
  {
   "cell_type": "markdown",
   "metadata": {},
   "source": [
    "This person seems not very useful for doing any predictions, considering that he has only one value filled (`total payments`). I will run a test to remove rows that have >= 50% of my chosen features missing."
   ]
  },
  {
   "cell_type": "markdown",
   "metadata": {},
   "source": [
    "Let's take a look at the rest of the data."
   ]
  },
  {
   "cell_type": "code",
   "execution_count": 18,
   "metadata": {
    "collapsed": false
   },
   "outputs": [
    {
     "data": {
      "text/plain": [
       "<matplotlib.collections.PathCollection at 0x108f17690>"
      ]
     },
     "execution_count": 18,
     "metadata": {},
     "output_type": "execute_result"
    },
    {
     "data": {
      "image/png": "[encoded data removed]",
      "text/plain": [
       "<matplotlib.figure.Figure at 0x108cd2610>"
      ]
     },
     "metadata": {},
     "output_type": "display_data"
    }
   ],
   "source": [
    "plt.scatter(enron_df.shared_receipt_with_poi, enron_df.from_poi_to_this_person)"
   ]
  },
  {
   "cell_type": "code",
   "execution_count": 19,
   "metadata": {
    "collapsed": false
   },
   "outputs": [
    {
     "name": "stdout",
     "output_type": "stream",
     "text": [
      "                    bonus  from_poi_to_this_person  from_this_person_to_poi  \\\n",
      "BELDEN TIMOTHY N  5249999                      228                      108   \n",
      "\n",
      "                   poi  salary  shared_receipt_with_poi  total_payments  \n",
      "BELDEN TIMOTHY N  True  213999                     5521         5501630  \n"
     ]
    }
   ],
   "source": [
    "def display_outlier(column_name):\n",
    "    outlier = enron_df[column_name].max()\n",
    "    print enron_df.loc[enron_df[column_name] == outlier]\n",
    "    \n",
    "display_outlier('shared_receipt_with_poi')"
   ]
  },
  {
   "cell_type": "code",
   "execution_count": 20,
   "metadata": {
    "collapsed": false
   },
   "outputs": [
    {
     "data": {
      "text/plain": [
       "<matplotlib.collections.PathCollection at 0x109156350>"
      ]
     },
     "execution_count": 20,
     "metadata": {},
     "output_type": "execute_result"
    },
    {
     "data": {
      "image/png": "[encoded data removed]",
      "text/plain": [
       "<matplotlib.figure.Figure at 0x108f4ac90>"
      ]
     },
     "metadata": {},
     "output_type": "display_data"
    }
   ],
   "source": [
    "plt.scatter(enron_df.from_poi_to_this_person, enron_df.from_this_person_to_poi)"
   ]
  },
  {
   "cell_type": "code",
   "execution_count": 21,
   "metadata": {
    "collapsed": false
   },
   "outputs": [
    {
     "name": "stdout",
     "output_type": "stream",
     "text": [
      "                   bonus  from_poi_to_this_person  from_this_person_to_poi  \\\n",
      "LAVORATO JOHN J  8000000                      528                      411   \n",
      "\n",
      "                   poi  salary  shared_receipt_with_poi  total_payments  \n",
      "LAVORATO JOHN J  False  339288                     3962        10425757  \n",
      "                    bonus  from_poi_to_this_person  from_this_person_to_poi  \\\n",
      "DELAINEY DAVID W  3000000                       66                      609   \n",
      "\n",
      "                   poi  salary  shared_receipt_with_poi  total_payments  \n",
      "DELAINEY DAVID W  True  365163                     2097         4747979  \n"
     ]
    }
   ],
   "source": [
    "display_outlier('from_poi_to_this_person')\n",
    "display_outlier('from_this_person_to_poi')"
   ]
  },
  {
   "cell_type": "markdown",
   "metadata": {},
   "source": [
    "Yep, the rest is all to keep. Outlier detection terminated."
   ]
  },
  {
   "cell_type": "markdown",
   "metadata": {},
   "source": [
    "### Removing (near) empty rows\n",
    "Because scarce data is probably not very useful for prediction, I will remove rows that have >= 50% data missing of my chosen features."
   ]
  },
  {
   "cell_type": "code",
   "execution_count": 22,
   "metadata": {
    "collapsed": false
   },
   "outputs": [
    {
     "name": "stdout",
     "output_type": "stream",
     "text": [
      "number of rows before removing those with scarce feature data: 145\n",
      "number of rows after removing those with scarce feature data: 106\n"
     ]
    }
   ],
   "source": [
    "print \"number of rows before removing those with scarce feature data:\", len(enron_df)\n",
    "more_than_half_features = len(features_list) - len(features_list) / 2\n",
    "enron_df.dropna(axis='index', thresh=more_than_half_features, inplace=True)\n",
    "print \"number of rows after removing those with scarce feature data:\",  len(enron_df)"
   ]
  },
  {
   "cell_type": "markdown",
   "metadata": {},
   "source": [
    "## A new feature"
   ]
  },
  {
   "cell_type": "code",
   "execution_count": 23,
   "metadata": {
    "collapsed": false
   },
   "outputs": [
    {
     "data": {
      "text/html": [
       "<div>\n",
       "<table border=\"1\" class=\"dataframe\">\n",
       "  <thead>\n",
       "    <tr style=\"text-align: right;\">\n",
       "      <th></th>\n",
       "      <th>bonus</th>\n",
       "      <th>from_poi_to_this_person</th>\n",
       "      <th>from_this_person_to_poi</th>\n",
       "      <th>poi</th>\n",
       "      <th>salary</th>\n",
       "      <th>shared_receipt_with_poi</th>\n",
       "      <th>total_payments</th>\n",
       "    </tr>\n",
       "  </thead>\n",
       "  <tbody>\n",
       "    <tr>\n",
       "      <th>ALLEN PHILLIP K</th>\n",
       "      <td>4175000</td>\n",
       "      <td>47</td>\n",
       "      <td>65</td>\n",
       "      <td>False</td>\n",
       "      <td>201955</td>\n",
       "      <td>1407</td>\n",
       "      <td>4484442</td>\n",
       "    </tr>\n",
       "    <tr>\n",
       "      <th>BANNANTINE JAMES M</th>\n",
       "      <td>NaN</td>\n",
       "      <td>39</td>\n",
       "      <td>0</td>\n",
       "      <td>False</td>\n",
       "      <td>477</td>\n",
       "      <td>465</td>\n",
       "      <td>916197</td>\n",
       "    </tr>\n",
       "    <tr>\n",
       "      <th>BAXTER JOHN C</th>\n",
       "      <td>1200000</td>\n",
       "      <td>NaN</td>\n",
       "      <td>NaN</td>\n",
       "      <td>False</td>\n",
       "      <td>267102</td>\n",
       "      <td>NaN</td>\n",
       "      <td>5634343</td>\n",
       "    </tr>\n",
       "    <tr>\n",
       "      <th>BAY FRANKLIN R</th>\n",
       "      <td>400000</td>\n",
       "      <td>NaN</td>\n",
       "      <td>NaN</td>\n",
       "      <td>False</td>\n",
       "      <td>239671</td>\n",
       "      <td>NaN</td>\n",
       "      <td>827696</td>\n",
       "    </tr>\n",
       "    <tr>\n",
       "      <th>BECK SALLY W</th>\n",
       "      <td>700000</td>\n",
       "      <td>144</td>\n",
       "      <td>386</td>\n",
       "      <td>False</td>\n",
       "      <td>231330</td>\n",
       "      <td>2639</td>\n",
       "      <td>969068</td>\n",
       "    </tr>\n",
       "  </tbody>\n",
       "</table>\n",
       "</div>"
      ],
      "text/plain": [
       "                      bonus  from_poi_to_this_person  from_this_person_to_poi  \\\n",
       "ALLEN PHILLIP K     4175000                       47                       65   \n",
       "BANNANTINE JAMES M      NaN                       39                        0   \n",
       "BAXTER JOHN C       1200000                      NaN                      NaN   \n",
       "BAY FRANKLIN R       400000                      NaN                      NaN   \n",
       "BECK SALLY W         700000                      144                      386   \n",
       "\n",
       "                      poi  salary  shared_receipt_with_poi  total_payments  \n",
       "ALLEN PHILLIP K     False  201955                     1407         4484442  \n",
       "BANNANTINE JAMES M  False     477                      465          916197  \n",
       "BAXTER JOHN C       False  267102                      NaN         5634343  \n",
       "BAY FRANKLIN R      False  239671                      NaN          827696  \n",
       "BECK SALLY W        False  231330                     2639          969068  "
      ]
     },
     "execution_count": 23,
     "metadata": {},
     "output_type": "execute_result"
    }
   ],
   "source": [
    "enron_df.head()"
   ]
  },
  {
   "cell_type": "code",
   "execution_count": 24,
   "metadata": {
    "collapsed": false
   },
   "outputs": [],
   "source": [
    "def email_perc(row):\n",
    "    one_way = row['from_this_person_to_poi']\n",
    "    the_other = row['from_poi_to_this_person']\n",
    "    \n",
    "    ratio = 0\n",
    "    if one_way != 0 and the_other != 0:\n",
    "        ratio = float(one_way) / the_other\n",
    "    return ratio"
   ]
  },
  {
   "cell_type": "code",
   "execution_count": 25,
   "metadata": {
    "collapsed": false
   },
   "outputs": [
    {
     "data": {
      "text/html": [
       "<div>\n",
       "<table border=\"1\" class=\"dataframe\">\n",
       "  <thead>\n",
       "    <tr style=\"text-align: right;\">\n",
       "      <th></th>\n",
       "      <th>bonus</th>\n",
       "      <th>from_poi_to_this_person</th>\n",
       "      <th>from_this_person_to_poi</th>\n",
       "      <th>poi</th>\n",
       "      <th>salary</th>\n",
       "      <th>shared_receipt_with_poi</th>\n",
       "      <th>total_payments</th>\n",
       "      <th>sent_received_ratio</th>\n",
       "    </tr>\n",
       "  </thead>\n",
       "  <tbody>\n",
       "    <tr>\n",
       "      <th>ALLEN PHILLIP K</th>\n",
       "      <td>4175000</td>\n",
       "      <td>47</td>\n",
       "      <td>65</td>\n",
       "      <td>False</td>\n",
       "      <td>201955</td>\n",
       "      <td>1407</td>\n",
       "      <td>4484442</td>\n",
       "      <td>1.382979</td>\n",
       "    </tr>\n",
       "    <tr>\n",
       "      <th>BANNANTINE JAMES M</th>\n",
       "      <td>NaN</td>\n",
       "      <td>39</td>\n",
       "      <td>0</td>\n",
       "      <td>False</td>\n",
       "      <td>477</td>\n",
       "      <td>465</td>\n",
       "      <td>916197</td>\n",
       "      <td>0.000000</td>\n",
       "    </tr>\n",
       "    <tr>\n",
       "      <th>BAXTER JOHN C</th>\n",
       "      <td>1200000</td>\n",
       "      <td>NaN</td>\n",
       "      <td>NaN</td>\n",
       "      <td>False</td>\n",
       "      <td>267102</td>\n",
       "      <td>NaN</td>\n",
       "      <td>5634343</td>\n",
       "      <td>NaN</td>\n",
       "    </tr>\n",
       "    <tr>\n",
       "      <th>BAY FRANKLIN R</th>\n",
       "      <td>400000</td>\n",
       "      <td>NaN</td>\n",
       "      <td>NaN</td>\n",
       "      <td>False</td>\n",
       "      <td>239671</td>\n",
       "      <td>NaN</td>\n",
       "      <td>827696</td>\n",
       "      <td>NaN</td>\n",
       "    </tr>\n",
       "    <tr>\n",
       "      <th>BECK SALLY W</th>\n",
       "      <td>700000</td>\n",
       "      <td>144</td>\n",
       "      <td>386</td>\n",
       "      <td>False</td>\n",
       "      <td>231330</td>\n",
       "      <td>2639</td>\n",
       "      <td>969068</td>\n",
       "      <td>2.680556</td>\n",
       "    </tr>\n",
       "  </tbody>\n",
       "</table>\n",
       "</div>"
      ],
      "text/plain": [
       "                      bonus  from_poi_to_this_person  from_this_person_to_poi  \\\n",
       "ALLEN PHILLIP K     4175000                       47                       65   \n",
       "BANNANTINE JAMES M      NaN                       39                        0   \n",
       "BAXTER JOHN C       1200000                      NaN                      NaN   \n",
       "BAY FRANKLIN R       400000                      NaN                      NaN   \n",
       "BECK SALLY W         700000                      144                      386   \n",
       "\n",
       "                      poi  salary  shared_receipt_with_poi  total_payments  \\\n",
       "ALLEN PHILLIP K     False  201955                     1407         4484442   \n",
       "BANNANTINE JAMES M  False     477                      465          916197   \n",
       "BAXTER JOHN C       False  267102                      NaN         5634343   \n",
       "BAY FRANKLIN R      False  239671                      NaN          827696   \n",
       "BECK SALLY W        False  231330                     2639          969068   \n",
       "\n",
       "                    sent_received_ratio  \n",
       "ALLEN PHILLIP K                1.382979  \n",
       "BANNANTINE JAMES M             0.000000  \n",
       "BAXTER JOHN C                       NaN  \n",
       "BAY FRANKLIN R                      NaN  \n",
       "BECK SALLY W                   2.680556  "
      ]
     },
     "execution_count": 25,
     "metadata": {},
     "output_type": "execute_result"
    }
   ],
   "source": [
    "enron_df[\"sent_received_ratio\"] = enron_df.apply(lambda row: email_perc(row), axis=1)\n",
    "enron_df.head()"
   ]
  },
  {
   "cell_type": "code",
   "execution_count": 26,
   "metadata": {
    "collapsed": false
   },
   "outputs": [
    {
     "data": {
      "text/plain": [
       "<matplotlib.collections.PathCollection at 0x10927b750>"
      ]
     },
     "execution_count": 26,
     "metadata": {},
     "output_type": "execute_result"
    },
    {
     "data": {
      "image/png": "[encoded data removed]",
      "text/plain": [
       "<matplotlib.figure.Figure at 0x109192b50>"
      ]
     },
     "metadata": {},
     "output_type": "display_data"
    }
   ],
   "source": [
    "plt.scatter(enron_df.bonus, enron_df.sent_received_ratio)\n",
    "# c=lambda x: \"red\" if (enron_df.poi == True) else \"blue\""
   ]
  },
  {
   "cell_type": "code",
   "execution_count": 27,
   "metadata": {
    "collapsed": false
   },
   "outputs": [
    {
     "name": "stdout",
     "output_type": "stream",
     "text": [
      "                    bonus  from_poi_to_this_person  from_this_person_to_poi  \\\n",
      "DELAINEY DAVID W  3000000                       66                      609   \n",
      "\n",
      "                   poi  salary  shared_receipt_with_poi  total_payments  \\\n",
      "DELAINEY DAVID W  True  365163                     2097         4747979   \n",
      "\n",
      "                  sent_received_ratio  \n",
      "DELAINEY DAVID W             9.227273  \n"
     ]
    }
   ],
   "source": [
    "display_outlier('sent_received_ratio')"
   ]
  },
  {
   "cell_type": "markdown",
   "metadata": {},
   "source": []
  },
  {
   "cell_type": "markdown",
   "metadata": {},
   "source": [
    "Seems I'll need a non-empty-value dataset for building my classifiers. `0` would work, however this would be false information because for the `NaN` values there is actually now record, and not a `0` record."
   ]
  },
  {
   "cell_type": "code",
   "execution_count": 28,
   "metadata": {
    "collapsed": false
   },
   "outputs": [
    {
     "data": {
      "text/html": [
       "<div>\n",
       "<table border=\"1\" class=\"dataframe\">\n",
       "  <thead>\n",
       "    <tr style=\"text-align: right;\">\n",
       "      <th></th>\n",
       "      <th>bonus</th>\n",
       "      <th>from_poi_to_this_person</th>\n",
       "      <th>from_this_person_to_poi</th>\n",
       "      <th>poi</th>\n",
       "      <th>salary</th>\n",
       "      <th>shared_receipt_with_poi</th>\n",
       "      <th>total_payments</th>\n",
       "      <th>sent_received_ratio</th>\n",
       "    </tr>\n",
       "  </thead>\n",
       "  <tbody>\n",
       "    <tr>\n",
       "      <th>ALLEN PHILLIP K</th>\n",
       "      <td>4175000</td>\n",
       "      <td>47</td>\n",
       "      <td>65</td>\n",
       "      <td>False</td>\n",
       "      <td>201955</td>\n",
       "      <td>1407</td>\n",
       "      <td>4484442</td>\n",
       "      <td>1.382979</td>\n",
       "    </tr>\n",
       "    <tr>\n",
       "      <th>BECK SALLY W</th>\n",
       "      <td>700000</td>\n",
       "      <td>144</td>\n",
       "      <td>386</td>\n",
       "      <td>False</td>\n",
       "      <td>231330</td>\n",
       "      <td>2639</td>\n",
       "      <td>969068</td>\n",
       "      <td>2.680556</td>\n",
       "    </tr>\n",
       "    <tr>\n",
       "      <th>BELDEN TIMOTHY N</th>\n",
       "      <td>5249999</td>\n",
       "      <td>228</td>\n",
       "      <td>108</td>\n",
       "      <td>True</td>\n",
       "      <td>213999</td>\n",
       "      <td>5521</td>\n",
       "      <td>5501630</td>\n",
       "      <td>0.473684</td>\n",
       "    </tr>\n",
       "    <tr>\n",
       "      <th>BERGSIEKER RICHARD P</th>\n",
       "      <td>250000</td>\n",
       "      <td>4</td>\n",
       "      <td>0</td>\n",
       "      <td>False</td>\n",
       "      <td>187922</td>\n",
       "      <td>233</td>\n",
       "      <td>618850</td>\n",
       "      <td>0.000000</td>\n",
       "    </tr>\n",
       "    <tr>\n",
       "      <th>BIBI PHILIPPE A</th>\n",
       "      <td>1000000</td>\n",
       "      <td>23</td>\n",
       "      <td>8</td>\n",
       "      <td>False</td>\n",
       "      <td>213625</td>\n",
       "      <td>1336</td>\n",
       "      <td>2047593</td>\n",
       "      <td>0.347826</td>\n",
       "    </tr>\n",
       "  </tbody>\n",
       "</table>\n",
       "</div>"
      ],
      "text/plain": [
       "                        bonus  from_poi_to_this_person  \\\n",
       "ALLEN PHILLIP K       4175000                       47   \n",
       "BECK SALLY W           700000                      144   \n",
       "BELDEN TIMOTHY N      5249999                      228   \n",
       "BERGSIEKER RICHARD P   250000                        4   \n",
       "BIBI PHILIPPE A       1000000                       23   \n",
       "\n",
       "                      from_this_person_to_poi    poi  salary  \\\n",
       "ALLEN PHILLIP K                            65  False  201955   \n",
       "BECK SALLY W                              386  False  231330   \n",
       "BELDEN TIMOTHY N                          108   True  213999   \n",
       "BERGSIEKER RICHARD P                        0  False  187922   \n",
       "BIBI PHILIPPE A                             8  False  213625   \n",
       "\n",
       "                      shared_receipt_with_poi  total_payments  \\\n",
       "ALLEN PHILLIP K                          1407         4484442   \n",
       "BECK SALLY W                             2639          969068   \n",
       "BELDEN TIMOTHY N                         5521         5501630   \n",
       "BERGSIEKER RICHARD P                      233          618850   \n",
       "BIBI PHILIPPE A                          1336         2047593   \n",
       "\n",
       "                      sent_received_ratio  \n",
       "ALLEN PHILLIP K                  1.382979  \n",
       "BECK SALLY W                     2.680556  \n",
       "BELDEN TIMOTHY N                 0.473684  \n",
       "BERGSIEKER RICHARD P             0.000000  \n",
       "BIBI PHILIPPE A                  0.347826  "
      ]
     },
     "execution_count": 28,
     "metadata": {},
     "output_type": "execute_result"
    }
   ],
   "source": [
    "enron_no_na = enron_df.dropna()\n",
    "enron_no_na.head()"
   ]
  },
  {
   "cell_type": "code",
   "execution_count": 29,
   "metadata": {
    "collapsed": false
   },
   "outputs": [
    {
     "name": "stdout",
     "output_type": "stream",
     "text": [
      "{'salary': 365788.0, 'sent_received_ratio': 0.02631578947368421, 'total_payments': 1061827.0, 'bonus': 600000.0, 'shared_receipt_with_poi': 702.0, 'from_this_person_to_poi': 1.0, 'poi': False, 'from_poi_to_this_person': 38.0} \n",
      "\n",
      "{'salary': 365788.0, 'sent_received_ratio': 0.02631578947368421, 'total_payments': 1061827.0, 'bonus': 600000.0, 'shared_receipt_with_poi': 702.0, 'from_this_person_to_poi': 1.0, 'poi': False, 'from_poi_to_this_person': 38.0} \n",
      "\n",
      "{'salary': 201955.0, 'sent_received_ratio': 1.3829787234042554, 'total_payments': 4484442.0, 'bonus': 4175000.0, 'shared_receipt_with_poi': 1407.0, 'from_this_person_to_poi': 65.0, 'poi': False, 'from_poi_to_this_person': 47.0}\n"
     ]
    }
   ],
   "source": [
    "# reformat the pandas df to a dict, for further processing with the lesson code\n",
    "my_dataset = enron_df.to_dict(orient='index')\n",
    "no_na_dataset = enron_no_na.to_dict(orient='index')\n",
    "median_dataset = enron_df.fillna(enron_df.median().to_dict()).to_dict(orient='index')\n",
    "\n",
    "print my_dataset['METTS MARK'], '\\n'\n",
    "print no_na_dataset['METTS MARK'], '\\n'\n",
    "print median_dataset['ALLEN PHILLIP K']"
   ]
  },
  {
   "cell_type": "markdown",
   "metadata": {},
   "source": [
    "Here I'll be choosing the final features_list, that will exclude the two features `from_this_person_to_poi` and `from_poi_to_this_person`, and instead include the newly created ratio `sent_received_ratio`."
   ]
  },
  {
   "cell_type": "code",
   "execution_count": 30,
   "metadata": {
    "collapsed": false
   },
   "outputs": [],
   "source": [
    "features_list.remove('from_this_person_to_poi')\n",
    "features_list.remove('from_poi_to_this_person')"
   ]
  },
  {
   "cell_type": "code",
   "execution_count": 31,
   "metadata": {
    "collapsed": false
   },
   "outputs": [
    {
     "name": "stdout",
     "output_type": "stream",
     "text": [
      "['poi', 'shared_receipt_with_poi', 'salary', 'total_payments', 'bonus']\n"
     ]
    }
   ],
   "source": [
    "print features_list"
   ]
  },
  {
   "cell_type": "code",
   "execution_count": 32,
   "metadata": {
    "collapsed": false
   },
   "outputs": [],
   "source": [
    "### Extract features and labels from datasets for local testing\n",
    "data = featureFormat(my_dataset, features_list, sort_keys = True)\n",
    "labels, features = targetFeatureSplit(data)\n",
    "\n",
    "# creating a dataset without NaN values (removing the rows that contain NaN)\n",
    "no_na_data = featureFormat(no_na_dataset, features_list, sort_keys = True)\n",
    "no_na_labels, no_na_features = targetFeatureSplit(no_na_data)\n",
    "\n",
    "# creating a dataset with NaN replaced by the median\n",
    "median_data = featureFormat(median_dataset, features_list, sort_keys = True)\n",
    "median_labels, median_features = targetFeatureSplit(median_data)"
   ]
  },
  {
   "cell_type": "markdown",
   "metadata": {},
   "source": [
    "## Classifiers"
   ]
  },
  {
   "cell_type": "markdown",
   "metadata": {},
   "source": [
    "Splitting my data into test and training data. I'll be using 30% of the data for testing purposes.\n",
    "\n",
    "Because there are a bunch of `NaN` values in the dataset, I tried to versions of analysis with my dataset:\n",
    "\n",
    "1. removing the rows that contain `NaN` values\n",
    "2. filling them with the **median**\n",
    "\n",
    "I decided for the median over the mean, because **outliers** (in the form of at least the already identified pois) are present and important to the data and the prediction. When using the mean on the now-empty values, these outliers would severly alter the distribution. Therefore I chose the median, because it is resisting outlier-influence."
   ]
  },
  {
   "cell_type": "code",
   "execution_count": 33,
   "metadata": {
    "collapsed": true
   },
   "outputs": [],
   "source": [
    "from sklearn.cross_validation import train_test_split\n",
    "\n",
    "# features without filtering\n",
    "features_train, features_test, labels_train, labels_test = train_test_split(features, labels, test_size=0.3, random_state=42)\n",
    "# features filtered, NaN values removed\n",
    "no_na_features_train, no_na_features_test, no_na_labels_train, no_na_labels_test = train_test_split(no_na_features, no_na_labels, test_size=0.3, random_state=42)\n",
    "# features filtered, NaN replaced with the median\n",
    "median_features_train, median_features_test, median_labels_train, median_labels_test = train_test_split(median_features, median_labels, test_size=0.3, random_state=42)\n",
    "\n",
    "# creating lists:\n",
    "full_feat_list = [features_train, features_test, labels_train, labels_test]\n",
    "no_na_list = [no_na_features_train, no_na_features_test, no_na_labels_train, no_na_labels_test]\n",
    "median_list = [median_features_train, median_features_test, median_labels_train, median_labels_test]"
   ]
  },
  {
   "cell_type": "code",
   "execution_count": 34,
   "metadata": {
    "collapsed": true
   },
   "outputs": [],
   "source": [
    "def test_classifier(classifier_obj, data, scale=False):\n",
    "    \"\"\"Measures the time and accuracy of a given classifier.\n",
    "    \n",
    "    Takes as input a classifiert object (tuned or untuned)\n",
    "    and a list containing the training and testing features and labels\n",
    "    in this form:\n",
    "    data = [features_train, features_test, labels_train, labels_test]\n",
    "    Prints processing time and overall accuracy score.\n",
    "    \"\"\"\n",
    "    from time import time\n",
    "    from sklearn.metrics import accuracy_score\n",
    "    from sklearn.preprocessing import MinMaxScaler\n",
    "    \n",
    "    # scaling the data when the type of algorithm demands this\n",
    "    if scale == True:\n",
    "        scaler = MinMaxScaler()\n",
    "        features_train = scaler.fit_transform(data[0])\n",
    "        features_test = scaler.transform(data[1])\n",
    "    else:\n",
    "        features_train = data[0]\n",
    "        features_test = data[1]\n",
    "    labels_train = data[2]\n",
    "    labels_test = data[3]\n",
    "    \n",
    "    # taking the time the algorithm runs\n",
    "    t0 = time()\n",
    "    classifier_obj.fit(features_train, labels_train)\n",
    "    print \"training time:\", round(time()-t0, 3), \"s\"\n",
    "    \n",
    "    # taking time for prediction\n",
    "    t1 = time()\n",
    "    pred = classifier_obj.predict(features_test)\n",
    "    print \"predicting time:\", round(time()-t1, 3), \"s\"\n",
    "    \n",
    "    acc = accuracy_score(labels_test, pred)\n",
    "    print \"accuracy:\", acc\n",
    "    \n",
    "    print construct_CM(labels_test, pred)\n",
    "    print calculate_f1(labels_test, pred)"
   ]
  },
  {
   "cell_type": "code",
   "execution_count": 35,
   "metadata": {
    "collapsed": false
   },
   "outputs": [],
   "source": [
    "def get_CM_nums(true_labels, predictions, CM_type):\n",
    "    \"\"\"Calculates the number of elements in the different cells of a confusion matrix.\n",
    "\n",
    "    Takes as input the true labels and the predictions, both as lists.\n",
    "    Further a specification of the metric wanted as an abbreviated string:\n",
    "    'TP' for True Positives, 'FP' for False Positives\n",
    "    'TN' for True Negatives, 'FN' for False Negatives\n",
    "    Returns the amount of the specified metric.\n",
    "    \"\"\"\n",
    "    import numpy as np\n",
    "    \n",
    "    if CM_type == \"TP\" or CM_type == \"TN\":\n",
    "        if CM_type == \"TP\":\n",
    "            CM_type = 1\n",
    "        elif CM_type == \"TN\":\n",
    "            CM_type = 0\n",
    "        cpp = [1 for j in zip(true_labels, predictions) if j[0] == j[1] and j[1] == CM_type]\n",
    "    elif CM_type == \"FP\" or CM_type == \"FN\":\n",
    "        if CM_type == \"FP\":\n",
    "            CM_type = 1\n",
    "        elif CM_type == \"FN\":\n",
    "            CM_type = 0\n",
    "        cpp = [1 for j in zip(true_labels, predictions) if j[0] != j[1] and j[1] == CM_type]\n",
    "    else:\n",
    "        print \"error, please enter TP, TN, FP, or FN.\"\n",
    "    num_cpp = np.sum(cpp)\n",
    "    return int(num_cpp)\n",
    "\n",
    "def construct_CM(true_labels, predictions):\n",
    "    \"\"\"Wrapper function to calculate the confusion matrix and returns a formatted string.\n",
    "\n",
    "    Takes as input the true labels and the predictions, both as lists.\n",
    "    Calls get_CM_nums() with all possible inputs (TP, FP, TN, FN)\n",
    "    Returns a formatted string representing the confusion martrix that is easy to read.\n",
    "    \"\"\"\n",
    "    num_TP = get_CM_nums(true_labels, predictions, \"TP\")\n",
    "    num_TN = get_CM_nums(true_labels, predictions, \"TN\")\n",
    "    num_FP = get_CM_nums(true_labels, predictions, \"FP\")\n",
    "    num_FN = get_CM_nums(true_labels, predictions, \"FN\")\n",
    "\n",
    "    return \"\"\"confusion matrix:                  \n",
    "              predicted class\n",
    "              _Yes_|__No_\n",
    "actual | Yes |  {0}  |  {3}\n",
    "class  | No  |  {2}  |  {1}\"\"\".format(num_TP, num_TN, num_FP, num_FN)\n",
    "\n",
    "def calculate_f1(true_labels, predictions):\n",
    "    \"\"\"Calculates statistical metrics for the classifier's prediction.\n",
    "    \n",
    "    Takes as input the true labels and the predictions, both as lists.\n",
    "    Returns a string containing the scores for precision recall and the f1-score.\n",
    "    \"\"\"\n",
    "    from sklearn.metrics import precision_score\n",
    "    from sklearn.metrics import recall_score\n",
    "    from sklearn.metrics import f1_score\n",
    "    \n",
    "    precision = precision_score(true_labels, predictions)\n",
    "    recall = recall_score(true_labels, predictions)\n",
    "    f1_score =  f1_score(true_labels, predictions)\n",
    "    return \"\"\"precision: {0}\n",
    "recall:    {1}\n",
    "f1_score:  {2}\"\"\".format(precision, recall, f1_score)"
   ]
  },
  {
   "cell_type": "markdown",
   "metadata": {},
   "source": [
    "### Naive Bayes"
   ]
  },
  {
   "cell_type": "code",
   "execution_count": 36,
   "metadata": {
    "collapsed": false
   },
   "outputs": [
    {
     "name": "stdout",
     "output_type": "stream",
     "text": [
      "training time: 0.001 s\n",
      "predicting time: 0.0 s\n",
      "accuracy: 0.684210526316\n",
      "confusion matrix:                  \n",
      "              predicted class\n",
      "              _Yes_|__No_\n",
      "actual | Yes |  1  |  4\n",
      "class  | No  |  2  |  12\n",
      "precision: 0.333333333333\n",
      "recall:    0.2\n",
      "f1_score:  0.25\n"
     ]
    }
   ],
   "source": [
    "from sklearn.naive_bayes import GaussianNB\n",
    "\n",
    "clf = GaussianNB()\n",
    "test_classifier(clf, no_na_list)"
   ]
  },
  {
   "cell_type": "markdown",
   "metadata": {},
   "source": [
    "#### HIGHEST NAIVE BAYES"
   ]
  },
  {
   "cell_type": "code",
   "execution_count": 37,
   "metadata": {
    "collapsed": false
   },
   "outputs": [
    {
     "name": "stdout",
     "output_type": "stream",
     "text": [
      "training time: 0.002 s\n",
      "predicting time: 0.0 s\n",
      "accuracy: 0.75\n",
      "confusion matrix:                  \n",
      "              predicted class\n",
      "              _Yes_|__No_\n",
      "actual | Yes |  0  |  6\n",
      "class  | No  |  2  |  24\n",
      "precision: 0.0\n",
      "recall:    0.0\n",
      "f1_score:  0.0\n"
     ]
    }
   ],
   "source": [
    "from sklearn.naive_bayes import GaussianNB\n",
    "\n",
    "clf = GaussianNB()\n",
    "test_classifier(clf, median_list)"
   ]
  },
  {
   "cell_type": "markdown",
   "metadata": {},
   "source": [
    "Oh! this is the best so far! substituting with the median seems to have helped.\n",
    "However... what happens to **booleans** when you call a median() on them?!"
   ]
  },
  {
   "cell_type": "code",
   "execution_count": 38,
   "metadata": {
    "collapsed": false
   },
   "outputs": [
    {
     "data": {
      "text/plain": [
       "0.0"
      ]
     },
     "execution_count": 38,
     "metadata": {},
     "output_type": "execute_result"
    }
   ],
   "source": [
    "enron_df.poi.median()"
   ]
  },
  {
   "cell_type": "markdown",
   "metadata": {},
   "source": [
    "Okay, seems to be okay, it returns `0.0`, which should be interpreted as `False`. Also, all the values for poi should actually be filled in."
   ]
  },
  {
   "cell_type": "markdown",
   "metadata": {},
   "source": [
    "### SVM"
   ]
  },
  {
   "cell_type": "code",
   "execution_count": 39,
   "metadata": {
    "collapsed": false
   },
   "outputs": [
    {
     "name": "stdout",
     "output_type": "stream",
     "text": [
      "training time: 0.001 s\n",
      "predicting time: 0.0 s\n",
      "accuracy: 0.736842105263\n",
      "confusion matrix:                  \n",
      "              predicted class\n",
      "              _Yes_|__No_\n",
      "actual | Yes |  0  |  5\n",
      "class  | No  |  0  |  14\n",
      "precision: 0.0\n",
      "recall:    0.0\n",
      "f1_score:  0.0\n"
     ]
    },
    {
     "name": "stderr",
     "output_type": "stream",
     "text": [
      "/Applications/anaconda/lib/python2.7/site-packages/sklearn/metrics/classification.py:958: UndefinedMetricWarning: Precision is ill-defined and being set to 0.0 due to no predicted samples.\n",
      "  'precision', 'predicted', average, warn_for)\n",
      "/Applications/anaconda/lib/python2.7/site-packages/sklearn/metrics/classification.py:958: UndefinedMetricWarning: F-score is ill-defined and being set to 0.0 due to no predicted samples.\n",
      "  'precision', 'predicted', average, warn_for)\n"
     ]
    }
   ],
   "source": [
    "from sklearn.svm import SVC\n",
    "\n",
    "# 'rbf' is the default kernel used\n",
    "clf = SVC()\n",
    "test_classifier(clf, no_na_list, scale=True)"
   ]
  },
  {
   "cell_type": "code",
   "execution_count": 40,
   "metadata": {
    "collapsed": false
   },
   "outputs": [
    {
     "name": "stdout",
     "output_type": "stream",
     "text": [
      "training time: 0.001 s\n",
      "predicting time: 0.0 s\n",
      "accuracy: 0.8125\n",
      "confusion matrix:                  \n",
      "              predicted class\n",
      "              _Yes_|__No_\n",
      "actual | Yes |  0  |  6\n",
      "class  | No  |  0  |  26\n",
      "precision: 0.0\n",
      "recall:    0.0\n",
      "f1_score:  0.0\n"
     ]
    }
   ],
   "source": [
    "from sklearn.svm import SVC\n",
    "\n",
    "# 'rbf' is the default kernel used\n",
    "clf = SVC()\n",
    "test_classifier(clf, median_list, scale=True)"
   ]
  },
  {
   "cell_type": "code",
   "execution_count": 41,
   "metadata": {
    "collapsed": false
   },
   "outputs": [
    {
     "name": "stdout",
     "output_type": "stream",
     "text": [
      "training time: 0.0 s\n",
      "predicting time: 0.0 s\n",
      "accuracy: 0.736842105263\n",
      "confusion matrix:                  \n",
      "              predicted class\n",
      "              _Yes_|__No_\n",
      "actual | Yes |  0  |  5\n",
      "class  | No  |  0  |  14\n",
      "precision: 0.0\n",
      "recall:    0.0\n",
      "f1_score:  0.0\n"
     ]
    }
   ],
   "source": [
    "# ‘linear’, ‘poly’, ‘rbf’, ‘sigmoid’, ‘precomputed’\n",
    "\n",
    "from sklearn.svm import SVC\n",
    "\n",
    "# running with 'linear' went on so long that I ended up terminating the process\n",
    "# and \"precomputed\" returned an error\n",
    "\n",
    "clf = SVC(kernel=\"sigmoid\")\n",
    "test_classifier(clf, no_na_list, scale=True)"
   ]
  },
  {
   "cell_type": "code",
   "execution_count": 42,
   "metadata": {
    "collapsed": false
   },
   "outputs": [
    {
     "name": "stdout",
     "output_type": "stream",
     "text": [
      "training time: 0.001 s\n",
      "predicting time: 0.0 s\n",
      "accuracy: 0.8125\n",
      "confusion matrix:                  \n",
      "              predicted class\n",
      "              _Yes_|__No_\n",
      "actual | Yes |  0  |  6\n",
      "class  | No  |  0  |  26\n",
      "precision: 0.0\n",
      "recall:    0.0\n",
      "f1_score:  0.0\n"
     ]
    }
   ],
   "source": [
    "from sklearn.svm import SVC\n",
    "\n",
    "clf = SVC(kernel=\"sigmoid\")\n",
    "test_classifier(clf, median_list, scale=True)"
   ]
  },
  {
   "cell_type": "markdown",
   "metadata": {},
   "source": [
    "### Decision Trees"
   ]
  },
  {
   "cell_type": "code",
   "execution_count": 43,
   "metadata": {
    "collapsed": false
   },
   "outputs": [
    {
     "name": "stdout",
     "output_type": "stream",
     "text": [
      "training time: 0.001 s\n",
      "predicting time: 0.003 s\n",
      "accuracy: 0.578947368421\n",
      "confusion matrix:                  \n",
      "              predicted class\n",
      "              _Yes_|__No_\n",
      "actual | Yes |  1  |  4\n",
      "class  | No  |  4  |  10\n",
      "precision: 0.2\n",
      "recall:    0.2\n",
      "f1_score:  0.2\n"
     ]
    }
   ],
   "source": [
    "from sklearn.tree import DecisionTreeClassifier\n",
    "\n",
    "clf = DecisionTreeClassifier()\n",
    "test_classifier(clf, no_na_list)"
   ]
  },
  {
   "cell_type": "code",
   "execution_count": 44,
   "metadata": {
    "collapsed": false
   },
   "outputs": [
    {
     "name": "stdout",
     "output_type": "stream",
     "text": [
      "training time: 0.001 s\n",
      "predicting time: 0.0 s\n",
      "accuracy: 0.6875\n",
      "confusion matrix:                  \n",
      "              predicted class\n",
      "              _Yes_|__No_\n",
      "actual | Yes |  0  |  6\n",
      "class  | No  |  4  |  22\n",
      "precision: 0.0\n",
      "recall:    0.0\n",
      "f1_score:  0.0\n"
     ]
    }
   ],
   "source": [
    "from sklearn.tree import DecisionTreeClassifier\n",
    "\n",
    "clf = DecisionTreeClassifier()\n",
    "test_classifier(clf, median_list)"
   ]
  },
  {
   "cell_type": "code",
   "execution_count": 45,
   "metadata": {
    "collapsed": false
   },
   "outputs": [
    {
     "name": "stdout",
     "output_type": "stream",
     "text": [
      "training time: 0.001 s\n",
      "predicting time: 0.0 s\n",
      "accuracy: 0.684210526316\n",
      "confusion matrix:                  \n",
      "              predicted class\n",
      "              _Yes_|__No_\n",
      "actual | Yes |  2  |  3\n",
      "class  | No  |  3  |  11\n",
      "precision: 0.4\n",
      "recall:    0.4\n",
      "f1_score:  0.4\n"
     ]
    }
   ],
   "source": [
    "from sklearn.tree import DecisionTreeClassifier\n",
    "\n",
    "clf = DecisionTreeClassifier(max_features=\"sqrt\")\n",
    "test_classifier(clf, no_na_list)"
   ]
  },
  {
   "cell_type": "code",
   "execution_count": 46,
   "metadata": {
    "collapsed": false
   },
   "outputs": [
    {
     "name": "stdout",
     "output_type": "stream",
     "text": [
      "training time: 0.001 s\n",
      "predicting time: 0.0 s\n",
      "accuracy: 0.75\n",
      "confusion matrix:                  \n",
      "              predicted class\n",
      "              _Yes_|__No_\n",
      "actual | Yes |  2  |  4\n",
      "class  | No  |  4  |  22\n",
      "precision: 0.333333333333\n",
      "recall:    0.333333333333\n",
      "f1_score:  0.333333333333\n"
     ]
    }
   ],
   "source": [
    "from sklearn.tree import DecisionTreeClassifier\n",
    "\n",
    "clf = DecisionTreeClassifier(max_features=\"sqrt\")\n",
    "test_classifier(clf, median_list)"
   ]
  },
  {
   "cell_type": "code",
   "execution_count": 47,
   "metadata": {
    "collapsed": false
   },
   "outputs": [
    {
     "name": "stdout",
     "output_type": "stream",
     "text": [
      "training time: 0.001 s\n",
      "predicting time: 0.0 s\n",
      "accuracy: 0.526315789474\n",
      "confusion matrix:                  \n",
      "              predicted class\n",
      "              _Yes_|__No_\n",
      "actual | Yes |  1  |  4\n",
      "class  | No  |  5  |  9\n",
      "precision: 0.166666666667\n",
      "recall:    0.2\n",
      "f1_score:  0.181818181818\n"
     ]
    }
   ],
   "source": [
    "from sklearn.tree import DecisionTreeClassifier\n",
    "\n",
    "clf = DecisionTreeClassifier(max_features=\"log2\")\n",
    "test_classifier(clf, no_na_list)"
   ]
  },
  {
   "cell_type": "code",
   "execution_count": 48,
   "metadata": {
    "collapsed": false
   },
   "outputs": [
    {
     "name": "stdout",
     "output_type": "stream",
     "text": [
      "training time: 0.001 s\n",
      "predicting time: 0.0 s\n",
      "accuracy: 0.71875\n",
      "confusion matrix:                  \n",
      "              predicted class\n",
      "              _Yes_|__No_\n",
      "actual | Yes |  0  |  6\n",
      "class  | No  |  3  |  23\n",
      "precision: 0.0\n",
      "recall:    0.0\n",
      "f1_score:  0.0\n"
     ]
    }
   ],
   "source": [
    "from sklearn.tree import DecisionTreeClassifier\n",
    "\n",
    "clf = DecisionTreeClassifier(max_features=\"log2\")\n",
    "test_classifier(clf, median_list)"
   ]
  },
  {
   "cell_type": "markdown",
   "metadata": {},
   "source": [
    "Oh, reducing the amount of features increases the accurcacy quite some."
   ]
  },
  {
   "cell_type": "code",
   "execution_count": 49,
   "metadata": {
    "collapsed": false
   },
   "outputs": [
    {
     "name": "stdout",
     "output_type": "stream",
     "text": [
      "training time: 0.001 s\n",
      "predicting time: 0.0 s\n",
      "accuracy: 0.578947368421\n",
      "confusion matrix:                  \n",
      "              predicted class\n",
      "              _Yes_|__No_\n",
      "actual | Yes |  2  |  3\n",
      "class  | No  |  5  |  9\n",
      "precision: 0.285714285714\n",
      "recall:    0.4\n",
      "f1_score:  0.333333333333\n"
     ]
    }
   ],
   "source": [
    "from sklearn.tree import DecisionTreeClassifier\n",
    "\n",
    "clf = DecisionTreeClassifier(max_features=1)\n",
    "test_classifier(clf, no_na_list)"
   ]
  },
  {
   "cell_type": "code",
   "execution_count": 50,
   "metadata": {
    "collapsed": false
   },
   "outputs": [
    {
     "name": "stdout",
     "output_type": "stream",
     "text": [
      "training time: 0.001 s\n",
      "predicting time: 0.0 s\n",
      "accuracy: 0.71875\n",
      "confusion matrix:                  \n",
      "              predicted class\n",
      "              _Yes_|__No_\n",
      "actual | Yes |  1  |  5\n",
      "class  | No  |  4  |  22\n",
      "precision: 0.2\n",
      "recall:    0.166666666667\n",
      "f1_score:  0.181818181818\n"
     ]
    }
   ],
   "source": [
    "from sklearn.tree import DecisionTreeClassifier\n",
    "\n",
    "clf = DecisionTreeClassifier(max_features=1)\n",
    "test_classifier(clf, median_list)"
   ]
  },
  {
   "cell_type": "markdown",
   "metadata": {},
   "source": [
    "### K-nearest Neighbours"
   ]
  },
  {
   "cell_type": "code",
   "execution_count": 51,
   "metadata": {
    "collapsed": false
   },
   "outputs": [
    {
     "name": "stdout",
     "output_type": "stream",
     "text": [
      "training time: 0.001 s\n",
      "predicting time: 0.001 s\n",
      "accuracy: 0.736842105263\n",
      "confusion matrix:                  \n",
      "              predicted class\n",
      "              _Yes_|__No_\n",
      "actual | Yes |  0  |  5\n",
      "class  | No  |  0  |  14\n",
      "precision: 0.0\n",
      "recall:    0.0\n",
      "f1_score:  0.0\n"
     ]
    }
   ],
   "source": [
    "from sklearn.neighbors import KNeighborsClassifier\n",
    "\n",
    "neigh = KNeighborsClassifier()\n",
    "test_classifier(neigh, no_na_list, scale=True)"
   ]
  },
  {
   "cell_type": "code",
   "execution_count": 52,
   "metadata": {
    "collapsed": false
   },
   "outputs": [
    {
     "name": "stdout",
     "output_type": "stream",
     "text": [
      "training time: 0.0 s\n",
      "predicting time: 0.001 s\n",
      "accuracy: 0.78125\n",
      "confusion matrix:                  \n",
      "              predicted class\n",
      "              _Yes_|__No_\n",
      "actual | Yes |  0  |  6\n",
      "class  | No  |  1  |  25\n",
      "precision: 0.0\n",
      "recall:    0.0\n",
      "f1_score:  0.0\n"
     ]
    }
   ],
   "source": [
    "from sklearn.neighbors import KNeighborsClassifier\n",
    "\n",
    "neigh = KNeighborsClassifier()\n",
    "test_classifier(neigh, median_list, scale=True)"
   ]
  },
  {
   "cell_type": "code",
   "execution_count": 53,
   "metadata": {
    "collapsed": false
   },
   "outputs": [
    {
     "name": "stdout",
     "output_type": "stream",
     "text": [
      "training time: 0.0 s\n",
      "predicting time: 0.001 s\n",
      "accuracy: 0.684210526316\n",
      "confusion matrix:                  \n",
      "              predicted class\n",
      "              _Yes_|__No_\n",
      "actual | Yes |  2  |  3\n",
      "class  | No  |  3  |  11\n",
      "precision: 0.4\n",
      "recall:    0.4\n",
      "f1_score:  0.4\n"
     ]
    }
   ],
   "source": [
    "neigh = KNeighborsClassifier(n_neighbors=1)\n",
    "test_classifier(neigh, no_na_list, scale=True)"
   ]
  },
  {
   "cell_type": "code",
   "execution_count": 54,
   "metadata": {
    "collapsed": false
   },
   "outputs": [
    {
     "name": "stdout",
     "output_type": "stream",
     "text": [
      "training time: 0.001 s\n",
      "predicting time: 0.001 s\n",
      "accuracy: 0.71875\n",
      "confusion matrix:                  \n",
      "              predicted class\n",
      "              _Yes_|__No_\n",
      "actual | Yes |  0  |  6\n",
      "class  | No  |  3  |  23\n",
      "precision: 0.0\n",
      "recall:    0.0\n",
      "f1_score:  0.0\n"
     ]
    }
   ],
   "source": [
    "neigh = KNeighborsClassifier(n_neighbors=1)\n",
    "test_classifier(neigh, median_list, scale=True)"
   ]
  },
  {
   "cell_type": "markdown",
   "metadata": {},
   "source": [
    "Strange: it shows a lower accuracy at `n_neighbors=1`, but caps at `0.736842105263` starting from `n_neighbors=2`.\n",
    "Not quite sure why that's the case."
   ]
  },
  {
   "cell_type": "code",
   "execution_count": 55,
   "metadata": {
    "collapsed": true
   },
   "outputs": [],
   "source": [
    "from testalot import test_a_lot"
   ]
  },
  {
   "cell_type": "code",
   "execution_count": 56,
   "metadata": {
    "collapsed": true
   },
   "outputs": [],
   "source": [
    "def test_a_lot(training_test_list):\n",
    "\tfrom sklearn.naive_bayes import GaussianNB\n",
    "\tfrom sklearn.svm import SVC\n",
    "\tfrom sklearn.tree import DecisionTreeClassifier\n",
    "\tfrom sklearn.neighbors import KNeighborsClassifier\n",
    "\n",
    "\tprint \"PERFORMANCE RESULTS OF DIFFERENT CLASSIFIERS\"\n",
    "\n",
    "\t### Naive Bayes\n",
    "\tprint \"\\n\\n\\n### NAIVE BAYES ###\"\n",
    "\tclf = GaussianNB()\n",
    "\ttest_classifier(clf, training_test_list)\n",
    "\n",
    "\n",
    "\t### Support Vector Machines\n",
    "\tprint \"\\n\\n\\n### SUPPORT VECTOR MACHINES ###\"\n",
    "\t# 'rbf' is the default kernel used\n",
    "\tprint \"# with 'rbf' kernel\"\n",
    "\tclf = SVC()\n",
    "\ttest_classifier(clf, training_test_list, scale=True)\n",
    "\tprint '\\n'\n",
    "\n",
    "\t# 'sigmoid'\n",
    "\tprint \"# with 'sigmoid' kernel\"\n",
    "\tclf = SVC(kernel=\"sigmoid\")\n",
    "\ttest_classifier(clf, training_test_list, scale=True)\n",
    "\n",
    "\n",
    "\t### Decision Trees\n",
    "\tprint \"\\n\\n\\n### DECISION TREES ###\"\n",
    "\t# 'max_features' default is None = n_features\n",
    "\tprint \"# using all features\"\n",
    "\tclf = DecisionTreeClassifier()\n",
    "\ttest_classifier(clf, training_test_list)\n",
    "\tprint '\\n'\n",
    "\n",
    "\t# 'sqrt'\n",
    "\tprint \"# using the square root of the features\"\n",
    "\tclf = DecisionTreeClassifier(max_features=\"sqrt\")\n",
    "\ttest_classifier(clf, training_test_list)\n",
    "\tprint '\\n'\n",
    "\n",
    "\t# 'log2'\n",
    "\tprint \"# using the log2 of the features\"\n",
    "\tclf = DecisionTreeClassifier(max_features=\"log2\")\n",
    "\ttest_classifier(clf, training_test_list)\n",
    "\tprint '\\n'\n",
    "\n",
    "\t# 1\n",
    "\tprint \"# using 1 feature\"\n",
    "\tclf = DecisionTreeClassifier(max_features=1)\n",
    "\ttest_classifier(clf, training_test_list)\n",
    "\n",
    "\n",
    "\t### K-nearest Neighbours\n",
    "\tprint \"\\n\\n\\n### K-NEAREST NEIGHBORS ###\"\n",
    "\t# 'n_neighbors' defaUlt is 5\n",
    "\tprint \"# with k = 5\"\n",
    "\tneigh = KNeighborsClassifier()\n",
    "\ttest_classifier(neigh, training_test_list, scale=True)\n",
    "\tprint '\\n'\n",
    "\n",
    "\t# 1\n",
    "\tprint \"# with k = 1\"\n",
    "\tneigh = KNeighborsClassifier(n_neighbors=1)\n",
    "\ttest_classifier(neigh, training_test_list, scale=True)"
   ]
  },
  {
   "cell_type": "code",
   "execution_count": 57,
   "metadata": {
    "collapsed": false
   },
   "outputs": [
    {
     "name": "stdout",
     "output_type": "stream",
     "text": [
      "PERFORMANCE RESULTS OF DIFFERENT CLASSIFIERS\n",
      "\n",
      "\n",
      "\n",
      "### NAIVE BAYES ###\n",
      "training time: 0.001 s\n",
      "predicting time: 0.0 s\n",
      "accuracy: 0.684210526316\n",
      "confusion matrix:                  \n",
      "              predicted class\n",
      "              _Yes_|__No_\n",
      "actual | Yes |  1  |  4\n",
      "class  | No  |  2  |  12\n",
      "precision: 0.333333333333\n",
      "recall:    0.2\n",
      "f1_score:  0.25\n",
      "\n",
      "\n",
      "\n",
      "### SUPPORT VECTOR MACHINES ###\n",
      "# with 'rbf' kernel\n",
      "training time: 0.0 s\n",
      "predicting time: 0.0 s\n",
      "accuracy: 0.736842105263\n",
      "confusion matrix:                  \n",
      "              predicted class\n",
      "              _Yes_|__No_\n",
      "actual | Yes |  0  |  5\n",
      "class  | No  |  0  |  14\n",
      "precision: 0.0\n",
      "recall:    0.0\n",
      "f1_score:  0.0\n",
      "\n",
      "\n",
      "# with 'sigmoid' kernel\n",
      "training time: 0.0 s\n",
      "predicting time: 0.0 s\n",
      "accuracy: 0.736842105263\n",
      "confusion matrix:                  \n",
      "              predicted class\n",
      "              _Yes_|__No_\n",
      "actual | Yes |  0  |  5\n",
      "class  | No  |  0  |  14\n",
      "precision: 0.0\n",
      "recall:    0.0\n",
      "f1_score:  0.0\n",
      "\n",
      "\n",
      "\n",
      "### DECISION TREES ###\n",
      "# using all features\n",
      "training time: 0.002 s\n",
      "predicting time: 0.0 s\n",
      "accuracy: 0.631578947368\n",
      "confusion matrix:                  \n",
      "              predicted class\n",
      "              _Yes_|__No_\n",
      "actual | Yes |  2  |  3\n",
      "class  | No  |  4  |  10\n",
      "precision: 0.333333333333\n",
      "recall:    0.4\n",
      "f1_score:  0.363636363636\n",
      "\n",
      "\n",
      "# using the square root of the features\n",
      "training time: 0.0 s\n",
      "predicting time: 0.0 s\n",
      "accuracy: 0.736842105263\n",
      "confusion matrix:                  \n",
      "              predicted class\n",
      "              _Yes_|__No_\n",
      "actual | Yes |  2  |  3\n",
      "class  | No  |  2  |  12\n",
      "precision: 0.5\n",
      "recall:    0.4\n",
      "f1_score:  0.444444444444\n",
      "\n",
      "\n",
      "# using the log2 of the features\n",
      "training time: 0.0 s\n",
      "predicting time: 0.0 s\n",
      "accuracy: 0.631578947368\n",
      "confusion matrix:                  \n",
      "              predicted class\n",
      "              _Yes_|__No_\n",
      "actual | Yes |  2  |  3\n",
      "class  | No  |  4  |  10\n",
      "precision: 0.333333333333\n",
      "recall:    0.4\n",
      "f1_score:  0.363636363636\n",
      "\n",
      "\n",
      "# using 1 feature\n",
      "training time: 0.0 s\n",
      "predicting time: 0.0 s\n",
      "accuracy: 0.578947368421\n",
      "confusion matrix:                  \n",
      "              predicted class\n",
      "              _Yes_|__No_\n",
      "actual | Yes |  3  |  2\n",
      "class  | No  |  6  |  8\n",
      "precision: 0.333333333333\n",
      "recall:    0.6\n",
      "f1_score:  0.428571428571\n",
      "\n",
      "\n",
      "\n",
      "### K-NEAREST NEIGHBORS ###\n",
      "# with k = 5\n",
      "training time: 0.0 s\n",
      "predicting time: 0.001 s\n",
      "accuracy: 0.736842105263\n",
      "confusion matrix:                  \n",
      "              predicted class\n",
      "              _Yes_|__No_\n",
      "actual | Yes |  0  |  5\n",
      "class  | No  |  0  |  14\n",
      "precision: 0.0\n",
      "recall:    0.0\n",
      "f1_score:  0.0\n",
      "\n",
      "\n",
      "# with k = 1\n",
      "training time: 0.0 s\n",
      "predicting time: 0.001 s\n",
      "accuracy: 0.684210526316\n",
      "confusion matrix:                  \n",
      "              predicted class\n",
      "              _Yes_|__No_\n",
      "actual | Yes |  2  |  3\n",
      "class  | No  |  3  |  11\n",
      "precision: 0.4\n",
      "recall:    0.4\n",
      "f1_score:  0.4\n"
     ]
    }
   ],
   "source": [
    "test_a_lot(no_na_list)"
   ]
  },
  {
   "cell_type": "code",
   "execution_count": 58,
   "metadata": {
    "collapsed": false
   },
   "outputs": [
    {
     "name": "stdout",
     "output_type": "stream",
     "text": [
      "PERFORMANCE RESULTS OF DIFFERENT CLASSIFIERS\n",
      "\n",
      "\n",
      "\n",
      "### NAIVE BAYES ###\n",
      "training time: 0.001 s\n",
      "predicting time: 0.0 s\n",
      "accuracy: 0.75\n",
      "confusion matrix:                  \n",
      "              predicted class\n",
      "              _Yes_|__No_\n",
      "actual | Yes |  0  |  6\n",
      "class  | No  |  2  |  24\n",
      "precision: 0.0\n",
      "recall:    0.0\n",
      "f1_score:  0.0\n",
      "\n",
      "\n",
      "\n",
      "### SUPPORT VECTOR MACHINES ###\n",
      "# with 'rbf' kernel\n",
      "training time: 0.001 s\n",
      "predicting time: 0.0 s\n",
      "accuracy: 0.8125\n",
      "confusion matrix:                  \n",
      "              predicted class\n",
      "              _Yes_|__No_\n",
      "actual | Yes |  0  |  6\n",
      "class  | No  |  0  |  26\n",
      "precision: 0.0\n",
      "recall:    0.0\n",
      "f1_score:  0.0\n",
      "\n",
      "\n",
      "# with 'sigmoid' kernel\n",
      "training time: 0.001 s\n",
      "predicting time: 0.0 s\n",
      "accuracy: 0.8125\n",
      "confusion matrix:                  \n",
      "              predicted class\n",
      "              _Yes_|__No_\n",
      "actual | Yes |  0  |  6\n",
      "class  | No  |  0  |  26\n",
      "precision: 0.0\n",
      "recall:    0.0\n",
      "f1_score:  0.0\n",
      "\n",
      "\n",
      "\n",
      "### DECISION TREES ###\n",
      "# using all features\n",
      "training time: 0.0 s\n",
      "predicting time: 0.0 s\n",
      "accuracy: 0.71875\n",
      "confusion matrix:                  \n",
      "              predicted class\n",
      "              _Yes_|__No_\n",
      "actual | Yes |  1  |  5\n",
      "class  | No  |  4  |  22\n",
      "precision: 0.2\n",
      "recall:    0.166666666667\n",
      "f1_score:  0.181818181818\n",
      "\n",
      "\n",
      "# using the square root of the features\n",
      "training time: 0.0 s\n",
      "predicting time: 0.0 s\n",
      "accuracy: 0.6875\n",
      "confusion matrix:                  \n",
      "              predicted class\n",
      "              _Yes_|__No_\n",
      "actual | Yes |  2  |  4\n",
      "class  | No  |  6  |  20\n",
      "precision: 0.25\n",
      "recall:    0.333333333333\n",
      "f1_score:  0.285714285714\n",
      "\n",
      "\n",
      "# using the log2 of the features\n",
      "training time: 0.001 s\n",
      "predicting time: 0.0 s\n",
      "accuracy: 0.75\n",
      "confusion matrix:                  \n",
      "              predicted class\n",
      "              _Yes_|__No_\n",
      "actual | Yes |  0  |  6\n",
      "class  | No  |  2  |  24\n",
      "precision: 0.0\n",
      "recall:    0.0\n",
      "f1_score:  0.0\n",
      "\n",
      "\n",
      "# using 1 feature\n",
      "training time: 0.003 s\n",
      "predicting time: 0.0 s\n",
      "accuracy: 0.75\n",
      "confusion matrix:                  \n",
      "              predicted class\n",
      "              _Yes_|__No_\n",
      "actual | Yes |  2  |  4\n",
      "class  | No  |  4  |  22\n",
      "precision: 0.333333333333\n",
      "recall:    0.333333333333\n",
      "f1_score:  0.333333333333\n",
      "\n",
      "\n",
      "\n",
      "### K-NEAREST NEIGHBORS ###\n",
      "# with k = 5\n",
      "training time: 0.0 s\n",
      "predicting time: 0.001 s\n",
      "accuracy: 0.78125\n",
      "confusion matrix:                  \n",
      "              predicted class\n",
      "              _Yes_|__No_\n",
      "actual | Yes |  0  |  6\n",
      "class  | No  |  1  |  25\n",
      "precision: 0.0\n",
      "recall:    0.0\n",
      "f1_score:  0.0\n",
      "\n",
      "\n",
      "# with k = 1\n",
      "training time: 0.0 s\n",
      "predicting time: 0.001 s\n",
      "accuracy: 0.71875\n",
      "confusion matrix:                  \n",
      "              predicted class\n",
      "              _Yes_|__No_\n",
      "actual | Yes |  0  |  6\n",
      "class  | No  |  3  |  23\n",
      "precision: 0.0\n",
      "recall:    0.0\n",
      "f1_score:  0.0\n"
     ]
    }
   ],
   "source": [
    "test_a_lot(median_list)"
   ]
  },
  {
   "cell_type": "markdown",
   "metadata": {},
   "source": [
    "Calculate precision and recall and other stats related to the confusion matrix"
   ]
  },
  {
   "cell_type": "code",
   "execution_count": 59,
   "metadata": {
    "collapsed": false
   },
   "outputs": [
    {
     "name": "stdout",
     "output_type": "stream",
     "text": [
      "2\n"
     ]
    }
   ],
   "source": [
    "import math\n",
    "# amount of features for best estimate\n",
    "best_feat_num = math.log(6, 2)\n",
    "print int(best_feat_num)"
   ]
  },
  {
   "cell_type": "code",
   "execution_count": 62,
   "metadata": {
    "collapsed": false
   },
   "outputs": [
    {
     "data": {
      "text/plain": [
       "2"
      ]
     },
     "execution_count": 62,
     "metadata": {},
     "output_type": "execute_result"
    }
   ],
   "source": [
    "int(math.sqrt(6))"
   ]
  },
  {
   "cell_type": "code",
   "execution_count": null,
   "metadata": {
    "collapsed": true
   },
   "outputs": [],
   "source": []
  }
 ],
 "metadata": {
  "kernelspec": {
   "display_name": "Python 2",
   "language": "python",
   "name": "python2"
  },
  "language_info": {
   "codemirror_mode": {
    "name": "ipython",
    "version": 2
   },
   "file_extension": ".py",
   "mimetype": "text/x-python",
   "name": "python",
   "nbconvert_exporter": "python",
   "pygments_lexer": "ipython2",
   "version": "2.7.10"
  }
 },
 "nbformat": 4,
 "nbformat_minor": 0
}
