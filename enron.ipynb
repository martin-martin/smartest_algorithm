{
 "cells": [
  {
   "cell_type": "markdown",
   "metadata": {},
   "source": [
    "# Looking for the smartest algorithm in the room\n",
    "\n",
    "Machine Learning practice with the **Enron** Email Corpus and Financial Dataset.\n",
    "\n",
    "---\n",
    "\n",
    "Katie's enthusiasm is contractible, so I went ahead to learn a bit. Watching the documentary allowed me to learn quite some new things about that ugly side of the _American Dream_.\n",
    "\n",
    "Here's to some more involvement through a different path."
   ]
  },
  {
   "cell_type": "markdown",
   "metadata": {},
   "source": [
    "## What is this about?\n",
    "Using Machine Learning techniques, I will try to analyze the two combined datasets to try to predict who of the people that are part of the dataset might be persons of interest (poi).\n",
    "I define a poi to be someone who might be worth further investigation, because he or she might be more closely involved in the Enron fraud case than other people who worked at the company at that time.\n",
    "\n",
    "One feature that these predictions will be based on, is the label 'poi', that was manually assembled by Katie Malone from people proven to be involved in the fraud. (Source: http://usatoday30.usatoday.com/money/industries/energy/2005-12-28-enron-participants_x.htm)\n",
    "It therefore represents a key feature for the analysis.\n"
   ]
  },
  {
   "cell_type": "code",
   "execution_count": 354,
   "metadata": {
    "collapsed": true
   },
   "outputs": [],
   "source": [
    "#!/usr/bin/python\n",
    "\n",
    "import sys\n",
    "import pickle\n",
    "import pprint\n",
    "import numpy as np\n",
    "sys.path.append(\"../tools/\")\n",
    "\n",
    "from feature_format import featureFormat, targetFeatureSplit\n",
    "from tester import dump_classifier_and_data\n",
    "\n",
    "%matplotlib inline\n",
    "from matplotlib import pyplot as plt"
   ]
  },
  {
   "cell_type": "code",
   "execution_count": 355,
   "metadata": {
    "collapsed": true
   },
   "outputs": [],
   "source": [
    "### Load the dictionary containing the dataset\n",
    "with open(\"final_project_dataset.pkl\", \"r\") as data_file:\n",
    "    data_dict = pickle.load(data_file)"
   ]
  },
  {
   "cell_type": "code",
   "execution_count": 356,
   "metadata": {
    "collapsed": false
   },
   "outputs": [
    {
     "data": {
      "text/html": [
       "<div>\n",
       "<table border=\"1\" class=\"dataframe\">\n",
       "  <thead>\n",
       "    <tr style=\"text-align: right;\">\n",
       "      <th></th>\n",
       "      <th>bonus</th>\n",
       "      <th>deferral_payments</th>\n",
       "      <th>deferred_income</th>\n",
       "      <th>director_fees</th>\n",
       "      <th>email_address</th>\n",
       "      <th>exercised_stock_options</th>\n",
       "      <th>expenses</th>\n",
       "      <th>from_messages</th>\n",
       "      <th>from_poi_to_this_person</th>\n",
       "      <th>from_this_person_to_poi</th>\n",
       "      <th>...</th>\n",
       "      <th>long_term_incentive</th>\n",
       "      <th>other</th>\n",
       "      <th>poi</th>\n",
       "      <th>restricted_stock</th>\n",
       "      <th>restricted_stock_deferred</th>\n",
       "      <th>salary</th>\n",
       "      <th>shared_receipt_with_poi</th>\n",
       "      <th>to_messages</th>\n",
       "      <th>total_payments</th>\n",
       "      <th>total_stock_value</th>\n",
       "    </tr>\n",
       "  </thead>\n",
       "  <tbody>\n",
       "    <tr>\n",
       "      <th>ALLEN PHILLIP K</th>\n",
       "      <td>4175000</td>\n",
       "      <td>2869717</td>\n",
       "      <td>-3081055</td>\n",
       "      <td>NaN</td>\n",
       "      <td>phillip.allen@enron.com</td>\n",
       "      <td>1729541</td>\n",
       "      <td>13868</td>\n",
       "      <td>2195</td>\n",
       "      <td>47</td>\n",
       "      <td>65</td>\n",
       "      <td>...</td>\n",
       "      <td>304805</td>\n",
       "      <td>152</td>\n",
       "      <td>False</td>\n",
       "      <td>126027</td>\n",
       "      <td>-126027</td>\n",
       "      <td>201955</td>\n",
       "      <td>1407</td>\n",
       "      <td>2902</td>\n",
       "      <td>4484442</td>\n",
       "      <td>1729541</td>\n",
       "    </tr>\n",
       "    <tr>\n",
       "      <th>BADUM JAMES P</th>\n",
       "      <td>NaN</td>\n",
       "      <td>178980</td>\n",
       "      <td>NaN</td>\n",
       "      <td>NaN</td>\n",
       "      <td>NaN</td>\n",
       "      <td>257817</td>\n",
       "      <td>3486</td>\n",
       "      <td>NaN</td>\n",
       "      <td>NaN</td>\n",
       "      <td>NaN</td>\n",
       "      <td>...</td>\n",
       "      <td>NaN</td>\n",
       "      <td>NaN</td>\n",
       "      <td>False</td>\n",
       "      <td>NaN</td>\n",
       "      <td>NaN</td>\n",
       "      <td>NaN</td>\n",
       "      <td>NaN</td>\n",
       "      <td>NaN</td>\n",
       "      <td>182466</td>\n",
       "      <td>257817</td>\n",
       "    </tr>\n",
       "    <tr>\n",
       "      <th>BANNANTINE JAMES M</th>\n",
       "      <td>NaN</td>\n",
       "      <td>NaN</td>\n",
       "      <td>-5104</td>\n",
       "      <td>NaN</td>\n",
       "      <td>james.bannantine@enron.com</td>\n",
       "      <td>4046157</td>\n",
       "      <td>56301</td>\n",
       "      <td>29</td>\n",
       "      <td>39</td>\n",
       "      <td>0</td>\n",
       "      <td>...</td>\n",
       "      <td>NaN</td>\n",
       "      <td>864523</td>\n",
       "      <td>False</td>\n",
       "      <td>1757552</td>\n",
       "      <td>-560222</td>\n",
       "      <td>477</td>\n",
       "      <td>465</td>\n",
       "      <td>566</td>\n",
       "      <td>916197</td>\n",
       "      <td>5243487</td>\n",
       "    </tr>\n",
       "    <tr>\n",
       "      <th>BAXTER JOHN C</th>\n",
       "      <td>1200000</td>\n",
       "      <td>1295738</td>\n",
       "      <td>-1386055</td>\n",
       "      <td>NaN</td>\n",
       "      <td>NaN</td>\n",
       "      <td>6680544</td>\n",
       "      <td>11200</td>\n",
       "      <td>NaN</td>\n",
       "      <td>NaN</td>\n",
       "      <td>NaN</td>\n",
       "      <td>...</td>\n",
       "      <td>1586055</td>\n",
       "      <td>2660303</td>\n",
       "      <td>False</td>\n",
       "      <td>3942714</td>\n",
       "      <td>NaN</td>\n",
       "      <td>267102</td>\n",
       "      <td>NaN</td>\n",
       "      <td>NaN</td>\n",
       "      <td>5634343</td>\n",
       "      <td>10623258</td>\n",
       "    </tr>\n",
       "    <tr>\n",
       "      <th>BAY FRANKLIN R</th>\n",
       "      <td>400000</td>\n",
       "      <td>260455</td>\n",
       "      <td>-201641</td>\n",
       "      <td>NaN</td>\n",
       "      <td>frank.bay@enron.com</td>\n",
       "      <td>NaN</td>\n",
       "      <td>129142</td>\n",
       "      <td>NaN</td>\n",
       "      <td>NaN</td>\n",
       "      <td>NaN</td>\n",
       "      <td>...</td>\n",
       "      <td>NaN</td>\n",
       "      <td>69</td>\n",
       "      <td>False</td>\n",
       "      <td>145796</td>\n",
       "      <td>-82782</td>\n",
       "      <td>239671</td>\n",
       "      <td>NaN</td>\n",
       "      <td>NaN</td>\n",
       "      <td>827696</td>\n",
       "      <td>63014</td>\n",
       "    </tr>\n",
       "  </tbody>\n",
       "</table>\n",
       "<p>5 rows × 21 columns</p>\n",
       "</div>"
      ],
      "text/plain": [
       "                      bonus deferral_payments deferred_income director_fees  \\\n",
       "ALLEN PHILLIP K     4175000           2869717        -3081055           NaN   \n",
       "BADUM JAMES P           NaN            178980             NaN           NaN   \n",
       "BANNANTINE JAMES M      NaN               NaN           -5104           NaN   \n",
       "BAXTER JOHN C       1200000           1295738        -1386055           NaN   \n",
       "BAY FRANKLIN R       400000            260455         -201641           NaN   \n",
       "\n",
       "                                 email_address exercised_stock_options  \\\n",
       "ALLEN PHILLIP K        phillip.allen@enron.com                 1729541   \n",
       "BADUM JAMES P                              NaN                  257817   \n",
       "BANNANTINE JAMES M  james.bannantine@enron.com                 4046157   \n",
       "BAXTER JOHN C                              NaN                 6680544   \n",
       "BAY FRANKLIN R             frank.bay@enron.com                     NaN   \n",
       "\n",
       "                   expenses from_messages from_poi_to_this_person  \\\n",
       "ALLEN PHILLIP K       13868          2195                      47   \n",
       "BADUM JAMES P          3486           NaN                     NaN   \n",
       "BANNANTINE JAMES M    56301            29                      39   \n",
       "BAXTER JOHN C         11200           NaN                     NaN   \n",
       "BAY FRANKLIN R       129142           NaN                     NaN   \n",
       "\n",
       "                   from_this_person_to_poi        ...         \\\n",
       "ALLEN PHILLIP K                         65        ...          \n",
       "BADUM JAMES P                          NaN        ...          \n",
       "BANNANTINE JAMES M                       0        ...          \n",
       "BAXTER JOHN C                          NaN        ...          \n",
       "BAY FRANKLIN R                         NaN        ...          \n",
       "\n",
       "                   long_term_incentive    other    poi restricted_stock  \\\n",
       "ALLEN PHILLIP K                 304805      152  False           126027   \n",
       "BADUM JAMES P                      NaN      NaN  False              NaN   \n",
       "BANNANTINE JAMES M                 NaN   864523  False          1757552   \n",
       "BAXTER JOHN C                  1586055  2660303  False          3942714   \n",
       "BAY FRANKLIN R                     NaN       69  False           145796   \n",
       "\n",
       "                   restricted_stock_deferred  salary shared_receipt_with_poi  \\\n",
       "ALLEN PHILLIP K                      -126027  201955                    1407   \n",
       "BADUM JAMES P                            NaN     NaN                     NaN   \n",
       "BANNANTINE JAMES M                   -560222     477                     465   \n",
       "BAXTER JOHN C                            NaN  267102                     NaN   \n",
       "BAY FRANKLIN R                        -82782  239671                     NaN   \n",
       "\n",
       "                   to_messages total_payments total_stock_value  \n",
       "ALLEN PHILLIP K           2902        4484442           1729541  \n",
       "BADUM JAMES P              NaN         182466            257817  \n",
       "BANNANTINE JAMES M         566         916197           5243487  \n",
       "BAXTER JOHN C              NaN        5634343          10623258  \n",
       "BAY FRANKLIN R             NaN         827696             63014  \n",
       "\n",
       "[5 rows x 21 columns]"
      ]
     },
     "execution_count": 356,
     "metadata": {},
     "output_type": "execute_result"
    }
   ],
   "source": [
    "# preparing a pandas DF for easier access\n",
    "import pandas as pd\n",
    "\n",
    "enron_df = pd.DataFrame(data_dict)\n",
    "# better in the other format\n",
    "enron_df = enron_df.transpose()\n",
    "\n",
    "enron_df.head()"
   ]
  },
  {
   "cell_type": "markdown",
   "metadata": {},
   "source": [
    "## Overview of the dataset"
   ]
  },
  {
   "cell_type": "code",
   "execution_count": 357,
   "metadata": {
    "collapsed": false
   },
   "outputs": [
    {
     "name": "stdout",
     "output_type": "stream",
     "text": [
      "total number of data points: 146\n",
      "of which 18 are POI and 128 are non-POI.\n"
     ]
    }
   ],
   "source": [
    "print \"total number of data points:\", len(enron_df)\n",
    "print \"of which {0} are POI and {1} are non-POI.\".format(len(enron_df[enron_df.poi == 1]),\n",
    "                                                         len(enron_df[enron_df.poi == 0]))"
   ]
  },
  {
   "cell_type": "markdown",
   "metadata": {},
   "source": [
    "## Selecting Features\n",
    "### Selection Mechanism\n",
    "At first I wanted to know how often do I actually have data for the respective features, so I coded this up.\n",
    "Initially I wanted to consider only features that are shared by at least 60% of the people in the dataset (where `feature != 'NaN'`). However, this did not include any data of the Email Corpus, so I reduced the treshold to 50%.\n",
    "\n",
    "There are many features in the dataset that have a considerable amount of data points missing."
   ]
  },
  {
   "cell_type": "code",
   "execution_count": 358,
   "metadata": {
    "collapsed": false
   },
   "outputs": [
    {
     "name": "stdout",
     "output_type": "stream",
     "text": [
      "number of features used: 7\n",
      "\n",
      "['poi',\n",
      " 'shared_receipt_with_poi',\n",
      " 'from_poi_to_this_person',\n",
      " 'salary',\n",
      " 'total_payments',\n",
      " 'bonus',\n",
      " 'from_this_person_to_poi']\n"
     ]
    }
   ],
   "source": [
    "### Task 1: Select what features you'll use.\n",
    "### features_list is a list of strings, each of which is a feature name.\n",
    "### The first feature must be \"poi\".\n",
    "\n",
    "###\n",
    "### 1 - SELECTING FEATURES\n",
    "###\n",
    "\n",
    "# a dict with the basic structure of the data, to keep count of occurences\n",
    "count_dict = {'bonus': 0,\n",
    " 'deferral_payments': 0,\n",
    " 'deferred_income': 0,\n",
    " 'director_fees': 0,\n",
    " 'email_address': 0,\n",
    " 'exercised_stock_options': 0,\n",
    " 'expenses': 0,\n",
    " 'from_messages': 0,\n",
    " 'from_poi_to_this_person': 0,\n",
    " 'from_this_person_to_poi': 0,\n",
    " 'loan_advances': 0,\n",
    " 'long_term_incentive': 0,\n",
    " 'other': 0,\n",
    " 'poi': 0,\n",
    " 'restricted_stock': 0,\n",
    " 'restricted_stock_deferred': 0,\n",
    " 'salary': 0,\n",
    " 'shared_receipt_with_poi': 0,\n",
    " 'to_messages': 0,\n",
    " 'total_payments': 0,\n",
    " 'total_stock_value': 0}\n",
    "# to see which features are present for many people, i count\n",
    "for person, p_dict in data_dict.items():\n",
    "\tfor key, value in p_dict.items():\n",
    "\t\tif value != \"NaN\":\n",
    "\t\t\tcount_dict[key] += 1\n",
    "# for better comparison i will use the percentage of total\n",
    "amount_people = len(data_dict)\n",
    "perc_dict = {}\n",
    "for key, value in count_dict.items():\n",
    "\tperc_dict[key] = round((value * 100.0) / amount_people, 2)\n",
    "#pprint.pprint(perc_dict)\n",
    "# filtering for the more common features, with a treshhold of 50%\n",
    "common_feature_list = []\n",
    "for key, value in perc_dict.items():\n",
    "\tif value >= 50:\n",
    "\t\tcommon_feature_list.append(key)\n",
    "\n",
    "# removing features I don't want to investigate (for justification\n",
    "# see the ML_report_Enron file)\n",
    "remove_list = ['to_messages', 'exercised_stock_options', 'email_address',\n",
    "\t\t\t'total_stock_value', 'expenses', 'from_messages', 'other', 'restricted_stock']\n",
    "features_list = [feature for index, feature in enumerate(common_feature_list) if feature not in remove_list]\n",
    "# ordering 'poi' to index = 0\n",
    "features_list = features_list[4:] + features_list[:4]\n",
    "print \"number of features used: {0}\\n\".format(len(features_list))\n",
    "pprint.pprint(features_list)"
   ]
  },
  {
   "cell_type": "markdown",
   "metadata": {},
   "source": [
    "Of the result:\n",
    "\n",
    "```python\n",
    "['salary', 'to_messages', 'total_payments', 'exercised_stock_options', 'bonus', 'email_address', 'total_stock_value', 'expenses', 'from_messages', 'other', 'from_this_person_to_poi', 'poi', 'shared_receipt_with_poi', 'restricted_stock', 'from_poi_to_this_person']\n",
    "```\n",
    "\n",
    "I selected\n",
    "\n",
    "```python\n",
    "['poi', 'salary', 'bonus', 'total_payments', 'shared_receipt_with_poi', 'from_poi_to_this_person', 'from_this_person_to_poi' ]\n",
    "```\n",
    "\n",
    "\n",
    "#### out\n",
    "`email_address` is a unique string for each person and therefore won't have any predictive power. `to_messages` and `from_messages` seems better encoded in `from_poi_to_this_person` and `from_this_person_to_poi`, considering that I will explore the data in correlation to pois (persons of interest).\n",
    "I don't even know what `other` is, and neither am I familiar with `restricted_stock` and `exercised_stock_options`.\n",
    "I can probably understand `total_stock_value` correctly, however I know that high-ranking pois were selling off their stocks of the company towards the end, and I just generally don't know enough about the stock market to handle these values well. I also am unsure about what `expenses` are logged in the so-named variable, so for this analysis I kept it aside.\n",
    "\n",
    "\n",
    "#### in\n",
    "What I therefore chose to further investigate and train my classifiers on, is `salary`, `bonus` and `total_payments`, for the more obvious financial-related features. I assume that pois might have a higher sum of money that they amassed (either through salaries, bonuses, or both), than non-pois working in the company. After all, the case is about people taking **money** that was not theirs to take, so the financial data should be able to show some trends there. \n",
    "Further I chose `from_poi_to_this_person` and `from_this_person_to_poi` from the email corpus data, to investigate a possible relationship indicated by pois sending an increased amount of emails between each other than towards non-pois.\n",
    "And finally I also chose `shared_receipt_with_poi` from the financial dataset. This is another more exploratoy feature. I don't know exactly what it denotes, but it got me interested to look for trends here (and to properly understand what does this mean). I can imagine that pois were more likely to share receipts with other pois."
   ]
  },
  {
   "cell_type": "markdown",
   "metadata": {},
   "source": [
    "### Other Considerations\n",
    "I decided not to employ a Decision Tree algorithm for selecting my features. My main reason for this was, that even though some now-discarded feature might do a good job in predicting pois, I found it dangerous to base this on features that have less than half of the data involved.\n",
    "With 146 people, the dataset is anyways not very large, therefore I wanted to make sure to train and test my algorithms at least on a somewhat representable size."
   ]
  },
  {
   "cell_type": "markdown",
   "metadata": {},
   "source": [
    "## Outliers?\n",
    "Checking whether all is sound in the data."
   ]
  },
  {
   "cell_type": "code",
   "execution_count": 359,
   "metadata": {
    "collapsed": false
   },
   "outputs": [
    {
     "data": {
      "text/html": [
       "<div>\n",
       "<table border=\"1\" class=\"dataframe\">\n",
       "  <thead>\n",
       "    <tr style=\"text-align: right;\">\n",
       "      <th></th>\n",
       "      <th>bonus</th>\n",
       "      <th>from_poi_to_this_person</th>\n",
       "      <th>from_this_person_to_poi</th>\n",
       "      <th>poi</th>\n",
       "      <th>salary</th>\n",
       "      <th>shared_receipt_with_poi</th>\n",
       "      <th>total_payments</th>\n",
       "    </tr>\n",
       "  </thead>\n",
       "  <tbody>\n",
       "    <tr>\n",
       "      <th>ALLEN PHILLIP K</th>\n",
       "      <td>4175000</td>\n",
       "      <td>47</td>\n",
       "      <td>65</td>\n",
       "      <td>False</td>\n",
       "      <td>201955</td>\n",
       "      <td>1407</td>\n",
       "      <td>4484442</td>\n",
       "    </tr>\n",
       "    <tr>\n",
       "      <th>BADUM JAMES P</th>\n",
       "      <td>NaN</td>\n",
       "      <td>NaN</td>\n",
       "      <td>NaN</td>\n",
       "      <td>False</td>\n",
       "      <td>NaN</td>\n",
       "      <td>NaN</td>\n",
       "      <td>182466</td>\n",
       "    </tr>\n",
       "    <tr>\n",
       "      <th>BANNANTINE JAMES M</th>\n",
       "      <td>NaN</td>\n",
       "      <td>39</td>\n",
       "      <td>0</td>\n",
       "      <td>False</td>\n",
       "      <td>477</td>\n",
       "      <td>465</td>\n",
       "      <td>916197</td>\n",
       "    </tr>\n",
       "    <tr>\n",
       "      <th>BAXTER JOHN C</th>\n",
       "      <td>1200000</td>\n",
       "      <td>NaN</td>\n",
       "      <td>NaN</td>\n",
       "      <td>False</td>\n",
       "      <td>267102</td>\n",
       "      <td>NaN</td>\n",
       "      <td>5634343</td>\n",
       "    </tr>\n",
       "    <tr>\n",
       "      <th>BAY FRANKLIN R</th>\n",
       "      <td>400000</td>\n",
       "      <td>NaN</td>\n",
       "      <td>NaN</td>\n",
       "      <td>False</td>\n",
       "      <td>239671</td>\n",
       "      <td>NaN</td>\n",
       "      <td>827696</td>\n",
       "    </tr>\n",
       "  </tbody>\n",
       "</table>\n",
       "</div>"
      ],
      "text/plain": [
       "                      bonus from_poi_to_this_person from_this_person_to_poi  \\\n",
       "ALLEN PHILLIP K     4175000                      47                      65   \n",
       "BADUM JAMES P           NaN                     NaN                     NaN   \n",
       "BANNANTINE JAMES M      NaN                      39                       0   \n",
       "BAXTER JOHN C       1200000                     NaN                     NaN   \n",
       "BAY FRANKLIN R       400000                     NaN                     NaN   \n",
       "\n",
       "                      poi  salary shared_receipt_with_poi total_payments  \n",
       "ALLEN PHILLIP K     False  201955                    1407        4484442  \n",
       "BADUM JAMES P       False     NaN                     NaN         182466  \n",
       "BANNANTINE JAMES M  False     477                     465         916197  \n",
       "BAXTER JOHN C       False  267102                     NaN        5634343  \n",
       "BAY FRANKLIN R      False  239671                     NaN         827696  "
      ]
     },
     "execution_count": 359,
     "metadata": {},
     "output_type": "execute_result"
    }
   ],
   "source": [
    "# reducing the dataframe for better overview\n",
    "for c in enron_df.columns:\n",
    "    if c not in features_list:\n",
    "        enron_df.drop(c, axis=1, inplace=True)\n",
    "enron_df.head()"
   ]
  },
  {
   "cell_type": "code",
   "execution_count": 360,
   "metadata": {
    "collapsed": false
   },
   "outputs": [
    {
     "data": {
      "text/plain": [
       "<matplotlib.collections.PathCollection at 0x10d244d50>"
      ]
     },
     "execution_count": 360,
     "metadata": {},
     "output_type": "execute_result"
    },
    {
     "data": {
      "image/png": "[encoded data removed]",
      "text/plain": [
       "<matplotlib.figure.Figure at 0x10cf2d090>"
      ]
     },
     "metadata": {},
     "output_type": "display_data"
    }
   ],
   "source": [
    "plt.scatter(enron_df['bonus'], enron_df['salary'])"
   ]
  },
  {
   "cell_type": "markdown",
   "metadata": {},
   "source": [
    "Gotcha! Let's take a closer loook at this one all the way up there!"
   ]
  },
  {
   "cell_type": "markdown",
   "metadata": {},
   "source": [
    "I had a little trouble here when trying to find the `max()` value of the columns. The code only returned me `NaN` as the max. After a while I figured that this is because the `'NaN'` values were actually **strings**, not `None` type. Here I figured this out and went ahead to transform them into actual `NaN`."
   ]
  },
  {
   "cell_type": "code",
   "execution_count": 361,
   "metadata": {
    "collapsed": false
   },
   "outputs": [
    {
     "name": "stdout",
     "output_type": "stream",
     "text": [
      "NaN\n",
      "<type 'str'>\n"
     ]
    }
   ],
   "source": [
    "print enron_df['salary'][1]\n",
    "print type(enron_df['salary'][1])"
   ]
  },
  {
   "cell_type": "code",
   "execution_count": 362,
   "metadata": {
    "collapsed": false
   },
   "outputs": [
    {
     "data": {
      "text/plain": [
       "ALLEN PHILLIP K       False\n",
       "BADUM JAMES P         False\n",
       "BANNANTINE JAMES M    False\n",
       "BAXTER JOHN C         False\n",
       "BAY FRANKLIN R        False\n",
       "Name: salary, dtype: bool"
      ]
     },
     "execution_count": 362,
     "metadata": {},
     "output_type": "execute_result"
    }
   ],
   "source": [
    "enron_df['salary'].isnull().head()"
   ]
  },
  {
   "cell_type": "code",
   "execution_count": 363,
   "metadata": {
    "collapsed": false
   },
   "outputs": [
    {
     "data": {
      "text/html": [
       "<div>\n",
       "<table border=\"1\" class=\"dataframe\">\n",
       "  <thead>\n",
       "    <tr style=\"text-align: right;\">\n",
       "      <th></th>\n",
       "      <th>bonus</th>\n",
       "      <th>from_poi_to_this_person</th>\n",
       "      <th>from_this_person_to_poi</th>\n",
       "      <th>poi</th>\n",
       "      <th>salary</th>\n",
       "      <th>shared_receipt_with_poi</th>\n",
       "      <th>total_payments</th>\n",
       "    </tr>\n",
       "  </thead>\n",
       "  <tbody>\n",
       "    <tr>\n",
       "      <th>ALLEN PHILLIP K</th>\n",
       "      <td>4175000</td>\n",
       "      <td>47</td>\n",
       "      <td>65</td>\n",
       "      <td>False</td>\n",
       "      <td>201955</td>\n",
       "      <td>1407</td>\n",
       "      <td>4484442</td>\n",
       "    </tr>\n",
       "    <tr>\n",
       "      <th>BADUM JAMES P</th>\n",
       "      <td>NaN</td>\n",
       "      <td>NaN</td>\n",
       "      <td>NaN</td>\n",
       "      <td>False</td>\n",
       "      <td>NaN</td>\n",
       "      <td>NaN</td>\n",
       "      <td>182466</td>\n",
       "    </tr>\n",
       "    <tr>\n",
       "      <th>BANNANTINE JAMES M</th>\n",
       "      <td>NaN</td>\n",
       "      <td>39</td>\n",
       "      <td>0</td>\n",
       "      <td>False</td>\n",
       "      <td>477</td>\n",
       "      <td>465</td>\n",
       "      <td>916197</td>\n",
       "    </tr>\n",
       "    <tr>\n",
       "      <th>BAXTER JOHN C</th>\n",
       "      <td>1200000</td>\n",
       "      <td>NaN</td>\n",
       "      <td>NaN</td>\n",
       "      <td>False</td>\n",
       "      <td>267102</td>\n",
       "      <td>NaN</td>\n",
       "      <td>5634343</td>\n",
       "    </tr>\n",
       "    <tr>\n",
       "      <th>BAY FRANKLIN R</th>\n",
       "      <td>400000</td>\n",
       "      <td>NaN</td>\n",
       "      <td>NaN</td>\n",
       "      <td>False</td>\n",
       "      <td>239671</td>\n",
       "      <td>NaN</td>\n",
       "      <td>827696</td>\n",
       "    </tr>\n",
       "  </tbody>\n",
       "</table>\n",
       "</div>"
      ],
      "text/plain": [
       "                      bonus  from_poi_to_this_person  from_this_person_to_poi  \\\n",
       "ALLEN PHILLIP K     4175000                       47                       65   \n",
       "BADUM JAMES P           NaN                      NaN                      NaN   \n",
       "BANNANTINE JAMES M      NaN                       39                        0   \n",
       "BAXTER JOHN C       1200000                      NaN                      NaN   \n",
       "BAY FRANKLIN R       400000                      NaN                      NaN   \n",
       "\n",
       "                      poi  salary  shared_receipt_with_poi  total_payments  \n",
       "ALLEN PHILLIP K     False  201955                     1407         4484442  \n",
       "BADUM JAMES P       False     NaN                      NaN          182466  \n",
       "BANNANTINE JAMES M  False     477                      465          916197  \n",
       "BAXTER JOHN C       False  267102                      NaN         5634343  \n",
       "BAY FRANKLIN R      False  239671                      NaN          827696  "
      ]
     },
     "execution_count": 363,
     "metadata": {},
     "output_type": "execute_result"
    }
   ],
   "source": [
    "enron_df.replace(['NaN'], [None], inplace=True)\n",
    "enron_df.head()"
   ]
  },
  {
   "cell_type": "code",
   "execution_count": 364,
   "metadata": {
    "collapsed": false
   },
   "outputs": [
    {
     "data": {
      "text/plain": [
       "ALLEN PHILLIP K       False\n",
       "BADUM JAMES P          True\n",
       "BANNANTINE JAMES M    False\n",
       "BAXTER JOHN C         False\n",
       "BAY FRANKLIN R        False\n",
       "Name: salary, dtype: bool"
      ]
     },
     "execution_count": 364,
     "metadata": {},
     "output_type": "execute_result"
    }
   ],
   "source": [
    "enron_df['salary'].isnull().head()"
   ]
  },
  {
   "cell_type": "code",
   "execution_count": 365,
   "metadata": {
    "collapsed": false
   },
   "outputs": [
    {
     "name": "stdout",
     "output_type": "stream",
     "text": [
      "nan\n",
      "<type 'numpy.float64'>\n"
     ]
    }
   ],
   "source": [
    "print enron_df['salary'][1]\n",
    "print type(enron_df['salary'][1])"
   ]
  },
  {
   "cell_type": "markdown",
   "metadata": {},
   "source": [
    "Okay, with that out of the way, I can finally target my outlier."
   ]
  },
  {
   "cell_type": "code",
   "execution_count": 366,
   "metadata": {
    "collapsed": false
   },
   "outputs": [],
   "source": [
    "outlier = enron_df['salary'].max()"
   ]
  },
  {
   "cell_type": "code",
   "execution_count": 367,
   "metadata": {
    "collapsed": false
   },
   "outputs": [
    {
     "name": "stdout",
     "output_type": "stream",
     "text": [
      "          bonus  from_poi_to_this_person  from_this_person_to_poi    poi  \\\n",
      "TOTAL  97343619                      NaN                      NaN  False   \n",
      "\n",
      "         salary  shared_receipt_with_poi  total_payments  \n",
      "TOTAL  26704229                      NaN       309886585  \n"
     ]
    }
   ],
   "source": [
    "print enron_df.loc[enron_df['salary'] == outlier]"
   ]
  },
  {
   "cell_type": "markdown",
   "metadata": {},
   "source": [
    "Yep. \"Mr. Total\" was **not** one of the main players in the fraud - this row can be safely removed."
   ]
  },
  {
   "cell_type": "code",
   "execution_count": 368,
   "metadata": {
    "collapsed": false
   },
   "outputs": [
    {
     "data": {
      "text/html": [
       "<div>\n",
       "<table border=\"1\" class=\"dataframe\">\n",
       "  <thead>\n",
       "    <tr style=\"text-align: right;\">\n",
       "      <th></th>\n",
       "      <th>bonus</th>\n",
       "      <th>from_poi_to_this_person</th>\n",
       "      <th>from_this_person_to_poi</th>\n",
       "      <th>poi</th>\n",
       "      <th>salary</th>\n",
       "      <th>shared_receipt_with_poi</th>\n",
       "      <th>total_payments</th>\n",
       "    </tr>\n",
       "  </thead>\n",
       "  <tbody>\n",
       "    <tr>\n",
       "      <th>ALLEN PHILLIP K</th>\n",
       "      <td>4175000</td>\n",
       "      <td>47</td>\n",
       "      <td>65</td>\n",
       "      <td>False</td>\n",
       "      <td>201955</td>\n",
       "      <td>1407</td>\n",
       "      <td>4484442</td>\n",
       "    </tr>\n",
       "    <tr>\n",
       "      <th>BADUM JAMES P</th>\n",
       "      <td>NaN</td>\n",
       "      <td>NaN</td>\n",
       "      <td>NaN</td>\n",
       "      <td>False</td>\n",
       "      <td>NaN</td>\n",
       "      <td>NaN</td>\n",
       "      <td>182466</td>\n",
       "    </tr>\n",
       "    <tr>\n",
       "      <th>BANNANTINE JAMES M</th>\n",
       "      <td>NaN</td>\n",
       "      <td>39</td>\n",
       "      <td>0</td>\n",
       "      <td>False</td>\n",
       "      <td>477</td>\n",
       "      <td>465</td>\n",
       "      <td>916197</td>\n",
       "    </tr>\n",
       "    <tr>\n",
       "      <th>BAXTER JOHN C</th>\n",
       "      <td>1200000</td>\n",
       "      <td>NaN</td>\n",
       "      <td>NaN</td>\n",
       "      <td>False</td>\n",
       "      <td>267102</td>\n",
       "      <td>NaN</td>\n",
       "      <td>5634343</td>\n",
       "    </tr>\n",
       "    <tr>\n",
       "      <th>BAY FRANKLIN R</th>\n",
       "      <td>400000</td>\n",
       "      <td>NaN</td>\n",
       "      <td>NaN</td>\n",
       "      <td>False</td>\n",
       "      <td>239671</td>\n",
       "      <td>NaN</td>\n",
       "      <td>827696</td>\n",
       "    </tr>\n",
       "  </tbody>\n",
       "</table>\n",
       "</div>"
      ],
      "text/plain": [
       "                      bonus  from_poi_to_this_person  from_this_person_to_poi  \\\n",
       "ALLEN PHILLIP K     4175000                       47                       65   \n",
       "BADUM JAMES P           NaN                      NaN                      NaN   \n",
       "BANNANTINE JAMES M      NaN                       39                        0   \n",
       "BAXTER JOHN C       1200000                      NaN                      NaN   \n",
       "BAY FRANKLIN R       400000                      NaN                      NaN   \n",
       "\n",
       "                      poi  salary  shared_receipt_with_poi  total_payments  \n",
       "ALLEN PHILLIP K     False  201955                     1407         4484442  \n",
       "BADUM JAMES P       False     NaN                      NaN          182466  \n",
       "BANNANTINE JAMES M  False     477                      465          916197  \n",
       "BAXTER JOHN C       False  267102                      NaN         5634343  \n",
       "BAY FRANKLIN R      False  239671                      NaN          827696  "
      ]
     },
     "execution_count": 368,
     "metadata": {},
     "output_type": "execute_result"
    }
   ],
   "source": [
    "enron_df = enron_df[enron_df.salary != outlier]\n",
    "enron_df.head()"
   ]
  },
  {
   "cell_type": "code",
   "execution_count": 369,
   "metadata": {
    "collapsed": false
   },
   "outputs": [
    {
     "name": "stdout",
     "output_type": "stream",
     "text": [
      "1111258.0\n"
     ]
    }
   ],
   "source": [
    "print enron_df['salary'].max()"
   ]
  },
  {
   "cell_type": "markdown",
   "metadata": {},
   "source": [
    "This looks more \"reasonable\". Let's give it up for the graphic."
   ]
  },
  {
   "cell_type": "code",
   "execution_count": 370,
   "metadata": {
    "collapsed": false
   },
   "outputs": [
    {
     "data": {
      "text/plain": [
       "<matplotlib.collections.PathCollection at 0x10d3b44d0>"
      ]
     },
     "execution_count": 370,
     "metadata": {},
     "output_type": "execute_result"
    },
    {
     "data": {
      "image/png": "[encoded data removed]",
      "text/plain": [
       "<matplotlib.figure.Figure at 0x10cdee210>"
      ]
     },
     "metadata": {},
     "output_type": "display_data"
    }
   ],
   "source": [
    "plt.scatter(enron_df['bonus'], enron_df['salary'])"
   ]
  },
  {
   "cell_type": "markdown",
   "metadata": {},
   "source": [
    "Even though these remaining sums seem highly overpriced as well, these ones are most likely outliers of interest (oois). Some people got a lot of money."
   ]
  },
  {
   "cell_type": "code",
   "execution_count": 371,
   "metadata": {
    "collapsed": false
   },
   "outputs": [
    {
     "name": "stdout",
     "output_type": "stream",
     "text": [
      "                    bonus  from_poi_to_this_person  from_this_person_to_poi  \\\n",
      "BANNANTINE JAMES M    NaN                       39                        0   \n",
      "\n",
      "                      poi  salary  shared_receipt_with_poi  total_payments  \n",
      "BANNANTINE JAMES M  False     477                      465          916197  \n"
     ]
    }
   ],
   "source": [
    "# checking also the minimum\n",
    "min_outlier = enron_df.salary.min()\n",
    "print enron_df.loc[enron_df.salary == min_outlier]"
   ]
  },
  {
   "cell_type": "markdown",
   "metadata": {},
   "source": [
    "Nothing wrong with this one, it seems.\n",
    "\n",
    "Onto the other features."
   ]
  },
  {
   "cell_type": "code",
   "execution_count": 372,
   "metadata": {
    "collapsed": false
   },
   "outputs": [
    {
     "data": {
      "text/plain": [
       "<matplotlib.collections.PathCollection at 0x10d4c2b90>"
      ]
     },
     "execution_count": 372,
     "metadata": {},
     "output_type": "execute_result"
    },
    {
     "data": {
      "image/png": "[encoded data removed]",
      "text/plain": [
       "<matplotlib.figure.Figure at 0x10d36bfd0>"
      ]
     },
     "metadata": {},
     "output_type": "display_data"
    }
   ],
   "source": [
    "plt.scatter(enron_df.salary, enron_df.total_payments)"
   ]
  },
  {
   "cell_type": "markdown",
   "metadata": {},
   "source": [
    "Another lone rider here, however he might be real..."
   ]
  },
  {
   "cell_type": "code",
   "execution_count": 373,
   "metadata": {
    "collapsed": false
   },
   "outputs": [
    {
     "name": "stdout",
     "output_type": "stream",
     "text": [
      "                 bonus  from_poi_to_this_person  from_this_person_to_poi  \\\n",
      "LAY KENNETH L  7000000                      123                       16   \n",
      "\n",
      "                poi   salary  shared_receipt_with_poi  total_payments  \n",
      "LAY KENNETH L  True  1072321                     2411       103559793  \n"
     ]
    }
   ],
   "source": [
    "outlier = enron_df.total_payments.max()\n",
    "print enron_df.loc[enron_df.total_payments == outlier]"
   ]
  },
  {
   "cell_type": "markdown",
   "metadata": {},
   "source": [
    "Yep... That's one of our men..."
   ]
  },
  {
   "cell_type": "code",
   "execution_count": 374,
   "metadata": {
    "collapsed": false
   },
   "outputs": [
    {
     "name": "stdout",
     "output_type": "stream",
     "text": [
      "                 bonus  from_poi_to_this_person  from_this_person_to_poi  \\\n",
      "MENDELSOHN JOHN    NaN                      NaN                      NaN   \n",
      "\n",
      "                   poi  salary  shared_receipt_with_poi  total_payments  \n",
      "MENDELSOHN JOHN  False     NaN                      NaN             148  \n"
     ]
    }
   ],
   "source": [
    "# checking also the minimum\n",
    "min_outlier = enron_df.total_payments.min()\n",
    "print enron_df.loc[enron_df.total_payments == min_outlier]"
   ]
  },
  {
   "cell_type": "markdown",
   "metadata": {},
   "source": [
    "This person seems not very useful for doing any predictions, considering that he has only one value filled (`total payments`). Later I will check for and remove rows that have most of my chosen features missing."
   ]
  },
  {
   "cell_type": "markdown",
   "metadata": {},
   "source": [
    "Let's first take a look at the rest of the data."
   ]
  },
  {
   "cell_type": "code",
   "execution_count": 375,
   "metadata": {
    "collapsed": false
   },
   "outputs": [
    {
     "data": {
      "text/plain": [
       "<matplotlib.collections.PathCollection at 0x10d811710>"
      ]
     },
     "execution_count": 375,
     "metadata": {},
     "output_type": "execute_result"
    },
    {
     "data": {
      "image/png": "[encoded data removed]",
      "text/plain": [
       "<matplotlib.figure.Figure at 0x10d47a890>"
      ]
     },
     "metadata": {},
     "output_type": "display_data"
    }
   ],
   "source": [
    "plt.scatter(enron_df.shared_receipt_with_poi, enron_df.from_poi_to_this_person)"
   ]
  },
  {
   "cell_type": "code",
   "execution_count": 376,
   "metadata": {
    "collapsed": false
   },
   "outputs": [
    {
     "name": "stdout",
     "output_type": "stream",
     "text": [
      "                    bonus  from_poi_to_this_person  from_this_person_to_poi  \\\n",
      "BELDEN TIMOTHY N  5249999                      228                      108   \n",
      "\n",
      "                   poi  salary  shared_receipt_with_poi  total_payments  \n",
      "BELDEN TIMOTHY N  True  213999                     5521         5501630  \n"
     ]
    }
   ],
   "source": [
    "def display_outlier(column_name):\n",
    "    outlier = enron_df[column_name].max()\n",
    "    print enron_df.loc[enron_df[column_name] == outlier]\n",
    "    \n",
    "display_outlier('shared_receipt_with_poi')"
   ]
  },
  {
   "cell_type": "code",
   "execution_count": 377,
   "metadata": {
    "collapsed": false
   },
   "outputs": [
    {
     "data": {
      "text/plain": [
       "<matplotlib.collections.PathCollection at 0x10d92d490>"
      ]
     },
     "execution_count": 377,
     "metadata": {},
     "output_type": "execute_result"
    },
    {
     "data": {
      "image/png": "[encoded data removed]",
      "text/plain": [
       "<matplotlib.figure.Figure at 0x10d6b7690>"
      ]
     },
     "metadata": {},
     "output_type": "display_data"
    }
   ],
   "source": [
    "plt.scatter(enron_df.from_poi_to_this_person, enron_df.from_this_person_to_poi)"
   ]
  },
  {
   "cell_type": "code",
   "execution_count": 378,
   "metadata": {
    "collapsed": false
   },
   "outputs": [
    {
     "name": "stdout",
     "output_type": "stream",
     "text": [
      "                   bonus  from_poi_to_this_person  from_this_person_to_poi  \\\n",
      "LAVORATO JOHN J  8000000                      528                      411   \n",
      "\n",
      "                   poi  salary  shared_receipt_with_poi  total_payments  \n",
      "LAVORATO JOHN J  False  339288                     3962        10425757  \n",
      "                    bonus  from_poi_to_this_person  from_this_person_to_poi  \\\n",
      "DELAINEY DAVID W  3000000                       66                      609   \n",
      "\n",
      "                   poi  salary  shared_receipt_with_poi  total_payments  \n",
      "DELAINEY DAVID W  True  365163                     2097         4747979  \n"
     ]
    }
   ],
   "source": [
    "display_outlier('from_poi_to_this_person')\n",
    "display_outlier('from_this_person_to_poi')"
   ]
  },
  {
   "cell_type": "markdown",
   "metadata": {},
   "source": [
    "Yep, the rest is all to keep. Outlier detection terminated."
   ]
  },
  {
   "cell_type": "markdown",
   "metadata": {},
   "source": [
    "### Removing (near) empty rows\n",
    "Because scarce data is probably not very useful for prediction, I will remove rows that have nearly all data missing of my chosen features.\n",
    "\n",
    "Since the dataset is however rather small, I want to take a cautious approach and keep most rows, if possible. I will therefore remove only rows that have 2 or less features containing actual values. My choice for the threshold fell on 2, because **all** rows have an entry for `poi` (`True`/`False`). Therefore I am essentially only removing rows that have **no additional feature** containing a value.\n",
    "\n",
    "This approach should prevent me from discarding too many of the anyway scarce rows, yet also get rid of entries that are more likely to distract than aid the prediction power of my algorithm-to-be."
   ]
  },
  {
   "cell_type": "code",
   "execution_count": 379,
   "metadata": {
    "collapsed": false
   },
   "outputs": [
    {
     "name": "stdout",
     "output_type": "stream",
     "text": [
      "number of rows before removing those with scarce feature data: 145\n",
      "number of rows after removing those with scarce feature data: 135\n"
     ]
    }
   ],
   "source": [
    "print \"number of rows before removing those with scarce feature data:\", len(enron_df)\n",
    "min_features_filled = 2\n",
    "enron_df.dropna(axis='index', thresh=min_features_filled, inplace=True)\n",
    "print \"number of rows after removing those with scarce feature data:\",  len(enron_df)"
   ]
  },
  {
   "cell_type": "markdown",
   "metadata": {},
   "source": [
    "My approach removed another 10 rows from the dataset. This seems to be a reasonable amount and I can go forward to work with the cleaned-up dataset containing now 136 entries.\n",
    "\n",
    "Further, `THE TRAVEL AGENCY IN THE PARK` that was a bogus firm that some of the people involved in the fraud were using for booking travel costs is obviously not a **person** in this fraud case. Therefore I will also remove it from the df. I've found out about this data point through inspecting the `enron61702insiderpay.pdf` file manually."
   ]
  },
  {
   "cell_type": "code",
   "execution_count": 380,
   "metadata": {
    "collapsed": false
   },
   "outputs": [
    {
     "name": "stdout",
     "output_type": "stream",
     "text": [
      "bonus                         NaN\n",
      "from_poi_to_this_person       NaN\n",
      "from_this_person_to_poi       NaN\n",
      "poi                         False\n",
      "salary                        NaN\n",
      "shared_receipt_with_poi       NaN\n",
      "total_payments             362096\n",
      "Name: THE TRAVEL AGENCY IN THE PARK, dtype: object\n"
     ]
    }
   ],
   "source": [
    "print enron_df.loc[\"THE TRAVEL AGENCY IN THE PARK\"]"
   ]
  },
  {
   "cell_type": "code",
   "execution_count": 381,
   "metadata": {
    "collapsed": false
   },
   "outputs": [
    {
     "data": {
      "text/plain": [
       "134"
      ]
     },
     "execution_count": 381,
     "metadata": {},
     "output_type": "execute_result"
    }
   ],
   "source": [
    "agency = \"THE TRAVEL AGENCY IN THE PARK\"\n",
    "enron_df = enron_df.drop([agency])\n",
    "len(enron_df)"
   ]
  },
  {
   "cell_type": "code",
   "execution_count": 382,
   "metadata": {
    "collapsed": false
   },
   "outputs": [],
   "source": [
    "#print enron_df.loc[\"THE TRAVEL AGENCY IN THE PARK\"]"
   ]
  },
  {
   "cell_type": "markdown",
   "metadata": {},
   "source": [
    "## A new feature"
   ]
  },
  {
   "cell_type": "code",
   "execution_count": 383,
   "metadata": {
    "collapsed": false
   },
   "outputs": [
    {
     "data": {
      "text/html": [
       "<div>\n",
       "<table border=\"1\" class=\"dataframe\">\n",
       "  <thead>\n",
       "    <tr style=\"text-align: right;\">\n",
       "      <th></th>\n",
       "      <th>bonus</th>\n",
       "      <th>from_poi_to_this_person</th>\n",
       "      <th>from_this_person_to_poi</th>\n",
       "      <th>poi</th>\n",
       "      <th>salary</th>\n",
       "      <th>shared_receipt_with_poi</th>\n",
       "      <th>total_payments</th>\n",
       "    </tr>\n",
       "  </thead>\n",
       "  <tbody>\n",
       "    <tr>\n",
       "      <th>ALLEN PHILLIP K</th>\n",
       "      <td>4175000</td>\n",
       "      <td>47</td>\n",
       "      <td>65</td>\n",
       "      <td>False</td>\n",
       "      <td>201955</td>\n",
       "      <td>1407</td>\n",
       "      <td>4484442</td>\n",
       "    </tr>\n",
       "    <tr>\n",
       "      <th>BADUM JAMES P</th>\n",
       "      <td>NaN</td>\n",
       "      <td>NaN</td>\n",
       "      <td>NaN</td>\n",
       "      <td>False</td>\n",
       "      <td>NaN</td>\n",
       "      <td>NaN</td>\n",
       "      <td>182466</td>\n",
       "    </tr>\n",
       "    <tr>\n",
       "      <th>BANNANTINE JAMES M</th>\n",
       "      <td>NaN</td>\n",
       "      <td>39</td>\n",
       "      <td>0</td>\n",
       "      <td>False</td>\n",
       "      <td>477</td>\n",
       "      <td>465</td>\n",
       "      <td>916197</td>\n",
       "    </tr>\n",
       "    <tr>\n",
       "      <th>BAXTER JOHN C</th>\n",
       "      <td>1200000</td>\n",
       "      <td>NaN</td>\n",
       "      <td>NaN</td>\n",
       "      <td>False</td>\n",
       "      <td>267102</td>\n",
       "      <td>NaN</td>\n",
       "      <td>5634343</td>\n",
       "    </tr>\n",
       "    <tr>\n",
       "      <th>BAY FRANKLIN R</th>\n",
       "      <td>400000</td>\n",
       "      <td>NaN</td>\n",
       "      <td>NaN</td>\n",
       "      <td>False</td>\n",
       "      <td>239671</td>\n",
       "      <td>NaN</td>\n",
       "      <td>827696</td>\n",
       "    </tr>\n",
       "  </tbody>\n",
       "</table>\n",
       "</div>"
      ],
      "text/plain": [
       "                      bonus  from_poi_to_this_person  from_this_person_to_poi  \\\n",
       "ALLEN PHILLIP K     4175000                       47                       65   \n",
       "BADUM JAMES P           NaN                      NaN                      NaN   \n",
       "BANNANTINE JAMES M      NaN                       39                        0   \n",
       "BAXTER JOHN C       1200000                      NaN                      NaN   \n",
       "BAY FRANKLIN R       400000                      NaN                      NaN   \n",
       "\n",
       "                      poi  salary  shared_receipt_with_poi  total_payments  \n",
       "ALLEN PHILLIP K     False  201955                     1407         4484442  \n",
       "BADUM JAMES P       False     NaN                      NaN          182466  \n",
       "BANNANTINE JAMES M  False     477                      465          916197  \n",
       "BAXTER JOHN C       False  267102                      NaN         5634343  \n",
       "BAY FRANKLIN R      False  239671                      NaN          827696  "
      ]
     },
     "execution_count": 383,
     "metadata": {},
     "output_type": "execute_result"
    }
   ],
   "source": [
    "enron_df.head()"
   ]
  },
  {
   "cell_type": "code",
   "execution_count": 384,
   "metadata": {
    "collapsed": false
   },
   "outputs": [],
   "source": [
    "def email_perc(row):\n",
    "    one_way = row['from_this_person_to_poi']\n",
    "    the_other = row['from_poi_to_this_person']\n",
    "    \n",
    "    ratio = 0\n",
    "    if one_way != 0 and the_other != 0:\n",
    "        ratio = float(one_way) / the_other\n",
    "    return ratio"
   ]
  },
  {
   "cell_type": "code",
   "execution_count": 385,
   "metadata": {
    "collapsed": false
   },
   "outputs": [
    {
     "data": {
      "text/html": [
       "<div>\n",
       "<table border=\"1\" class=\"dataframe\">\n",
       "  <thead>\n",
       "    <tr style=\"text-align: right;\">\n",
       "      <th></th>\n",
       "      <th>bonus</th>\n",
       "      <th>from_poi_to_this_person</th>\n",
       "      <th>from_this_person_to_poi</th>\n",
       "      <th>poi</th>\n",
       "      <th>salary</th>\n",
       "      <th>shared_receipt_with_poi</th>\n",
       "      <th>total_payments</th>\n",
       "      <th>sent_received_ratio</th>\n",
       "    </tr>\n",
       "  </thead>\n",
       "  <tbody>\n",
       "    <tr>\n",
       "      <th>ALLEN PHILLIP K</th>\n",
       "      <td>4175000</td>\n",
       "      <td>47</td>\n",
       "      <td>65</td>\n",
       "      <td>False</td>\n",
       "      <td>201955</td>\n",
       "      <td>1407</td>\n",
       "      <td>4484442</td>\n",
       "      <td>1.382979</td>\n",
       "    </tr>\n",
       "    <tr>\n",
       "      <th>BADUM JAMES P</th>\n",
       "      <td>NaN</td>\n",
       "      <td>NaN</td>\n",
       "      <td>NaN</td>\n",
       "      <td>False</td>\n",
       "      <td>NaN</td>\n",
       "      <td>NaN</td>\n",
       "      <td>182466</td>\n",
       "      <td>NaN</td>\n",
       "    </tr>\n",
       "    <tr>\n",
       "      <th>BANNANTINE JAMES M</th>\n",
       "      <td>NaN</td>\n",
       "      <td>39</td>\n",
       "      <td>0</td>\n",
       "      <td>False</td>\n",
       "      <td>477</td>\n",
       "      <td>465</td>\n",
       "      <td>916197</td>\n",
       "      <td>0.000000</td>\n",
       "    </tr>\n",
       "    <tr>\n",
       "      <th>BAXTER JOHN C</th>\n",
       "      <td>1200000</td>\n",
       "      <td>NaN</td>\n",
       "      <td>NaN</td>\n",
       "      <td>False</td>\n",
       "      <td>267102</td>\n",
       "      <td>NaN</td>\n",
       "      <td>5634343</td>\n",
       "      <td>NaN</td>\n",
       "    </tr>\n",
       "    <tr>\n",
       "      <th>BAY FRANKLIN R</th>\n",
       "      <td>400000</td>\n",
       "      <td>NaN</td>\n",
       "      <td>NaN</td>\n",
       "      <td>False</td>\n",
       "      <td>239671</td>\n",
       "      <td>NaN</td>\n",
       "      <td>827696</td>\n",
       "      <td>NaN</td>\n",
       "    </tr>\n",
       "  </tbody>\n",
       "</table>\n",
       "</div>"
      ],
      "text/plain": [
       "                      bonus  from_poi_to_this_person  from_this_person_to_poi  \\\n",
       "ALLEN PHILLIP K     4175000                       47                       65   \n",
       "BADUM JAMES P           NaN                      NaN                      NaN   \n",
       "BANNANTINE JAMES M      NaN                       39                        0   \n",
       "BAXTER JOHN C       1200000                      NaN                      NaN   \n",
       "BAY FRANKLIN R       400000                      NaN                      NaN   \n",
       "\n",
       "                      poi  salary  shared_receipt_with_poi  total_payments  \\\n",
       "ALLEN PHILLIP K     False  201955                     1407         4484442   \n",
       "BADUM JAMES P       False     NaN                      NaN          182466   \n",
       "BANNANTINE JAMES M  False     477                      465          916197   \n",
       "BAXTER JOHN C       False  267102                      NaN         5634343   \n",
       "BAY FRANKLIN R      False  239671                      NaN          827696   \n",
       "\n",
       "                    sent_received_ratio  \n",
       "ALLEN PHILLIP K                1.382979  \n",
       "BADUM JAMES P                       NaN  \n",
       "BANNANTINE JAMES M             0.000000  \n",
       "BAXTER JOHN C                       NaN  \n",
       "BAY FRANKLIN R                      NaN  "
      ]
     },
     "execution_count": 385,
     "metadata": {},
     "output_type": "execute_result"
    }
   ],
   "source": [
    "enron_df[\"sent_received_ratio\"] = enron_df.apply(lambda row: email_perc(row), axis=1)\n",
    "enron_df.head()"
   ]
  },
  {
   "cell_type": "code",
   "execution_count": 386,
   "metadata": {
    "collapsed": false
   },
   "outputs": [
    {
     "data": {
      "text/plain": [
       "<matplotlib.collections.PathCollection at 0x10d9bfed0>"
      ]
     },
     "execution_count": 386,
     "metadata": {},
     "output_type": "execute_result"
    },
    {
     "data": {
      "image/png": "[encoded data removed]",
      "text/plain": [
       "<matplotlib.figure.Figure at 0x10ce0e510>"
      ]
     },
     "metadata": {},
     "output_type": "display_data"
    }
   ],
   "source": [
    "plt.scatter(enron_df.bonus, enron_df.sent_received_ratio, c=enron_df.poi)"
   ]
  },
  {
   "cell_type": "markdown",
   "metadata": {
    "collapsed": false
   },
   "source": [
    "## display_outlier('sent_received_ratio')"
   ]
  },
  {
   "cell_type": "markdown",
   "metadata": {},
   "source": [
    "Seems I'll need a non-empty-value dataset for building my classifiers. `0` would work, however this would be false information because for the `NaN` values there is actually now record, and not a `0` record."
   ]
  },
  {
   "cell_type": "code",
   "execution_count": 387,
   "metadata": {
    "collapsed": false,
    "scrolled": true
   },
   "outputs": [
    {
     "name": "stdout",
     "output_type": "stream",
     "text": [
      "61\n"
     ]
    },
    {
     "data": {
      "text/html": [
       "<div>\n",
       "<table border=\"1\" class=\"dataframe\">\n",
       "  <thead>\n",
       "    <tr style=\"text-align: right;\">\n",
       "      <th></th>\n",
       "      <th>bonus</th>\n",
       "      <th>from_poi_to_this_person</th>\n",
       "      <th>from_this_person_to_poi</th>\n",
       "      <th>poi</th>\n",
       "      <th>salary</th>\n",
       "      <th>shared_receipt_with_poi</th>\n",
       "      <th>total_payments</th>\n",
       "      <th>sent_received_ratio</th>\n",
       "    </tr>\n",
       "  </thead>\n",
       "  <tbody>\n",
       "    <tr>\n",
       "      <th>ALLEN PHILLIP K</th>\n",
       "      <td>4175000</td>\n",
       "      <td>47</td>\n",
       "      <td>65</td>\n",
       "      <td>False</td>\n",
       "      <td>201955</td>\n",
       "      <td>1407</td>\n",
       "      <td>4484442</td>\n",
       "      <td>1.382979</td>\n",
       "    </tr>\n",
       "    <tr>\n",
       "      <th>BECK SALLY W</th>\n",
       "      <td>700000</td>\n",
       "      <td>144</td>\n",
       "      <td>386</td>\n",
       "      <td>False</td>\n",
       "      <td>231330</td>\n",
       "      <td>2639</td>\n",
       "      <td>969068</td>\n",
       "      <td>2.680556</td>\n",
       "    </tr>\n",
       "    <tr>\n",
       "      <th>BELDEN TIMOTHY N</th>\n",
       "      <td>5249999</td>\n",
       "      <td>228</td>\n",
       "      <td>108</td>\n",
       "      <td>True</td>\n",
       "      <td>213999</td>\n",
       "      <td>5521</td>\n",
       "      <td>5501630</td>\n",
       "      <td>0.473684</td>\n",
       "    </tr>\n",
       "    <tr>\n",
       "      <th>BERGSIEKER RICHARD P</th>\n",
       "      <td>250000</td>\n",
       "      <td>4</td>\n",
       "      <td>0</td>\n",
       "      <td>False</td>\n",
       "      <td>187922</td>\n",
       "      <td>233</td>\n",
       "      <td>618850</td>\n",
       "      <td>0.000000</td>\n",
       "    </tr>\n",
       "    <tr>\n",
       "      <th>BIBI PHILIPPE A</th>\n",
       "      <td>1000000</td>\n",
       "      <td>23</td>\n",
       "      <td>8</td>\n",
       "      <td>False</td>\n",
       "      <td>213625</td>\n",
       "      <td>1336</td>\n",
       "      <td>2047593</td>\n",
       "      <td>0.347826</td>\n",
       "    </tr>\n",
       "  </tbody>\n",
       "</table>\n",
       "</div>"
      ],
      "text/plain": [
       "                        bonus  from_poi_to_this_person  \\\n",
       "ALLEN PHILLIP K       4175000                       47   \n",
       "BECK SALLY W           700000                      144   \n",
       "BELDEN TIMOTHY N      5249999                      228   \n",
       "BERGSIEKER RICHARD P   250000                        4   \n",
       "BIBI PHILIPPE A       1000000                       23   \n",
       "\n",
       "                      from_this_person_to_poi    poi  salary  \\\n",
       "ALLEN PHILLIP K                            65  False  201955   \n",
       "BECK SALLY W                              386  False  231330   \n",
       "BELDEN TIMOTHY N                          108   True  213999   \n",
       "BERGSIEKER RICHARD P                        0  False  187922   \n",
       "BIBI PHILIPPE A                             8  False  213625   \n",
       "\n",
       "                      shared_receipt_with_poi  total_payments  \\\n",
       "ALLEN PHILLIP K                          1407         4484442   \n",
       "BECK SALLY W                             2639          969068   \n",
       "BELDEN TIMOTHY N                         5521         5501630   \n",
       "BERGSIEKER RICHARD P                      233          618850   \n",
       "BIBI PHILIPPE A                          1336         2047593   \n",
       "\n",
       "                      sent_received_ratio  \n",
       "ALLEN PHILLIP K                  1.382979  \n",
       "BECK SALLY W                     2.680556  \n",
       "BELDEN TIMOTHY N                 0.473684  \n",
       "BERGSIEKER RICHARD P             0.000000  \n",
       "BIBI PHILIPPE A                  0.347826  "
      ]
     },
     "execution_count": 387,
     "metadata": {},
     "output_type": "execute_result"
    }
   ],
   "source": [
    "enron_no_na = enron_df.dropna()\n",
    "print len(enron_no_na)\n",
    "enron_no_na.head()"
   ]
  },
  {
   "cell_type": "code",
   "execution_count": 388,
   "metadata": {
    "collapsed": false
   },
   "outputs": [
    {
     "name": "stdout",
     "output_type": "stream",
     "text": [
      "134\n"
     ]
    }
   ],
   "source": [
    "enron_median = enron_df.fillna(enron_df.median().to_dict())\n",
    "print len(enron_median)"
   ]
  },
  {
   "cell_type": "code",
   "execution_count": 389,
   "metadata": {
    "collapsed": false
   },
   "outputs": [],
   "source": [
    "# reformat the pandas df to a dict, for further processing with the lesson code\n",
    "my_dataset = enron_df.to_dict(orient='index')\n",
    "no_na_dataset = enron_no_na.to_dict(orient='index')\n",
    "median_dataset = enron_median.to_dict(orient='index')\n",
    "\n",
    "#print my_dataset['METTS MARK'], '\\n'\n",
    "#print no_na_dataset['METTS MARK'], '\\n'\n",
    "#print median_dataset['ALLEN PHILLIP K']"
   ]
  },
  {
   "cell_type": "markdown",
   "metadata": {},
   "source": [
    "Here I'll be choosing the final features_list, that will exclude the two features `from_this_person_to_poi` and `from_poi_to_this_person`, and instead include the newly created ratio `sent_received_ratio`."
   ]
  },
  {
   "cell_type": "code",
   "execution_count": 390,
   "metadata": {
    "collapsed": false
   },
   "outputs": [],
   "source": [
    "#features_list.remove('from_this_person_to_poi')\n",
    "#features_list.remove('from_poi_to_this_person')\n",
    "features_list.append('sent_received_ratio')"
   ]
  },
  {
   "cell_type": "code",
   "execution_count": 391,
   "metadata": {
    "collapsed": false
   },
   "outputs": [
    {
     "name": "stdout",
     "output_type": "stream",
     "text": [
      "['poi', 'shared_receipt_with_poi', 'from_poi_to_this_person', 'salary', 'total_payments', 'bonus', 'from_this_person_to_poi', 'sent_received_ratio']\n"
     ]
    }
   ],
   "source": [
    "print features_list"
   ]
  },
  {
   "cell_type": "code",
   "execution_count": 392,
   "metadata": {
    "collapsed": false
   },
   "outputs": [],
   "source": [
    "### Extract features and labels from datasets for local testing\n",
    "data = featureFormat(my_dataset, features_list, sort_keys = True)\n",
    "labels, features = targetFeatureSplit(data)\n",
    "\n",
    "# creating a dataset without NaN values (removing the rows that contain NaN)\n",
    "no_na_data = featureFormat(no_na_dataset, features_list, sort_keys = True)\n",
    "no_na_labels, no_na_features = targetFeatureSplit(no_na_data)\n",
    "\n",
    "# creating a dataset with NaN replaced by the median\n",
    "median_data = featureFormat(median_dataset, features_list, sort_keys = True)\n",
    "median_labels, median_features = targetFeatureSplit(median_data)"
   ]
  },
  {
   "cell_type": "markdown",
   "metadata": {},
   "source": [
    "## Classifiers"
   ]
  },
  {
   "cell_type": "markdown",
   "metadata": {},
   "source": [
    "Splitting my data into test and training data. I'll be using 30% of the data for testing purposes.\n",
    "\n",
    "Because there are a bunch of `NaN` values in the dataset, I tried to versions of analysis with my dataset:\n",
    "\n",
    "1. removing the rows that contain `NaN` values\n",
    "2. filling them with the **median**\n",
    "\n",
    "I decided for the median over the mean, because **outliers** (in the form of at least the already identified pois) are present and important to the data and the prediction. When using the mean on the now-empty values, these outliers would severly alter the distribution. Therefore I chose the median, because it is resisting outlier-influence."
   ]
  },
  {
   "cell_type": "code",
   "execution_count": 393,
   "metadata": {
    "collapsed": true
   },
   "outputs": [],
   "source": [
    "from sklearn.cross_validation import train_test_split\n",
    "\n",
    "# features without filtering\n",
    "features_train, features_test, labels_train, labels_test = train_test_split(features, labels, test_size=0.3, random_state=42)\n",
    "# features filtered, NaN values removed\n",
    "no_na_features_train, no_na_features_test, no_na_labels_train, no_na_labels_test = train_test_split(no_na_features, no_na_labels, test_size=0.3, random_state=42)\n",
    "# features filtered, NaN replaced with the median\n",
    "median_features_train, median_features_test, median_labels_train, median_labels_test = train_test_split(median_features, median_labels, test_size=0.3, random_state=42)\n",
    "\n",
    "# creating lists:\n",
    "full_feat_list = [features_train, features_test, labels_train, labels_test]\n",
    "no_na_list = [no_na_features_train, no_na_features_test, no_na_labels_train, no_na_labels_test]\n",
    "median_list = [median_features_train, median_features_test, median_labels_train, median_labels_test]"
   ]
  },
  {
   "cell_type": "code",
   "execution_count": 403,
   "metadata": {
    "collapsed": true
   },
   "outputs": [],
   "source": [
    "def test_classifier(classifier_obj, data, scale=False):\n",
    "    \"\"\"Measures the time and accuracy of a given classifier.\n",
    "    \n",
    "    Takes as input a classifiert object (tuned or untuned)\n",
    "    and a list containing the training and testing features and labels\n",
    "    in this form:\n",
    "    data = [features_train, features_test, labels_train, labels_test]\n",
    "    Prints processing time and overall accuracy score.\n",
    "    \"\"\"\n",
    "    from time import time\n",
    "    from sklearn.metrics import accuracy_score\n",
    "    from sklearn.preprocessing import MinMaxScaler\n",
    "    \n",
    "    # scaling the data when the type of algorithm demands this\n",
    "    if scale == True:\n",
    "        scaler = MinMaxScaler()\n",
    "        features_train = scaler.fit_transform(data[0])\n",
    "        features_test = scaler.transform(data[1])\n",
    "    else:\n",
    "        features_train = data[0]\n",
    "        features_test = data[1]\n",
    "    labels_train = data[2]\n",
    "    labels_test = data[3]\n",
    "    \n",
    "    ### uncomment for information about time performance and accuracy ###\n",
    "    ## taking the time the algorithm runs\n",
    "    #t0 = time()\n",
    "    classifier_obj.fit(features_train, labels_train)\n",
    "    #print \"training time:\", round(time()-t0, 3), \"s\"\n",
    "    \n",
    "    ## taking time for prediction\n",
    "    #t1 = time()\n",
    "    pred = classifier_obj.predict(features_test)\n",
    "    #print \"predicting time:\", round(time()-t1, 3), \"s\"\n",
    "    \n",
    "    #acc = accuracy_score(labels_test, pred)\n",
    "    #print \"accuracy:\", acc\n",
    "    \n",
    "    print construct_CM(labels_test, pred)\n",
    "    print calculate_f1(labels_test, pred)"
   ]
  },
  {
   "cell_type": "code",
   "execution_count": 404,
   "metadata": {
    "collapsed": false
   },
   "outputs": [],
   "source": [
    "def get_CM_nums(true_labels, predictions, CM_type):\n",
    "    \"\"\"Calculates the number of elements in the different cells of a confusion matrix.\n",
    "\n",
    "    Takes as input the true labels and the predictions, both as lists.\n",
    "    Further a specification of the metric wanted as an abbreviated string:\n",
    "    'TP' for True Positives, 'FP' for False Positives\n",
    "    'TN' for True Negatives, 'FN' for False Negatives\n",
    "    Returns the amount of the specified metric.\n",
    "    \"\"\"\n",
    "    import numpy as np\n",
    "    \n",
    "    if CM_type == \"TP\" or CM_type == \"TN\":\n",
    "        if CM_type == \"TP\":\n",
    "            CM_type = 1\n",
    "        elif CM_type == \"TN\":\n",
    "            CM_type = 0\n",
    "        cpp = [1 for j in zip(true_labels, predictions) if j[0] == j[1] and j[1] == CM_type]\n",
    "    elif CM_type == \"FP\" or CM_type == \"FN\":\n",
    "        if CM_type == \"FP\":\n",
    "            CM_type = 1\n",
    "        elif CM_type == \"FN\":\n",
    "            CM_type = 0\n",
    "        cpp = [1 for j in zip(true_labels, predictions) if j[0] != j[1] and j[1] == CM_type]\n",
    "    else:\n",
    "        print \"error, please enter TP, TN, FP, or FN.\"\n",
    "    num_cpp = np.sum(cpp)\n",
    "    return int(num_cpp)\n",
    "\n",
    "def construct_CM(true_labels, predictions):\n",
    "    \"\"\"Wrapper function to calculate the confusion matrix and returns a formatted string.\n",
    "\n",
    "    Takes as input the true labels and the predictions, both as lists.\n",
    "    Calls get_CM_nums() with all possible inputs (TP, FP, TN, FN)\n",
    "    Returns a formatted string representing the confusion martrix that is easy to read.\n",
    "    \"\"\"\n",
    "    num_TP = get_CM_nums(true_labels, predictions, \"TP\")\n",
    "    num_TN = get_CM_nums(true_labels, predictions, \"TN\")\n",
    "    num_FP = get_CM_nums(true_labels, predictions, \"FP\")\n",
    "    num_FN = get_CM_nums(true_labels, predictions, \"FN\")\n",
    "\n",
    "    return \"\"\"confusion matrix:                  \n",
    "              predicted class\n",
    "              _Yes_|__No_\n",
    "actual | Yes |  {0}  |  {3}\n",
    "class  | No  |  {2}  |  {1}\"\"\".format(num_TP, num_TN, num_FP, num_FN)\n",
    "\n",
    "def calculate_f1(true_labels, predictions):\n",
    "    \"\"\"Calculates statistical metrics for the classifier's prediction.\n",
    "    \n",
    "    Takes as input the true labels and the predictions, both as lists.\n",
    "    Returns a string containing the scores for precision recall and the f1-score.\n",
    "    \"\"\"\n",
    "    from sklearn.metrics import precision_score\n",
    "    from sklearn.metrics import recall_score\n",
    "    from sklearn.metrics import f1_score\n",
    "    \n",
    "    precision = precision_score(true_labels, predictions)\n",
    "    recall = recall_score(true_labels, predictions)\n",
    "    f1_score =  f1_score(true_labels, predictions)\n",
    "    return \"\"\"precision: {0}\n",
    "recall:    {1}\n",
    "f1_score:  {2}\"\"\".format(precision, recall, f1_score)"
   ]
  },
  {
   "cell_type": "code",
   "execution_count": 405,
   "metadata": {
    "collapsed": false
   },
   "outputs": [],
   "source": [
    "def test_a_lot(training_test_list):\n",
    "    \"\"\"Wrapper function that calculates performance results for different classifiers and prints the results.\n",
    "    \n",
    "    Takes as input a list of test and training data in the following form:\n",
    "    'training_test_list = [features_train, features_test, labels_train, labels_test]'\n",
    "    Calls the functions test_classifier() on Naive Bayes, SVM (with different settings),\n",
    "    Decision Trees (with different settings), ans K-nearest neighbors (with different settings).\n",
    "    Prints all results in formatted output.\n",
    "    \"\"\"\n",
    "    from sklearn.naive_bayes import GaussianNB\n",
    "    from sklearn.svm import SVC\n",
    "    from sklearn.tree import DecisionTreeClassifier\n",
    "    from sklearn.neighbors import KNeighborsClassifier\n",
    "\n",
    "    print \"PERFORMANCE RESULTS OF DIFFERENT CLASSIFIERS\"\n",
    "\n",
    "    ### Naive Bayes\n",
    "    print \"\\n\\n\\n### NAIVE BAYES ###\"\n",
    "    clf = GaussianNB()\n",
    "    test_classifier(clf, training_test_list)\n",
    "\n",
    "\n",
    "    ### Support Vector Machines\n",
    "    print \"\\n\\n\\n### SUPPORT VECTOR MACHINES ###\"\n",
    "    # 'rbf' is the default kernel used\n",
    "    print \"# with 'rbf' kernel\"\n",
    "    clf = SVC()\n",
    "    test_classifier(clf, training_test_list, scale=True)\n",
    "    print '\\n'\n",
    "\n",
    "    # 'sigmoid'\n",
    "    print \"# with 'sigmoid' kernel\"\n",
    "    clf = SVC(kernel=\"sigmoid\")\n",
    "    test_classifier(clf, training_test_list, scale=True)\n",
    "\n",
    "\n",
    "    ### Decision Trees\n",
    "    print \"\\n\\n\\n### DECISION TREES ###\"\n",
    "    # 'max_features' default is None = n_features\n",
    "    print \"# using all features\"\n",
    "    clf = DecisionTreeClassifier()\n",
    "    test_classifier(clf, training_test_list)\n",
    "    print '\\n'\n",
    "\n",
    "    # 'sqrt'\n",
    "    print \"# using the square root of the features\"\n",
    "    clf = DecisionTreeClassifier(max_features=\"sqrt\")\n",
    "    test_classifier(clf, training_test_list)\n",
    "    print '\\n'\n",
    "\n",
    "    # 'log2'\n",
    "    print \"# using the log2 of the features\"\n",
    "    clf = DecisionTreeClassifier(max_features=\"log2\")\n",
    "    test_classifier(clf, training_test_list)\n",
    "    print '\\n'\n",
    "    \n",
    "    # running the Decision Tree for all possible feature amounts\n",
    "    for i in range(1,6):\n",
    "        print \"# using {0} feature(s)\".format(i)\n",
    "        clf = DecisionTreeClassifier(max_features=i)\n",
    "        test_classifier(clf, training_test_list)\n",
    "        print '\\n'\n",
    "\n",
    "\n",
    "    ### K-nearest Neighbours\n",
    "    print \"\\n\\n\\n### K-NEAREST NEIGHBORS ###\"\n",
    "    # 'n_neighbors' default is 5\n",
    "    print \"# with k = 6 (all features)\"\n",
    "    neigh = KNeighborsClassifier(n_neighbors=6)\n",
    "    test_classifier(neigh, training_test_list, scale=True)\n",
    "    print '\\n'\n",
    "    \n",
    "    # 'n_neighbors' default is 5\n",
    "    print \"# with k = 5\"\n",
    "    neigh = KNeighborsClassifier()\n",
    "    test_classifier(neigh, training_test_list, scale=True)\n",
    "    print '\\n'\n",
    "\n",
    "    # running kNN for some different amounts of neighbors\n",
    "    for i in range(1,5):\n",
    "        print \"# with k =\", i\n",
    "        neigh = KNeighborsClassifier(n_neighbors=i)\n",
    "        test_classifier(neigh, training_test_list, scale=True)\n",
    "        print '\\n'"
   ]
  },
  {
   "cell_type": "code",
   "execution_count": 407,
   "metadata": {
    "collapsed": false
   },
   "outputs": [
    {
     "name": "stdout",
     "output_type": "stream",
     "text": [
      "PERFORMANCE RESULTS OF DIFFERENT CLASSIFIERS\n",
      "\n",
      "\n",
      "\n",
      "### NAIVE BAYES ###\n",
      "confusion matrix:                  \n",
      "              predicted class\n",
      "              _Yes_|__No_\n",
      "actual | Yes |  1  |  4\n",
      "class  | No  |  3  |  11\n",
      "precision: 0.25\n",
      "recall:    0.2\n",
      "f1_score:  0.222222222222\n",
      "\n",
      "\n",
      "\n",
      "### SUPPORT VECTOR MACHINES ###\n",
      "# with 'rbf' kernel\n",
      "confusion matrix:                  \n",
      "              predicted class\n",
      "              _Yes_|__No_\n",
      "actual | Yes |  0  |  5\n",
      "class  | No  |  0  |  14\n",
      "precision: 0.0\n",
      "recall:    0.0\n",
      "f1_score:  0.0\n",
      "\n",
      "\n",
      "# with 'sigmoid' kernel\n",
      "confusion matrix:                  \n",
      "              predicted class\n",
      "              _Yes_|__No_\n",
      "actual | Yes |  0  |  5\n",
      "class  | No  |  0  |  14\n",
      "precision: 0.0\n",
      "recall:    0.0\n",
      "f1_score:  0.0\n",
      "\n",
      "\n",
      "\n",
      "### DECISION TREES ###\n",
      "# using all features\n",
      "confusion matrix:                  \n",
      "              predicted class\n",
      "              _Yes_|__No_\n",
      "actual | Yes |  3  |  2\n",
      "class  | No  |  5  |  9\n",
      "precision: 0.375\n",
      "recall:    0.6\n",
      "f1_score:  0.461538461538\n",
      "\n",
      "\n",
      "# using the square root of the features\n",
      "confusion matrix:                  \n",
      "              predicted class\n",
      "              _Yes_|__No_\n",
      "actual | Yes |  2  |  3\n",
      "class  | No  |  3  |  11\n",
      "precision: 0.4\n",
      "recall:    0.4\n",
      "f1_score:  0.4\n",
      "\n",
      "\n",
      "# using the log2 of the features\n",
      "confusion matrix:                  \n",
      "              predicted class\n",
      "              _Yes_|__No_\n",
      "actual | Yes |  1  |  4\n",
      "class  | No  |  3  |  11\n",
      "precision: 0.25\n",
      "recall:    0.2\n",
      "f1_score:  0.222222222222\n",
      "\n",
      "\n",
      "# using 1 feature(s)\n",
      "confusion matrix:                  \n",
      "              predicted class\n",
      "              _Yes_|__No_\n",
      "actual | Yes |  3  |  2\n",
      "class  | No  |  3  |  11\n",
      "precision: 0.5\n",
      "recall:    0.6\n",
      "f1_score:  0.545454545455\n",
      "\n",
      "\n",
      "# using 2 feature(s)\n",
      "confusion matrix:                  \n",
      "              predicted class\n",
      "              _Yes_|__No_\n",
      "actual | Yes |  2  |  3\n",
      "class  | No  |  4  |  10\n",
      "precision: 0.333333333333\n",
      "recall:    0.4\n",
      "f1_score:  0.363636363636\n",
      "\n",
      "\n",
      "# using 3 feature(s)\n",
      "confusion matrix:                  \n",
      "              predicted class\n",
      "              _Yes_|__No_\n",
      "actual | Yes |  2  |  3\n",
      "class  | No  |  2  |  12\n",
      "precision: 0.5\n",
      "recall:    0.4\n",
      "f1_score:  0.444444444444\n",
      "\n",
      "\n",
      "# using 4 feature(s)\n",
      "confusion matrix:                  \n",
      "              predicted class\n",
      "              _Yes_|__No_\n",
      "actual | Yes |  3  |  2\n",
      "class  | No  |  3  |  11\n",
      "precision: 0.5\n",
      "recall:    0.6\n",
      "f1_score:  0.545454545455\n",
      "\n",
      "\n",
      "# using 5 feature(s)\n",
      "confusion matrix:                  \n",
      "              predicted class\n",
      "              _Yes_|__No_\n",
      "actual | Yes |  3  |  2\n",
      "class  | No  |  5  |  9\n",
      "precision: 0.375\n",
      "recall:    0.6\n",
      "f1_score:  0.461538461538\n",
      "\n",
      "\n",
      "\n",
      "\n",
      "\n",
      "### K-NEAREST NEIGHBORS ###\n",
      "# with k = 6 (all features)\n",
      "confusion matrix:                  \n",
      "              predicted class\n",
      "              _Yes_|__No_\n",
      "actual | Yes |  0  |  5\n",
      "class  | No  |  0  |  14\n",
      "precision: 0.0\n",
      "recall:    0.0\n",
      "f1_score:  0.0\n",
      "\n",
      "\n",
      "# with k = 5\n",
      "confusion matrix:                  \n",
      "              predicted class\n",
      "              _Yes_|__No_\n",
      "actual | Yes |  1  |  4\n",
      "class  | No  |  0  |  14\n",
      "precision: 1.0\n",
      "recall:    0.2\n",
      "f1_score:  0.333333333333\n",
      "\n",
      "\n",
      "# with k = 1\n",
      "confusion matrix:                  \n",
      "              predicted class\n",
      "              _Yes_|__No_\n",
      "actual | Yes |  1  |  4\n",
      "class  | No  |  2  |  12\n",
      "precision: 0.333333333333\n",
      "recall:    0.2\n",
      "f1_score:  0.25\n",
      "\n",
      "\n",
      "# with k = 2\n",
      "confusion matrix:                  \n",
      "              predicted class\n",
      "              _Yes_|__No_\n",
      "actual | Yes |  0  |  5\n",
      "class  | No  |  0  |  14\n",
      "precision: 0.0\n",
      "recall:    0.0\n",
      "f1_score:  0.0\n",
      "\n",
      "\n",
      "# with k = 3\n",
      "confusion matrix:                  \n",
      "              predicted class\n",
      "              _Yes_|__No_\n",
      "actual | Yes |  0  |  5\n",
      "class  | No  |  0  |  14\n",
      "precision: 0.0\n",
      "recall:    0.0\n",
      "f1_score:  0.0\n",
      "\n",
      "\n",
      "# with k = 4\n",
      "confusion matrix:                  \n",
      "              predicted class\n",
      "              _Yes_|__No_\n",
      "actual | Yes |  0  |  5\n",
      "class  | No  |  0  |  14\n",
      "precision: 0.0\n",
      "recall:    0.0\n",
      "f1_score:  0.0\n",
      "\n",
      "\n"
     ]
    }
   ],
   "source": [
    "test_a_lot(no_na_list)"
   ]
  },
  {
   "cell_type": "code",
   "execution_count": 496,
   "metadata": {
    "collapsed": false
   },
   "outputs": [
    {
     "name": "stdout",
     "output_type": "stream",
     "text": [
      "PERFORMANCE RESULTS OF DIFFERENT CLASSIFIERS\n",
      "\n",
      "\n",
      "\n",
      "### NAIVE BAYES ###\n",
      "confusion matrix:                  \n",
      "              predicted class\n",
      "              _Yes_|__No_\n",
      "actual | Yes |  0  |  3\n",
      "class  | No  |  6  |  32\n",
      "precision: 0.0\n",
      "recall:    0.0\n",
      "f1_score:  0.0\n",
      "\n",
      "\n",
      "\n",
      "### SUPPORT VECTOR MACHINES ###\n",
      "# with 'rbf' kernel\n",
      "confusion matrix:                  \n",
      "              predicted class\n",
      "              _Yes_|__No_\n",
      "actual | Yes |  0  |  3\n",
      "class  | No  |  0  |  38\n",
      "precision: 0.0\n",
      "recall:    0.0\n",
      "f1_score:  0.0\n",
      "\n",
      "\n",
      "# with 'sigmoid' kernel\n",
      "confusion matrix:                  \n",
      "              predicted class\n",
      "              _Yes_|__No_\n",
      "actual | Yes |  0  |  3\n",
      "class  | No  |  0  |  38\n",
      "precision: 0.0\n",
      "recall:    0.0\n",
      "f1_score:  0.0\n",
      "\n",
      "\n",
      "\n",
      "### DECISION TREES ###\n",
      "# using all features\n",
      "confusion matrix:                  \n",
      "              predicted class\n",
      "              _Yes_|__No_\n",
      "actual | Yes |  0  |  3\n",
      "class  | No  |  6  |  32\n",
      "precision: 0.0\n",
      "recall:    0.0\n",
      "f1_score:  0.0\n",
      "\n",
      "\n",
      "# using the square root of the features\n",
      "confusion matrix:                  \n",
      "              predicted class\n",
      "              _Yes_|__No_\n",
      "actual | Yes |  1  |  2\n",
      "class  | No  |  5  |  33\n",
      "precision: 0.166666666667\n",
      "recall:    0.333333333333\n",
      "f1_score:  0.222222222222\n",
      "\n",
      "\n",
      "# using the log2 of the features\n",
      "confusion matrix:                  \n",
      "              predicted class\n",
      "              _Yes_|__No_\n",
      "actual | Yes |  0  |  3\n",
      "class  | No  |  7  |  31\n",
      "precision: 0.0\n",
      "recall:    0.0\n",
      "f1_score:  0.0\n",
      "\n",
      "\n",
      "# using 1 feature(s)\n",
      "confusion matrix:                  \n",
      "              predicted class\n",
      "              _Yes_|__No_\n",
      "actual | Yes |  1  |  2\n",
      "class  | No  |  6  |  32\n",
      "precision: 0.142857142857\n",
      "recall:    0.333333333333\n",
      "f1_score:  0.2\n",
      "\n",
      "\n",
      "# using 2 feature(s)\n",
      "confusion matrix:                  \n",
      "              predicted class\n",
      "              _Yes_|__No_\n",
      "actual | Yes |  0  |  3\n",
      "class  | No  |  4  |  34\n",
      "precision: 0.0\n",
      "recall:    0.0\n",
      "f1_score:  0.0\n",
      "\n",
      "\n",
      "# using 3 feature(s)\n",
      "confusion matrix:                  \n",
      "              predicted class\n",
      "              _Yes_|__No_\n",
      "actual | Yes |  1  |  2\n",
      "class  | No  |  9  |  29\n",
      "precision: 0.1\n",
      "recall:    0.333333333333\n",
      "f1_score:  0.153846153846\n",
      "\n",
      "\n",
      "# using 4 feature(s)\n",
      "confusion matrix:                  \n",
      "              predicted class\n",
      "              _Yes_|__No_\n",
      "actual | Yes |  0  |  3\n",
      "class  | No  |  4  |  34\n",
      "precision: 0.0\n",
      "recall:    0.0\n",
      "f1_score:  0.0\n",
      "\n",
      "\n",
      "# using 5 feature(s)\n",
      "confusion matrix:                  \n",
      "              predicted class\n",
      "              _Yes_|__No_\n",
      "actual | Yes |  0  |  3\n",
      "class  | No  |  6  |  32\n",
      "precision: 0.0\n",
      "recall:    0.0\n",
      "f1_score:  0.0\n",
      "\n",
      "\n",
      "\n",
      "\n",
      "\n",
      "### K-NEAREST NEIGHBORS ###\n",
      "# with k = 6 (all features)\n",
      "confusion matrix:                  \n",
      "              predicted class\n",
      "              _Yes_|__No_\n",
      "actual | Yes |  0  |  3\n",
      "class  | No  |  0  |  38\n",
      "precision: 0.0\n",
      "recall:    0.0\n",
      "f1_score:  0.0\n",
      "\n",
      "\n",
      "# with k = 5\n",
      "confusion matrix:                  \n",
      "              predicted class\n",
      "              _Yes_|__No_\n",
      "actual | Yes |  0  |  3\n",
      "class  | No  |  1  |  37\n",
      "precision: 0.0\n",
      "recall:    0.0\n",
      "f1_score:  0.0\n",
      "\n",
      "\n",
      "# with k = 1\n",
      "confusion matrix:                  \n",
      "              predicted class\n",
      "              _Yes_|__No_\n",
      "actual | Yes |  1  |  2\n",
      "class  | No  |  4  |  34\n",
      "precision: 0.2\n",
      "recall:    0.333333333333\n",
      "f1_score:  0.25\n",
      "\n",
      "\n",
      "# with k = 2\n",
      "confusion matrix:                  \n",
      "              predicted class\n",
      "              _Yes_|__No_\n",
      "actual | Yes |  0  |  3\n",
      "class  | No  |  1  |  37\n",
      "precision: 0.0\n",
      "recall:    0.0\n",
      "f1_score:  0.0\n",
      "\n",
      "\n",
      "# with k = 3\n",
      "confusion matrix:                  \n",
      "              predicted class\n",
      "              _Yes_|__No_\n",
      "actual | Yes |  0  |  3\n",
      "class  | No  |  2  |  36\n",
      "precision: 0.0\n",
      "recall:    0.0\n",
      "f1_score:  0.0\n",
      "\n",
      "\n",
      "# with k = 4\n",
      "confusion matrix:                  \n",
      "              predicted class\n",
      "              _Yes_|__No_\n",
      "actual | Yes |  0  |  3\n",
      "class  | No  |  0  |  38\n",
      "precision: 0.0\n",
      "recall:    0.0\n",
      "f1_score:  0.0\n",
      "\n",
      "\n"
     ]
    }
   ],
   "source": [
    "test_a_lot(median_list)"
   ]
  },
  {
   "cell_type": "markdown",
   "metadata": {},
   "source": [
    "## Tuning\n",
    "I've received the best F1-scores using **Decision Trees**, so this has become my Classifier of choice. In the following part I will try to figure out what set of features yields the best result."
   ]
  },
  {
   "cell_type": "code",
   "execution_count": 409,
   "metadata": {
    "collapsed": false
   },
   "outputs": [
    {
     "name": "stdout",
     "output_type": "stream",
     "text": [
      "['poi', 'shared_receipt_with_poi', 'from_poi_to_this_person', 'salary', 'total_payments', 'bonus', 'from_this_person_to_poi', 'sent_received_ratio']\n"
     ]
    }
   ],
   "source": [
    "print features_list"
   ]
  },
  {
   "cell_type": "code",
   "execution_count": 418,
   "metadata": {
    "collapsed": true
   },
   "outputs": [],
   "source": [
    "def test_feature_combinations(features_list):\n",
    "    from feature_format import featureFormat, targetFeatureSplit\n",
    "    from sklearn.cross_validation import train_test_split\n",
    "    from sklearn.tree import DecisionTreeClassifier\n",
    "    \n",
    "    ### Extract features and labels from datasets for local testing\n",
    "    no_na_data = featureFormat(no_na_dataset, features_list, sort_keys = True)\n",
    "    labels, features = targetFeatureSplit(no_na_data)\n",
    "    \n",
    "    # new features filtered, NaN values removed\n",
    "    features_train, features_test, labels_train, labels_test = train_test_split(features,\n",
    "                                                                                labels,\n",
    "                                                                                test_size=0.3,\n",
    "                                                                                random_state=42)\n",
    "    \n",
    "    clf = DecisionTreeClassifier()\n",
    "    \n",
    "    clf.fit(features_train, labels_train)\n",
    "    pred = clf.predict(features_test)\n",
    "    \n",
    "    print construct_CM(labels_test, pred)\n",
    "    print calculate_f1(labels_test, pred)"
   ]
  },
  {
   "cell_type": "code",
   "execution_count": 414,
   "metadata": {
    "collapsed": false
   },
   "outputs": [
    {
     "name": "stdout",
     "output_type": "stream",
     "text": [
      "possible combinations: 720\n"
     ]
    }
   ],
   "source": [
    "import math\n",
    "print \"possible combinations:\", math.factorial(6)"
   ]
  },
  {
   "cell_type": "code",
   "execution_count": 415,
   "metadata": {
    "collapsed": false
   },
   "outputs": [
    {
     "name": "stdout",
     "output_type": "stream",
     "text": [
      "[['a', 'ab', 'ac', 'ad'], ['ba', 'b', 'bc', 'bd'], ['ca', 'cb', 'c', 'cd'], ['da', 'db', 'dc', 'd']]\n"
     ]
    }
   ],
   "source": [
    "testlist = [\"a\",\"b\",\"c\",\"d\"]\n",
    "\n",
    "all_list = []\n",
    "for c in testlist:\n",
    "    a_list = []\n",
    "    for cc in testlist:\n",
    "        if c != cc:\n",
    "            comb = c + cc\n",
    "        else:\n",
    "            comb = c\n",
    "        a_list.append(comb)\n",
    "    all_list.append(a_list)\n",
    "    \n",
    "print all_list"
   ]
  },
  {
   "cell_type": "code",
   "execution_count": 419,
   "metadata": {
    "collapsed": false
   },
   "outputs": [
    {
     "name": "stdout",
     "output_type": "stream",
     "text": [
      "confusion matrix:                  \n",
      "              predicted class\n",
      "              _Yes_|__No_\n",
      "actual | Yes |  3  |  2\n",
      "class  | No  |  5  |  9\n",
      "precision: 0.375\n",
      "recall:    0.6\n",
      "f1_score:  0.461538461538\n"
     ]
    }
   ],
   "source": [
    "features = ['poi',\n",
    "            'shared_receipt_with_poi',\n",
    "            'from_poi_to_this_person',\n",
    "            'salary',\n",
    "            'total_payments',\n",
    "            'bonus',\n",
    "            'from_this_person_to_poi',\n",
    "            'sent_received_ratio']\n",
    "\n",
    "test_feature_combinations(features)"
   ]
  },
  {
   "cell_type": "code",
   "execution_count": 433,
   "metadata": {
    "collapsed": false,
    "scrolled": true
   },
   "outputs": [
    {
     "name": "stdout",
     "output_type": "stream",
     "text": [
      "confusion matrix:                  \n",
      "              predicted class\n",
      "              _Yes_|__No_\n",
      "actual | Yes |  2  |  3\n",
      "class  | No  |  3  |  11\n",
      "precision: 0.4\n",
      "recall:    0.4\n",
      "f1_score:  0.4\n"
     ]
    }
   ],
   "source": [
    "features = ['poi',\n",
    "            'shared_receipt_with_poi',\n",
    "            'salary',\n",
    "            'total_payments',\n",
    "            'bonus']\n",
    "\n",
    "test_feature_combinations(features)"
   ]
  },
  {
   "cell_type": "code",
   "execution_count": 422,
   "metadata": {
    "collapsed": false,
    "scrolled": true
   },
   "outputs": [
    {
     "name": "stdout",
     "output_type": "stream",
     "text": [
      "confusion matrix:                  \n",
      "              predicted class\n",
      "              _Yes_|__No_\n",
      "actual | Yes |  1  |  4\n",
      "class  | No  |  8  |  6\n",
      "precision: 0.111111111111\n",
      "recall:    0.2\n",
      "f1_score:  0.142857142857\n"
     ]
    }
   ],
   "source": [
    "features = ['poi',\n",
    "            'salary',\n",
    "            'bonus']\n",
    "\n",
    "test_feature_combinations(features)"
   ]
  },
  {
   "cell_type": "code",
   "execution_count": 426,
   "metadata": {
    "collapsed": false,
    "scrolled": true
   },
   "outputs": [
    {
     "name": "stdout",
     "output_type": "stream",
     "text": [
      "confusion matrix:                  \n",
      "              predicted class\n",
      "              _Yes_|__No_\n",
      "actual | Yes |  1  |  3\n",
      "class  | No  |  0  |  14\n",
      "precision: 1.0\n",
      "recall:    0.25\n",
      "f1_score:  0.4\n"
     ]
    }
   ],
   "source": [
    "features = ['poi',\n",
    "            'from_poi_to_this_person',\n",
    "            'from_this_person_to_poi',\n",
    "            'sent_received_ratio']\n",
    "\n",
    "test_feature_combinations(features)"
   ]
  },
  {
   "cell_type": "code",
   "execution_count": 436,
   "metadata": {
    "collapsed": false
   },
   "outputs": [
    {
     "name": "stdout",
     "output_type": "stream",
     "text": [
      "confusion matrix:                  \n",
      "              predicted class\n",
      "              _Yes_|__No_\n",
      "actual | Yes |  1  |  4\n",
      "class  | No  |  3  |  11\n",
      "precision: 0.25\n",
      "recall:    0.2\n",
      "f1_score:  0.222222222222\n"
     ]
    }
   ],
   "source": [
    "features = ['poi',\n",
    "            'total_payments']\n",
    "\n",
    "test_feature_combinations(features)"
   ]
  },
  {
   "cell_type": "code",
   "execution_count": 439,
   "metadata": {
    "collapsed": false,
    "scrolled": true
   },
   "outputs": [
    {
     "name": "stdout",
     "output_type": "stream",
     "text": [
      "confusion matrix:                  \n",
      "              predicted class\n",
      "              _Yes_|__No_\n",
      "actual | Yes |  3  |  2\n",
      "class  | No  |  3  |  11\n",
      "precision: 0.5\n",
      "recall:    0.6\n",
      "f1_score:  0.545454545455\n"
     ]
    }
   ],
   "source": [
    "features = ['poi',\n",
    "            'shared_receipt_with_poi']\n",
    "\n",
    "test_feature_combinations(features)"
   ]
  },
  {
   "cell_type": "code",
   "execution_count": 438,
   "metadata": {
    "collapsed": false,
    "scrolled": true
   },
   "outputs": [
    {
     "name": "stdout",
     "output_type": "stream",
     "text": [
      "confusion matrix:                  \n",
      "              predicted class\n",
      "              _Yes_|__No_\n",
      "actual | Yes |  2  |  3\n",
      "class  | No  |  2  |  12\n",
      "precision: 0.5\n",
      "recall:    0.4\n",
      "f1_score:  0.444444444444\n"
     ]
    }
   ],
   "source": [
    "features = ['poi',\n",
    "            'bonus']\n",
    "\n",
    "test_feature_combinations(features)"
   ]
  },
  {
   "cell_type": "markdown",
   "metadata": {},
   "source": [
    "Okay, so this is a bit awkward. Let's do it more beter ; )\n",
    "\n",
    "Here I will calculate the feature importance through using an overfit Decision Tree. I will then perform this calculation 10 times and select all features that show up in either of the iterations.\n",
    "These will be the features I will use."
   ]
  },
  {
   "cell_type": "code",
   "execution_count": 489,
   "metadata": {
    "collapsed": false
   },
   "outputs": [
    {
     "name": "stdout",
     "output_type": "stream",
     "text": [
      "['poi', 'shared_receipt_with_poi', 'from_poi_to_this_person', 'salary', 'total_payments', 'bonus', 'from_this_person_to_poi', 'sent_received_ratio']\n"
     ]
    }
   ],
   "source": [
    "print features_list\n",
    "\n",
    "def get_most_important_features():\n",
    "    # creating the overfitted tree\n",
    "    from sklearn.tree import DecisionTreeClassifier\n",
    "    from sklearn.metrics import accuracy_score\n",
    "\n",
    "    no_na_data = featureFormat(no_na_dataset, features_list, sort_keys = True)\n",
    "    labels, features = targetFeatureSplit(no_na_data)\n",
    "        \n",
    "    # new features filtered, NaN values removed\n",
    "    features_train, features_test, labels_train, labels_test = train_test_split(features,\n",
    "                                                                                    labels,\n",
    "                                                                                    test_size=0.3,\n",
    "                                                                                    random_state=42)\n",
    "\n",
    "    clf = DecisionTreeClassifier()\n",
    "    clf.fit(features_train, labels_train)\n",
    "    pred = clf.predict(features_test)\n",
    "    acc = accuracy_score(labels_test, pred)\n",
    "    print \"overfitted accuracy\", acc\n",
    "\n",
    "    # calculating feature importances\n",
    "    feat_imp = clf.feature_importances_\n",
    "    # print the most important (common) ones\n",
    "    print feat_imp\n",
    "    for index, feature in enumerate(feat_imp):\n",
    "        if feature > 0.2:\n",
    "            print \"spot:\", index, \":\", features_list[index+1], \" | value:\", feature"
   ]
  },
  {
   "cell_type": "code",
   "execution_count": 494,
   "metadata": {
    "collapsed": false
   },
   "outputs": [
    {
     "name": "stdout",
     "output_type": "stream",
     "text": [
      "overfitted accuracy 0.631578947368\n",
      "[ 0.26284585  0.          0.          0.34904226  0.18333333  0.09871795\n",
      "  0.10606061]\n",
      "spot: 0 : shared_receipt_with_poi  | value: 0.262845849802\n",
      "spot: 3 : total_payments  | value: 0.349042262086\n",
      "\n",
      "\n",
      "overfitted accuracy 0.684210526316\n",
      "[ 0.25711662  0.          0.          0.26408199  0.38008344  0.09871795\n",
      "  0.        ]\n",
      "spot: 0 : shared_receipt_with_poi  | value: 0.257116620753\n",
      "spot: 3 : total_payments  | value: 0.264081987402\n",
      "spot: 4 : bonus  | value: 0.380083443127\n",
      "\n",
      "\n",
      "overfitted accuracy 0.631578947368\n",
      "[ 0.26284585  0.          0.          0.34904226  0.18333333  0.\n",
      "  0.20477855]\n",
      "spot: 0 : shared_receipt_with_poi  | value: 0.262845849802\n",
      "spot: 3 : total_payments  | value: 0.349042262086\n",
      "spot: 6 : sent_received_ratio  | value: 0.204778554779\n",
      "\n",
      "\n",
      "overfitted accuracy 0.631578947368\n",
      "[ 0.26284585  0.          0.          0.34904226  0.18333333  0.20477855\n",
      "  0.        ]\n",
      "spot: 0 : shared_receipt_with_poi  | value: 0.262845849802\n",
      "spot: 3 : total_payments  | value: 0.349042262086\n",
      "spot: 5 : from_this_person_to_poi  | value: 0.204778554779\n",
      "\n",
      "\n",
      "overfitted accuracy 0.684210526316\n",
      "[ 0.25711662  0.          0.          0.26408199  0.38008344  0.\n",
      "  0.09871795]\n",
      "spot: 0 : shared_receipt_with_poi  | value: 0.257116620753\n",
      "spot: 3 : total_payments  | value: 0.264081987402\n",
      "spot: 4 : bonus  | value: 0.380083443127\n",
      "\n",
      "\n",
      "overfitted accuracy 0.631578947368\n",
      "[ 0.26284585  0.          0.          0.34384658  0.18333333  0.10606061\n",
      "  0.10391363]\n",
      "spot: 0 : shared_receipt_with_poi  | value: 0.262845849802\n",
      "spot: 3 : total_payments  | value: 0.343846580574\n",
      "\n",
      "\n",
      "overfitted accuracy 0.631578947368\n",
      "[ 0.26284585  0.          0.          0.34384658  0.18333333  0.20997424\n",
      "  0.        ]\n",
      "spot: 0 : shared_receipt_with_poi  | value: 0.262845849802\n",
      "spot: 3 : total_payments  | value: 0.343846580574\n",
      "spot: 5 : from_this_person_to_poi  | value: 0.20997423629\n",
      "\n",
      "\n",
      "overfitted accuracy 0.631578947368\n",
      "[ 0.26284585  0.          0.          0.34904226  0.18333333  0.20477855\n",
      "  0.        ]\n",
      "spot: 0 : shared_receipt_with_poi  | value: 0.262845849802\n",
      "spot: 3 : total_payments  | value: 0.349042262086\n",
      "spot: 5 : from_this_person_to_poi  | value: 0.204778554779\n",
      "\n",
      "\n",
      "overfitted accuracy 0.684210526316\n",
      "[ 0.25711662  0.          0.          0.26408199  0.38008344  0.\n",
      "  0.09871795]\n",
      "spot: 0 : shared_receipt_with_poi  | value: 0.257116620753\n",
      "spot: 3 : total_payments  | value: 0.264081987402\n",
      "spot: 4 : bonus  | value: 0.380083443127\n",
      "\n",
      "\n",
      "overfitted accuracy 0.631578947368\n",
      "[ 0.26284585  0.          0.          0.34384658  0.18333333  0.20997424\n",
      "  0.        ]\n",
      "spot: 0 : shared_receipt_with_poi  | value: 0.262845849802\n",
      "spot: 3 : total_payments  | value: 0.343846580574\n",
      "spot: 5 : from_this_person_to_poi  | value: 0.20997423629\n",
      "\n",
      "\n"
     ]
    }
   ],
   "source": [
    "for i in range(10):\n",
    "    get_most_important_features()\n",
    "    print \"\\n\""
   ]
  },
  {
   "cell_type": "code",
   "execution_count": 488,
   "metadata": {
    "collapsed": false
   },
   "outputs": [
    {
     "name": "stdout",
     "output_type": "stream",
     "text": [
      "confusion matrix:                  \n",
      "              predicted class\n",
      "              _Yes_|__No_\n",
      "actual | Yes |  3  |  2\n",
      "class  | No  |  4  |  10\n",
      "precision: 0.428571428571\n",
      "recall:    0.6\n",
      "f1_score:  0.5\n"
     ]
    }
   ],
   "source": [
    "features = ['poi',\n",
    "            'shared_receipt_with_poi',\n",
    "            'total_payments',\n",
    "            'from_this_person_to_poi',\n",
    "            'sent_received_ratio',\n",
    "            'bonus']\n",
    "\n",
    "test_feature_combinations(features)"
   ]
  },
  {
   "cell_type": "markdown",
   "metadata": {},
   "source": [
    "Which brings me a consistently rather high F1-score. Yay. : )"
   ]
  },
  {
   "cell_type": "code",
   "execution_count": 495,
   "metadata": {
    "collapsed": false
   },
   "outputs": [
    {
     "name": "stdout",
     "output_type": "stream",
     "text": [
      "confusion matrix:                  \n",
      "              predicted class\n",
      "              _Yes_|__No_\n",
      "actual | Yes |  2  |  3\n",
      "class  | No  |  4  |  10\n",
      "precision: 0.333333333333\n",
      "recall:    0.4\n",
      "f1_score:  0.363636363636\n",
      "\n",
      "\n",
      "confusion matrix:                  \n",
      "              predicted class\n",
      "              _Yes_|__No_\n",
      "actual | Yes |  3  |  2\n",
      "class  | No  |  4  |  10\n",
      "precision: 0.428571428571\n",
      "recall:    0.6\n",
      "f1_score:  0.5\n",
      "\n",
      "\n",
      "confusion matrix:                  \n",
      "              predicted class\n",
      "              _Yes_|__No_\n",
      "actual | Yes |  3  |  2\n",
      "class  | No  |  4  |  10\n",
      "precision: 0.428571428571\n",
      "recall:    0.6\n",
      "f1_score:  0.5\n",
      "\n",
      "\n",
      "confusion matrix:                  \n",
      "              predicted class\n",
      "              _Yes_|__No_\n",
      "actual | Yes |  3  |  2\n",
      "class  | No  |  4  |  10\n",
      "precision: 0.428571428571\n",
      "recall:    0.6\n",
      "f1_score:  0.5\n",
      "\n",
      "\n",
      "confusion matrix:                  \n",
      "              predicted class\n",
      "              _Yes_|__No_\n",
      "actual | Yes |  2  |  3\n",
      "class  | No  |  4  |  10\n",
      "precision: 0.333333333333\n",
      "recall:    0.4\n",
      "f1_score:  0.363636363636\n",
      "\n",
      "\n",
      "confusion matrix:                  \n",
      "              predicted class\n",
      "              _Yes_|__No_\n",
      "actual | Yes |  3  |  2\n",
      "class  | No  |  4  |  10\n",
      "precision: 0.428571428571\n",
      "recall:    0.6\n",
      "f1_score:  0.5\n",
      "\n",
      "\n",
      "confusion matrix:                  \n",
      "              predicted class\n",
      "              _Yes_|__No_\n",
      "actual | Yes |  3  |  2\n",
      "class  | No  |  5  |  9\n",
      "precision: 0.375\n",
      "recall:    0.6\n",
      "f1_score:  0.461538461538\n",
      "\n",
      "\n",
      "confusion matrix:                  \n",
      "              predicted class\n",
      "              _Yes_|__No_\n",
      "actual | Yes |  3  |  2\n",
      "class  | No  |  4  |  10\n",
      "precision: 0.428571428571\n",
      "recall:    0.6\n",
      "f1_score:  0.5\n",
      "\n",
      "\n",
      "confusion matrix:                  \n",
      "              predicted class\n",
      "              _Yes_|__No_\n",
      "actual | Yes |  2  |  3\n",
      "class  | No  |  4  |  10\n",
      "precision: 0.333333333333\n",
      "recall:    0.4\n",
      "f1_score:  0.363636363636\n",
      "\n",
      "\n",
      "confusion matrix:                  \n",
      "              predicted class\n",
      "              _Yes_|__No_\n",
      "actual | Yes |  3  |  2\n",
      "class  | No  |  4  |  10\n",
      "precision: 0.428571428571\n",
      "recall:    0.6\n",
      "f1_score:  0.5\n",
      "\n",
      "\n"
     ]
    }
   ],
   "source": [
    "features = ['poi',\n",
    "            'shared_receipt_with_poi',\n",
    "            'total_payments',\n",
    "            'from_this_person_to_poi',\n",
    "            'sent_received_ratio',\n",
    "            'bonus']\n",
    "\n",
    "\n",
    "for i in range(10):\n",
    "    test_feature_combinations(features)\n",
    "    print \"\\n\""
   ]
  },
  {
   "cell_type": "markdown",
   "metadata": {},
   "source": [
    "There ya go. Never below 0.3. Yay."
   ]
  },
  {
   "cell_type": "code",
   "execution_count": 500,
   "metadata": {
    "collapsed": false
   },
   "outputs": [
    {
     "name": "stdout",
     "output_type": "stream",
     "text": [
      "0.394642857142\n",
      "0.54\n"
     ]
    }
   ],
   "source": [
    "import numpy as np\n",
    "\n",
    "precision_scores = [0.428571428571, 0.333333333333, 0.428571428571, 0.375,\n",
    "                    0.428571428571, 0.333333333333, 0.428571428571, 0.428571428571,\n",
    "                    0.428571428571, 0.333333333333]\n",
    "recall_scores = [0.6, 0.4, 0.6, 0.4, 0.4, 0.6, 0.6, 0.6, 0.6, 0.6]\n",
    "\n",
    "print np.mean(precision_scores)\n",
    "print np.mean(recall_scores)"
   ]
  }
 ],
 "metadata": {
  "kernelspec": {
   "display_name": "Python 2",
   "language": "python",
   "name": "python2"
  },
  "language_info": {
   "codemirror_mode": {
    "name": "ipython",
    "version": 2
   },
   "file_extension": ".py",
   "mimetype": "text/x-python",
   "name": "python",
   "nbconvert_exporter": "python",
   "pygments_lexer": "ipython2",
   "version": "2.7.10"
  }
 },
 "nbformat": 4,
 "nbformat_minor": 0
}
