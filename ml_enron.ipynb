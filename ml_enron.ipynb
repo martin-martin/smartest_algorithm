{
 "cells": [
  {
   "cell_type": "markdown",
   "metadata": {},
   "source": [
    "# ENRON"
   ]
  },
  {
   "cell_type": "markdown",
   "metadata": {},
   "source": [
    "## Preparations"
   ]
  },
  {
   "cell_type": "code",
   "execution_count": 491,
   "metadata": {
    "collapsed": true
   },
   "outputs": [],
   "source": [
    "#!/usr/bin/python\n",
    "\n",
    "# importing libraries\n",
    "import sys\n",
    "import pickle\n",
    "import pprint\n",
    "import numpy as np\n",
    "import pandas as pd\n",
    "sys.path.append(\"../tools/\")\n",
    "\n",
    "from feature_format import featureFormat, targetFeatureSplit\n",
    "from tester import dump_classifier_and_data\n",
    "\n",
    "from sklearn.cross_validation import train_test_split\n",
    "from sklearn.grid_search import GridSearchCV\n",
    "\n",
    "%matplotlib inline\n",
    "from matplotlib import pyplot as plt"
   ]
  },
  {
   "cell_type": "code",
   "execution_count": 492,
   "metadata": {
    "collapsed": false
   },
   "outputs": [],
   "source": [
    "### Load the dictionary containing the dataset\n",
    "with open(\"final_project_dataset.pkl\", \"r\") as data_file:\n",
    "    data_dict = pickle.load(data_file)"
   ]
  },
  {
   "cell_type": "code",
   "execution_count": 493,
   "metadata": {
    "collapsed": false
   },
   "outputs": [],
   "source": [
    "# preparing a pandas DF for easier access\n",
    "enron_df = pd.DataFrame(data_dict)\n",
    "# better in the other format\n",
    "enron_df = enron_df.transpose()"
   ]
  },
  {
   "cell_type": "code",
   "execution_count": 494,
   "metadata": {
    "collapsed": false
   },
   "outputs": [],
   "source": [
    "# what does it mean that all columns are dtype 'object'?\n",
    "#enron_df.dtypes"
   ]
  },
  {
   "cell_type": "code",
   "execution_count": 495,
   "metadata": {
    "collapsed": false
   },
   "outputs": [],
   "source": [
    "# removing the email-address column because it has no predicitve power\n",
    "enron_df = enron_df.drop('email_address', 1)"
   ]
  },
  {
   "cell_type": "code",
   "execution_count": 496,
   "metadata": {
    "collapsed": true
   },
   "outputs": [],
   "source": [
    "# setting the initial features list\n",
    "features_list = list(enron_df.columns.values)"
   ]
  },
  {
   "cell_type": "code",
   "execution_count": 497,
   "metadata": {
    "collapsed": false
   },
   "outputs": [
    {
     "name": "stdout",
     "output_type": "stream",
     "text": [
      "total number of data points: 146\n",
      "of which 18 are POI and 128 are non-POI.\n"
     ]
    }
   ],
   "source": [
    "nr_poi = len(enron_df[enron_df.poi == 1])\n",
    "nr_non_poi = len(enron_df[enron_df.poi == 0])\n",
    "print \"total number of data points:\", len(enron_df)\n",
    "print \"of which {0} are POI and {1} are non-POI.\".format(nr_poi, nr_non_poi)"
   ]
  },
  {
   "cell_type": "markdown",
   "metadata": {},
   "source": [
    "## Outlier Removal"
   ]
  },
  {
   "cell_type": "code",
   "execution_count": 498,
   "metadata": {
    "collapsed": false
   },
   "outputs": [
    {
     "data": {
      "text/plain": [
       "<matplotlib.collections.PathCollection at 0x10e018fd0>"
      ]
     },
     "execution_count": 498,
     "metadata": {},
     "output_type": "execute_result"
    },
    {
     "data": {
      "image/png": "[encoded data removed]",
      "text/plain": [
       "<matplotlib.figure.Figure at 0x10dddfad0>"
      ]
     },
     "metadata": {},
     "output_type": "display_data"
    }
   ],
   "source": [
    "plt.scatter(enron_df['bonus'], enron_df['total_payments'])"
   ]
  },
  {
   "cell_type": "code",
   "execution_count": 499,
   "metadata": {
    "collapsed": true
   },
   "outputs": [],
   "source": [
    "# 'NaN' are encoded as string instead of nan - I change this to work with them easier\n",
    "enron_df.replace(['NaN'], [None], inplace=True)"
   ]
  },
  {
   "cell_type": "code",
   "execution_count": 500,
   "metadata": {
    "collapsed": false
   },
   "outputs": [],
   "source": [
    "outlier = enron_df['bonus'].max()\n",
    "#print enron_df.loc[enron_df['bonus'] == outlier]\n",
    "# this shows that the entry is TOTAL, and can be removed\n",
    "enron_df = enron_df[enron_df.bonus != outlier]"
   ]
  },
  {
   "cell_type": "code",
   "execution_count": 501,
   "metadata": {
    "collapsed": false
   },
   "outputs": [
    {
     "data": {
      "text/plain": [
       "<matplotlib.collections.PathCollection at 0x10e43ff90>"
      ]
     },
     "execution_count": 501,
     "metadata": {},
     "output_type": "execute_result"
    },
    {
     "data": {
      "image/png": "[encoded data removed]",
      "text/plain": [
       "<matplotlib.figure.Figure at 0x10e361250>"
      ]
     },
     "metadata": {},
     "output_type": "display_data"
    }
   ],
   "source": [
    "plt.scatter(enron_df['bonus'], enron_df['total_payments'])"
   ]
  },
  {
   "cell_type": "code",
   "execution_count": 502,
   "metadata": {
    "collapsed": false
   },
   "outputs": [
    {
     "name": "stdout",
     "output_type": "stream",
     "text": [
      "LAY KENNETH L    103559793\n",
      "Name: total_payments, dtype: float64\n"
     ]
    }
   ],
   "source": [
    "# repeat\n",
    "outlier = enron_df.total_payments.max()\n",
    "print enron_df.total_payments.loc[enron_df.total_payments == outlier]\n",
    "# shows that this outlier is valid and should remain in the dataset"
   ]
  },
  {
   "cell_type": "code",
   "execution_count": 503,
   "metadata": {
    "collapsed": false
   },
   "outputs": [
    {
     "data": {
      "text/plain": [
       "<matplotlib.collections.PathCollection at 0x10e556f10>"
      ]
     },
     "execution_count": 503,
     "metadata": {},
     "output_type": "execute_result"
    },
    {
     "data": {
      "image/png": "[encoded data removed]",
      "text/plain": [
       "<matplotlib.figure.Figure at 0x10da61050>"
      ]
     },
     "metadata": {},
     "output_type": "display_data"
    }
   ],
   "source": [
    "plt.scatter(enron_df.shared_receipt_with_poi, enron_df.total_payments)"
   ]
  },
  {
   "cell_type": "code",
   "execution_count": 504,
   "metadata": {
    "collapsed": false
   },
   "outputs": [],
   "source": [
    "def display_outlier(column_name):\n",
    "    \"\"\"prints the max value in a df column of the name passed as arg.\"\"\"\n",
    "    outlier = enron_df[column_name].max()\n",
    "    print enron_df.loc[enron_df[column_name] == outlier]\n",
    "    \n",
    "#display_outlier('shared_receipt_with_poi')\n",
    "# this shows that the datapoint is a valid person"
   ]
  },
  {
   "cell_type": "code",
   "execution_count": 505,
   "metadata": {
    "collapsed": true
   },
   "outputs": [],
   "source": [
    "# shows that this manually found datapoint is not a person, therefore I remove it\n",
    "#print enron_df.loc[\"THE TRAVEL AGENCY IN THE PARK\"]\n",
    "\n",
    "agency = \"THE TRAVEL AGENCY IN THE PARK\"\n",
    "enron_df = enron_df.drop([agency])"
   ]
  },
  {
   "cell_type": "markdown",
   "metadata": {},
   "source": [
    "## Engineering a new feature"
   ]
  },
  {
   "cell_type": "code",
   "execution_count": 506,
   "metadata": {
    "collapsed": true
   },
   "outputs": [],
   "source": [
    "def email_perc(row):\n",
    "    \"\"\"calculates the ratio of emails sent to a POI vs. emails received from a POI.\n",
    "    \n",
    "    takes as input one row of a dataframe\n",
    "    returns the ratio as a floating point number.\n",
    "    \"\"\"\n",
    "    one_way = row['from_this_person_to_poi']\n",
    "    the_other = row['from_poi_to_this_person']\n",
    "    \n",
    "    ratio = 0\n",
    "    # calculating the ratio only if there is no 0 value involved\n",
    "    if one_way != 0 and the_other != 0:\n",
    "        ratio = float(one_way) / the_other\n",
    "    return ratio"
   ]
  },
  {
   "cell_type": "code",
   "execution_count": 507,
   "metadata": {
    "collapsed": false
   },
   "outputs": [],
   "source": [
    "# generating the feature of interest\n",
    "enron_df[\"sent_received_ratio\"] = enron_df.apply(lambda row: email_perc(row), axis=1)"
   ]
  },
  {
   "cell_type": "code",
   "execution_count": 508,
   "metadata": {
    "collapsed": false,
    "scrolled": true
   },
   "outputs": [
    {
     "data": {
      "text/plain": [
       "<matplotlib.collections.PathCollection at 0x10e783c90>"
      ]
     },
     "execution_count": 508,
     "metadata": {},
     "output_type": "execute_result"
    },
    {
     "data": {
      "image/png": "[encoded data removed]",
      "text/plain": [
       "<matplotlib.figure.Figure at 0x10e570e90>"
      ]
     },
     "metadata": {},
     "output_type": "display_data"
    }
   ],
   "source": [
    "# visualizing the new feature, while accounting for the POI and non-POI in the dataset\n",
    "# POI are displayed as red circles, non-POI as blue circles\n",
    "plt.scatter(enron_df.bonus, enron_df.sent_received_ratio, c=enron_df.poi)"
   ]
  },
  {
   "cell_type": "code",
   "execution_count": 509,
   "metadata": {
    "collapsed": false
   },
   "outputs": [],
   "source": [
    "# updating the features list with the new feature\n",
    "# and moving 'poi' to the 0th place\n",
    "features_list.append(\"sent_received_ratio\")\n",
    "features_list = features_list[12:] + features_list[:12]"
   ]
  },
  {
   "cell_type": "markdown",
   "metadata": {},
   "source": [
    "## Oversampling"
   ]
  },
  {
   "cell_type": "code",
   "execution_count": 534,
   "metadata": {
    "collapsed": false
   },
   "outputs": [
    {
     "name": "stdout",
     "output_type": "stream",
     "text": [
      "non-POI are 7 times more frequent than POI\n"
     ]
    }
   ],
   "source": [
    "# the ratio that non-POI are more frequent in the dataset than POI\n",
    "ratio_poi = nr_non_poi / nr_poi\n",
    "print \"non-POI are {0} times more frequent than POI\".format(ratio_poi)"
   ]
  },
  {
   "cell_type": "code",
   "execution_count": 511,
   "metadata": {
    "collapsed": false
   },
   "outputs": [
    {
     "name": "stdout",
     "output_type": "stream",
     "text": [
      "initial amount of rows: 144\n",
      "oversampled amount of rows: 180\n"
     ]
    }
   ],
   "source": [
    "print 'initial amount of rows:', len(enron_df)\n",
    "# gleaning the underrepresented sample\n",
    "is_poi = enron_df['poi'] == 1\n",
    "oversample_row = enron_df[is_poi]\n",
    "# adding copies of the POI to the dataset (=oversampling) to reduce the imbalance of the dataset\n",
    "# I chose to double the POI instances\n",
    "enron_df = enron_df.append([oversample_row] * 2, ignore_index=True)\n",
    "print 'oversampled amount of rows:', len(enron_df)"
   ]
  },
  {
   "cell_type": "code",
   "execution_count": 512,
   "metadata": {
    "collapsed": false
   },
   "outputs": [],
   "source": [
    "# shuffle the rows so that the cloned POIs are evenly spread throughout the dataset\n",
    "# this is important for the split of data in training and testing data\n",
    "enron_df_os = enron_df.reindex(np.random.permutation(enron_df.index))\n",
    "#enron_df_os.tail()"
   ]
  },
  {
   "cell_type": "markdown",
   "metadata": {},
   "source": [
    "## More Wrangling"
   ]
  },
  {
   "cell_type": "code",
   "execution_count": 513,
   "metadata": {
    "collapsed": false
   },
   "outputs": [],
   "source": [
    "# the classifiers cannot handle NaN values, therefore they need to be either removed or imputed\n",
    "# due to the small size of the dataset I chose to impute the median values to the NaN\n",
    "enron_median = enron_df.fillna(enron_df.median().to_dict())"
   ]
  },
  {
   "cell_type": "code",
   "execution_count": 514,
   "metadata": {
    "collapsed": true
   },
   "outputs": [],
   "source": [
    "# translating back to a dict for easier work with the lesson code\n",
    "median_dataset = enron_median.to_dict(orient='index')"
   ]
  },
  {
   "cell_type": "markdown",
   "metadata": {},
   "source": [
    "## Feature Selection"
   ]
  },
  {
   "cell_type": "code",
   "execution_count": 515,
   "metadata": {
    "collapsed": true
   },
   "outputs": [],
   "source": [
    "# I'll be using an overfit Decision Tree to calculate the feature importances\n",
    "\n",
    "def get_most_important_features(dataset, features_list):\n",
    "    \"\"\"Calculates the feature importances.\n",
    "    \n",
    "    Takes as input a dataset and a list of features.\n",
    "    Creates an overfit Decision Tree and calculates the feature importances.\n",
    "    Returns a list with the feature importances.\n",
    "    \"\"\"\n",
    "    # creating an overfitted decision tree\n",
    "    from sklearn.tree import DecisionTreeClassifier\n",
    "    from sklearn.metrics import accuracy_score\n",
    "\n",
    "    data = featureFormat(dataset, features_list, sort_keys = True)\n",
    "    labels, features = targetFeatureSplit(data)\n",
    "        \n",
    "    # new features filtered, NaN values removed\n",
    "    features_train, features_test, labels_train, labels_test = train_test_split(features,\n",
    "                                                                                    labels,\n",
    "                                                                                    test_size=0.3,\n",
    "                                                                                    random_state=42)\n",
    "\n",
    "    clf = DecisionTreeClassifier()\n",
    "    clf.fit(features_train, labels_train)\n",
    "    pred = clf.predict(features_test)\n",
    "    acc = accuracy_score(labels_test, pred)\n",
    "    # uncomment to print the accuracy score\n",
    "    #print \"overfitted accuracy\", acc\n",
    "\n",
    "    # calculating feature importances\n",
    "    feat_imp = clf.feature_importances_\n",
    "    # uncomment to print the most important (common) ones\n",
    "    #print feat_imp\n",
    "    #for index, feature in enumerate(feat_imp):\n",
    "    #    if feature > 0.2:\n",
    "    #        print \"spot:\", index, \":\", features_list[index+1], \" | value:\", feature\n",
    "    return feat_imp"
   ]
  },
  {
   "cell_type": "code",
   "execution_count": 516,
   "metadata": {
    "collapsed": false
   },
   "outputs": [],
   "source": [
    "# collecting the values to calculate the average feature importances\n",
    "feat_imp_list_list = []\n",
    "\n",
    "for i in range(100):\n",
    "    feat_imp = get_most_important_features(median_dataset, features_list)\n",
    "    feat_imp_list_list.append(feat_imp)"
   ]
  },
  {
   "cell_type": "code",
   "execution_count": 517,
   "metadata": {
    "collapsed": false
   },
   "outputs": [],
   "source": [
    "feature_compare = features_list[1:]\n",
    "feat_imp_dict = {}\n",
    "\n",
    "for f in feature_compare:\n",
    "    feat_imp_dict[f] = []\n",
    "\n",
    "for array in feat_imp_list_list:\n",
    "    for index, number in enumerate(array):\n",
    "        feat_imp_dict[feature_compare[index]].append(number)"
   ]
  },
  {
   "cell_type": "code",
   "execution_count": 518,
   "metadata": {
    "collapsed": false
   },
   "outputs": [
    {
     "name": "stdout",
     "output_type": "stream",
     "text": [
      "salary : 0.0379515550239\n",
      "to_messages : 0.00200956937799\n",
      "sent_received_ratio : 0.0163068181818\n",
      "deferral_payments : 0.00734748803828\n",
      "total_payments : 0.034351076555\n",
      "loan_advances : 0.0\n",
      "bonus : 0.00596590909091\n",
      "long_term_incentive : 0.0537284072367\n",
      "restricted_stock_deferred : 0.0357954545455\n",
      "total_stock_value : 0.0587700534759\n",
      "shared_receipt_with_poi : 0.00150717703349\n",
      "from_poi_to_this_person : 0.116079850978\n",
      "exercised_stock_options : 0.00527511961722\n",
      "from_messages : 0.00125598086124\n",
      "other : 0.146048770191\n",
      "from_this_person_to_poi : 0.00200956937799\n",
      "deferred_income : 0.068994584453\n",
      "expenses : 0.0315879186603\n",
      "restricted_stock : 0.375014697301\n",
      "director_fees : 0.0\n"
     ]
    }
   ],
   "source": [
    "top_feat_imp = {}\n",
    "threshold = 0.1\n",
    "# getting the average of all runs and storing the ones passing the threshold in a dictionary\n",
    "for key, value in feat_imp_dict.items():\n",
    "    mean = np.asarray(value).mean()\n",
    "    print key, \":\", mean\n",
    "    if mean > threshold:\n",
    "        top_feat_imp[key] = mean"
   ]
  },
  {
   "cell_type": "code",
   "execution_count": 535,
   "metadata": {
    "collapsed": false
   },
   "outputs": [
    {
     "name": "stdout",
     "output_type": "stream",
     "text": [
      "{'from_poi_to_this_person': 0.11607985097841694,\n",
      " 'other': 0.14604877019076973,\n",
      " 'restricted_stock': 0.37501469730149045}\n"
     ]
    }
   ],
   "source": [
    "pprint.pprint(top_feat_imp)"
   ]
  },
  {
   "cell_type": "code",
   "execution_count": 520,
   "metadata": {
    "collapsed": false
   },
   "outputs": [],
   "source": [
    "# updating the features list with the top performers (those I will actually use)\n",
    "features_list = ['poi'] + top_feat_imp.keys()"
   ]
  },
  {
   "cell_type": "markdown",
   "metadata": {},
   "source": [
    "## Classifier"
   ]
  },
  {
   "cell_type": "code",
   "execution_count": 521,
   "metadata": {
    "collapsed": true
   },
   "outputs": [],
   "source": [
    "# preparing the data into training and testing sets\n",
    "data = featureFormat(median_dataset, features_list, sort_keys = True)\n",
    "labels, features = targetFeatureSplit(data)\n",
    "# features after imputing median values\n",
    "features_train, features_test, labels_train, labels_test = train_test_split(features, labels, test_size=0.3, random_state=42)\n",
    "# combining the training and testing variables into a list for easier input for the function I wrote\n",
    "full_feat_list = [features_train, features_test, labels_train, labels_test]"
   ]
  },
  {
   "cell_type": "code",
   "execution_count": 522,
   "metadata": {
    "collapsed": true
   },
   "outputs": [],
   "source": [
    "def test_classifier(classifier_obj, data, scale=False):\n",
    "    \"\"\"Measures the time and accuracy of a given classifier.\n",
    "    \n",
    "    Takes as input a classifiert object (tuned or untuned)\n",
    "    and a list containing the training and testing features and labels\n",
    "    in this form:\n",
    "    data = [features_train, features_test, labels_train, labels_test]\n",
    "    Prints processing time and overall accuracy score.\n",
    "    \"\"\"\n",
    "    from time import time\n",
    "    from sklearn.metrics import accuracy_score\n",
    "    from sklearn.preprocessing import MinMaxScaler\n",
    "    \n",
    "    # scaling the data when the type of algorithm demands this\n",
    "    if scale == True:\n",
    "        scaler = MinMaxScaler()\n",
    "        features_train = scaler.fit_transform(data[0])\n",
    "        features_test = scaler.transform(data[1])\n",
    "    else:\n",
    "        features_train = data[0]\n",
    "        features_test = data[1]\n",
    "    labels_train = data[2]\n",
    "    labels_test = data[3]\n",
    "    \n",
    "    ### uncomment for information about time performance and accuracy ###\n",
    "    ## taking the time the algorithm runs\n",
    "    #t0 = time()\n",
    "    classifier_obj.fit(features_train, labels_train)\n",
    "    #print \"training time:\", round(time()-t0, 3), \"s\"\n",
    "    \n",
    "    ## taking time for prediction\n",
    "    #t1 = time()\n",
    "    pred = classifier_obj.predict(features_test)\n",
    "    #print \"predicting time:\", round(time()-t1, 3), \"s\"\n",
    "    \n",
    "    #acc = accuracy_score(labels_test, pred)\n",
    "    #print \"accuracy:\", acc\n",
    "    \n",
    "    print construct_CM(labels_test, pred)\n",
    "    print calculate_f1(labels_test, pred)"
   ]
  },
  {
   "cell_type": "code",
   "execution_count": 523,
   "metadata": {
    "collapsed": true
   },
   "outputs": [],
   "source": [
    "def get_CM_nums(true_labels, predictions, CM_type):\n",
    "    \"\"\"Calculates the number of elements in the different cells of a confusion matrix.\n",
    "\n",
    "    Takes as input the true labels and the predictions, both as lists.\n",
    "    Further a specification of the metric wanted as an abbreviated string:\n",
    "    'TP' for True Positives, 'FP' for False Positives\n",
    "    'TN' for True Negatives, 'FN' for False Negatives\n",
    "    Returns the amount of the specified metric.\n",
    "    \"\"\"\n",
    "    import numpy as np\n",
    "    \n",
    "    if CM_type == \"TP\" or CM_type == \"TN\":\n",
    "        if CM_type == \"TP\":\n",
    "            CM_type = 1\n",
    "        elif CM_type == \"TN\":\n",
    "            CM_type = 0\n",
    "        cpp = [1 for j in zip(true_labels, predictions) if j[0] == j[1] and j[1] == CM_type]\n",
    "    elif CM_type == \"FP\" or CM_type == \"FN\":\n",
    "        if CM_type == \"FP\":\n",
    "            CM_type = 1\n",
    "        elif CM_type == \"FN\":\n",
    "            CM_type = 0\n",
    "        cpp = [1 for j in zip(true_labels, predictions) if j[0] != j[1] and j[1] == CM_type]\n",
    "    else:\n",
    "        print \"error, please enter TP, TN, FP, or FN.\"\n",
    "    num_cpp = np.sum(cpp)\n",
    "    return int(num_cpp)\n",
    "\n",
    "def construct_CM(true_labels, predictions):\n",
    "    \"\"\"Wrapper function to calculate the confusion matrix and returns a formatted string.\n",
    "\n",
    "    Takes as input the true labels and the predictions, both as lists.\n",
    "    Calls get_CM_nums() with all possible inputs (TP, FP, TN, FN)\n",
    "    Returns a formatted string representing the confusion martrix that is easy to read.\n",
    "    \"\"\"\n",
    "    num_TP = get_CM_nums(true_labels, predictions, \"TP\")\n",
    "    num_TN = get_CM_nums(true_labels, predictions, \"TN\")\n",
    "    num_FP = get_CM_nums(true_labels, predictions, \"FP\")\n",
    "    num_FN = get_CM_nums(true_labels, predictions, \"FN\")\n",
    "\n",
    "    return \"\"\"confusion matrix:                  \n",
    "              predicted class\n",
    "              _Yes_|__No_\n",
    "actual | Yes |  {0}  |  {3}\n",
    "class  | No  |  {2}  |  {1}\"\"\".format(num_TP, num_TN, num_FP, num_FN)\n",
    "\n",
    "def calculate_f1(true_labels, predictions):\n",
    "    \"\"\"Calculates statistical metrics for the classifier's prediction.\n",
    "    \n",
    "    Takes as input the true labels and the predictions, both as lists.\n",
    "    Returns a string containing the scores for precision recall and the f1-score.\n",
    "    \"\"\"\n",
    "    from sklearn.metrics import precision_score\n",
    "    from sklearn.metrics import recall_score\n",
    "    from sklearn.metrics import f1_score\n",
    "    \n",
    "    precision = precision_score(true_labels, predictions)\n",
    "    recall = recall_score(true_labels, predictions)\n",
    "    f1_score =  f1_score(true_labels, predictions)\n",
    "    return \"\"\"precision: {0}\n",
    "recall:    {1}\n",
    "f1_score:  {2}\"\"\".format(precision, recall, f1_score)"
   ]
  },
  {
   "cell_type": "code",
   "execution_count": 524,
   "metadata": {
    "collapsed": true
   },
   "outputs": [],
   "source": [
    "def test_a_lot(training_test_list):\n",
    "    \"\"\"Wrapper function that calculates performance results for different classifiers and prints the results.\n",
    "    \n",
    "    Takes as input a list of test and training data in the following form:\n",
    "    'training_test_list = [features_train, features_test, labels_train, labels_test]'\n",
    "    Calls the functions test_classifier() on Naive Bayes, SVM, Decision Trees,\n",
    "    and K-nearest neighbors (each with the default settings).\n",
    "    Prints all results in formatted output.\n",
    "    \"\"\"\n",
    "    from sklearn.naive_bayes import GaussianNB\n",
    "    from sklearn.svm import SVC\n",
    "    from sklearn.tree import DecisionTreeClassifier\n",
    "    from sklearn.neighbors import KNeighborsClassifier\n",
    "\n",
    "    print \"PERFORMANCE RESULTS OF DIFFERENT CLASSIFIERS\"\n",
    "    ### Naive Bayes\n",
    "    print \"\\n\\n### NAIVE BAYES ###\"\n",
    "    clf = GaussianNB()\n",
    "    test_classifier(clf, training_test_list)\n",
    "\n",
    "    ### Support Vector Machines\n",
    "    print \"\\n\\n### SUPPORT VECTOR MACHINES ###\"\n",
    "    clf = SVC()\n",
    "    test_classifier(clf, training_test_list, scale=True)\n",
    "\n",
    "    ### Decision Trees\n",
    "    print \"\\n\\n### DECISION TREES ###\"\n",
    "    clf = DecisionTreeClassifier()\n",
    "    test_classifier(clf, training_test_list)\n",
    "\n",
    "    ### K-nearest Neighbours\n",
    "    print \"\\n\\n### K-NEAREST NEIGHBORS ###\"\n",
    "    neigh = KNeighborsClassifier()\n",
    "    test_classifier(neigh, training_test_list, scale=True)"
   ]
  },
  {
   "cell_type": "code",
   "execution_count": 525,
   "metadata": {
    "collapsed": false
   },
   "outputs": [
    {
     "name": "stdout",
     "output_type": "stream",
     "text": [
      "PERFORMANCE RESULTS OF DIFFERENT CLASSIFIERS\n",
      "\n",
      "\n",
      "### NAIVE BAYES ###\n",
      "confusion matrix:                  \n",
      "              predicted class\n",
      "              _Yes_|__No_\n",
      "actual | Yes |  2  |  14\n",
      "class  | No  |  1  |  37\n",
      "precision: 0.666666666667\n",
      "recall:    0.125\n",
      "f1_score:  0.210526315789\n",
      "\n",
      "\n",
      "### SUPPORT VECTOR MACHINES ###\n",
      "confusion matrix:                  \n",
      "              predicted class\n",
      "              _Yes_|__No_\n",
      "actual | Yes |  1  |  15\n",
      "class  | No  |  0  |  38\n",
      "precision: 1.0\n",
      "recall:    0.0625\n",
      "f1_score:  0.117647058824\n",
      "\n",
      "\n",
      "### DECISION TREES ###\n",
      "confusion matrix:                  \n",
      "              predicted class\n",
      "              _Yes_|__No_\n",
      "actual | Yes |  13  |  3\n",
      "class  | No  |  10  |  28\n",
      "precision: 0.565217391304\n",
      "recall:    0.8125\n",
      "f1_score:  0.666666666667\n",
      "\n",
      "\n",
      "### K-NEAREST NEIGHBORS ###\n",
      "confusion matrix:                  \n",
      "              predicted class\n",
      "              _Yes_|__No_\n",
      "actual | Yes |  6  |  10\n",
      "class  | No  |  7  |  31\n",
      "precision: 0.461538461538\n",
      "recall:    0.375\n",
      "f1_score:  0.413793103448\n"
     ]
    }
   ],
   "source": [
    "test_a_lot(full_feat_list)"
   ]
  },
  {
   "cell_type": "markdown",
   "metadata": {},
   "source": [
    "## Tuning"
   ]
  },
  {
   "cell_type": "code",
   "execution_count": 526,
   "metadata": {
    "collapsed": false,
    "scrolled": true
   },
   "outputs": [
    {
     "name": "stdout",
     "output_type": "stream",
     "text": [
      "{'min_samples_split': 1, 'min_weight_fraction_leaf': 0.5, 'max_depth': None, 'min_samples_leaf': 1}\n"
     ]
    }
   ],
   "source": [
    "# checking the best tuning setting for Decistion Trees\n",
    "from sklearn.tree import DecisionTreeClassifier\n",
    "\n",
    "parameters = {'max_depth' : [None, 10, 5, 2],\n",
    "              'min_samples_split' : [2, 10, 5, 1],\n",
    "              'min_samples_leaf' : [1, 5, 2],\n",
    "              'min_weight_fraction_leaf' : [0, 0.25, 0.5]\n",
    "             }\n",
    "\n",
    "dt = DecisionTreeClassifier()\n",
    "clf = GridSearchCV(dt, parameters)\n",
    "clf.fit(features_train, labels_train)\n",
    "print clf.best_params_"
   ]
  },
  {
   "cell_type": "code",
   "execution_count": 530,
   "metadata": {
    "collapsed": false,
    "scrolled": true
   },
   "outputs": [
    {
     "name": "stdout",
     "output_type": "stream",
     "text": [
      "tuned DECISION TREES\n",
      "confusion matrix:                  \n",
      "              predicted class\n",
      "              _Yes_|__No_\n",
      "actual | Yes |  13  |  3\n",
      "class  | No  |  9  |  29\n",
      "precision: 0.590909090909\n",
      "recall:    0.8125\n",
      "f1_score:  0.684210526316\n"
     ]
    }
   ],
   "source": [
    "print \"tuned DECISION TREES\"\n",
    "# min_samples_leaf=1 and max_depth=None are both default values\n",
    "clf = DecisionTreeClassifier(min_samples_split=1, min_weight_fraction_leaf=0.5)\n",
    "test_classifier(clf, full_feat_list)"
   ]
  },
  {
   "cell_type": "code",
   "execution_count": 528,
   "metadata": {
    "collapsed": false
   },
   "outputs": [
    {
     "name": "stdout",
     "output_type": "stream",
     "text": [
      "{'n_neighbors': 2, 'weights': 'distance', 'leaf_size': 30, 'algorithm': 'ball_tree'}\n"
     ]
    }
   ],
   "source": [
    "# checking the best tuning setting for KNN\n",
    "from sklearn.neighbors import KNeighborsClassifier\n",
    "\n",
    "parameters = {'n_neighbors' : [5, 10, 3, 2],\n",
    "              'weights' : ['uniform', 'distance'],\n",
    "              'algorithm' : ['ball_tree', 'kd_tree', 'brute'],\n",
    "              'leaf_size' : [30, 10, 60, 100]\n",
    "             }\n",
    "\n",
    "knn = KNeighborsClassifier()\n",
    "clf = GridSearchCV(knn, parameters)\n",
    "clf.fit(features_train, labels_train)\n",
    "print clf.best_params_"
   ]
  },
  {
   "cell_type": "code",
   "execution_count": 531,
   "metadata": {
    "collapsed": false,
    "scrolled": true
   },
   "outputs": [
    {
     "name": "stdout",
     "output_type": "stream",
     "text": [
      "tuned K-NEAREST NEIGHBORS\n",
      "confusion matrix:                  \n",
      "              predicted class\n",
      "              _Yes_|__No_\n",
      "actual | Yes |  13  |  3\n",
      "class  | No  |  2  |  36\n",
      "precision: 0.866666666667\n",
      "recall:    0.8125\n",
      "f1_score:  0.838709677419\n"
     ]
    }
   ],
   "source": [
    "print \"tuned K-NEAREST NEIGHBORS\"\n",
    "# leaf_size=30 is the default value\n",
    "neigh = KNeighborsClassifier(n_neighbors=2, weights='distance', algorithm='ball_tree')\n",
    "test_classifier(neigh, full_feat_list, scale=True)"
   ]
  },
  {
   "cell_type": "markdown",
   "metadata": {},
   "source": [
    "## Final Run"
   ]
  },
  {
   "cell_type": "code",
   "execution_count": 536,
   "metadata": {
    "collapsed": false
   },
   "outputs": [
    {
     "name": "stdout",
     "output_type": "stream",
     "text": [
      "[ 0.  1.  0.  0.  1.  1.  0.  0.  1.  0.  0.  1.  0.  1.  0.  0.  0.  1.\n",
      "  0.  0.  0.  0.  0.  0.  1.  1.  0.  1.  1.  1.  0.  0.  0.  0.  0.  0.\n",
      "  0.  0.  0.  1.  0.  0.  0.  0.  1.  0.  0.  0.  1.  0.  0.  1.  1.  1.]\n"
     ]
    }
   ],
   "source": [
    "clf = KNeighborsClassifier(n_neighbors=2, weights='distance', algorithm='ball_tree')\n",
    "clf.fit(features_train, labels_train)\n",
    "pred = clf.predict(features_test)\n",
    "print pred"
   ]
  }
 ],
 "metadata": {
  "kernelspec": {
   "display_name": "Python 2",
   "language": "python",
   "name": "python2"
  },
  "language_info": {
   "codemirror_mode": {
    "name": "ipython",
    "version": 2
   },
   "file_extension": ".py",
   "mimetype": "text/x-python",
   "name": "python",
   "nbconvert_exporter": "python",
   "pygments_lexer": "ipython2",
   "version": "2.7.10"
  }
 },
 "nbformat": 4,
 "nbformat_minor": 0
}
