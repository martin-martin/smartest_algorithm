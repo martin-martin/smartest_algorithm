{
 "cells": [
  {
   "cell_type": "markdown",
   "metadata": {},
   "source": [
    "# ENRON"
   ]
  },
  {
   "cell_type": "markdown",
   "metadata": {},
   "source": [
    "## Preparations"
   ]
  },
  {
   "cell_type": "code",
   "execution_count": 94,
   "metadata": {
    "collapsed": true
   },
   "outputs": [],
   "source": [
    "#!/usr/bin/python\n",
    "\n",
    "# importing libraries\n",
    "import sys\n",
    "import pickle\n",
    "import pprint\n",
    "import numpy as np\n",
    "import pandas as pd\n",
    "sys.path.append(\"../tools/\")\n",
    "\n",
    "from feature_format import featureFormat, targetFeatureSplit\n",
    "from tester import dump_classifier_and_data\n",
    "\n",
    "from sklearn.cross_validation import train_test_split\n",
    "from sklearn.grid_search import GridSearchCV\n",
    "\n",
    "%matplotlib inline\n",
    "from matplotlib import pyplot as plt"
   ]
  },
  {
   "cell_type": "code",
   "execution_count": 95,
   "metadata": {
    "collapsed": false
   },
   "outputs": [],
   "source": [
    "### Load the dictionary containing the dataset\n",
    "with open(\"final_project_dataset.pkl\", \"r\") as data_file:\n",
    "    data_dict = pickle.load(data_file)"
   ]
  },
  {
   "cell_type": "code",
   "execution_count": 96,
   "metadata": {
    "collapsed": false
   },
   "outputs": [],
   "source": [
    "# preparing a pandas DF for easier access\n",
    "enron_df = pd.DataFrame(data_dict)\n",
    "# better in the other format\n",
    "enron_df = enron_df.transpose()"
   ]
  },
  {
   "cell_type": "code",
   "execution_count": 97,
   "metadata": {
    "collapsed": false
   },
   "outputs": [],
   "source": [
    "# what does it mean that all columns are dtype 'object'?\n",
    "#enron_df.dtypes"
   ]
  },
  {
   "cell_type": "code",
   "execution_count": 98,
   "metadata": {
    "collapsed": false
   },
   "outputs": [],
   "source": [
    "# removing the email-address column because it has no predicitve power\n",
    "enron_df = enron_df.drop('email_address', 1)"
   ]
  },
  {
   "cell_type": "code",
   "execution_count": 99,
   "metadata": {
    "collapsed": true
   },
   "outputs": [],
   "source": [
    "# setting the initial features list\n",
    "features_list = list(enron_df.columns.values)"
   ]
  },
  {
   "cell_type": "code",
   "execution_count": 100,
   "metadata": {
    "collapsed": false,
    "scrolled": true
   },
   "outputs": [
    {
     "name": "stdout",
     "output_type": "stream",
     "text": [
      "total number of data points: 146\n",
      "of which 18 are POI and 128 are non-POI.\n"
     ]
    }
   ],
   "source": [
    "nr_poi = len(enron_df[enron_df.poi == 1])\n",
    "nr_non_poi = len(enron_df[enron_df.poi == 0])\n",
    "print \"total number of data points:\", len(enron_df)\n",
    "print \"of which {0} are POI and {1} are non-POI.\".format(nr_poi, nr_non_poi)"
   ]
  },
  {
   "cell_type": "code",
   "execution_count": 101,
   "metadata": {
    "collapsed": false
   },
   "outputs": [
    {
     "name": "stdout",
     "output_type": "stream",
     "text": [
      "non-POI are 7 times more frequent than POI\n"
     ]
    }
   ],
   "source": [
    "# the ratio that non-POI are more frequent in the dataset than POI\n",
    "# this means we are dealing with a highly imbalanced dataset\n",
    "ratio_poi = nr_non_poi / nr_poi\n",
    "print \"non-POI are {0} times more frequent than POI\".format(ratio_poi)"
   ]
  },
  {
   "cell_type": "markdown",
   "metadata": {},
   "source": [
    "## Outlier Removal"
   ]
  },
  {
   "cell_type": "code",
   "execution_count": 102,
   "metadata": {
    "collapsed": false
   },
   "outputs": [
    {
     "data": {
      "text/plain": [
       "<matplotlib.collections.PathCollection at 0x109c4ae90>"
      ]
     },
     "execution_count": 102,
     "metadata": {},
     "output_type": "execute_result"
    },
    {
     "data": {
      "image/png": "[encoded data removed]",
      "text/plain": [
       "<matplotlib.figure.Figure at 0x109623b50>"
      ]
     },
     "metadata": {},
     "output_type": "display_data"
    }
   ],
   "source": [
    "plt.scatter(enron_df['bonus'], enron_df['total_payments'])"
   ]
  },
  {
   "cell_type": "code",
   "execution_count": 103,
   "metadata": {
    "collapsed": true
   },
   "outputs": [],
   "source": [
    "# 'NaN' are encoded as string instead of nan - I change this to work with them easier\n",
    "enron_df.replace(['NaN'], [None], inplace=True)"
   ]
  },
  {
   "cell_type": "code",
   "execution_count": 104,
   "metadata": {
    "collapsed": false
   },
   "outputs": [],
   "source": [
    "outlier = enron_df['bonus'].max()\n",
    "#print enron_df.loc[enron_df['bonus'] == outlier]\n",
    "# this shows that the entry is TOTAL, and can be removed\n",
    "enron_df = enron_df[enron_df.bonus != outlier]"
   ]
  },
  {
   "cell_type": "code",
   "execution_count": 105,
   "metadata": {
    "collapsed": false
   },
   "outputs": [
    {
     "data": {
      "text/plain": [
       "<matplotlib.collections.PathCollection at 0x109ec75d0>"
      ]
     },
     "execution_count": 105,
     "metadata": {},
     "output_type": "execute_result"
    },
    {
     "data": {
      "image/png": "[encoded data removed]",
      "text/plain": [
       "<matplotlib.figure.Figure at 0x109c63b90>"
      ]
     },
     "metadata": {},
     "output_type": "display_data"
    }
   ],
   "source": [
    "plt.scatter(enron_df['bonus'], enron_df['total_payments'])"
   ]
  },
  {
   "cell_type": "code",
   "execution_count": 106,
   "metadata": {
    "collapsed": false
   },
   "outputs": [
    {
     "name": "stdout",
     "output_type": "stream",
     "text": [
      "LAY KENNETH L    103559793\n",
      "Name: total_payments, dtype: float64\n"
     ]
    }
   ],
   "source": [
    "# repeat\n",
    "outlier = enron_df.total_payments.max()\n",
    "print enron_df.total_payments.loc[enron_df.total_payments == outlier]\n",
    "# shows that this outlier is valid and should remain in the dataset"
   ]
  },
  {
   "cell_type": "code",
   "execution_count": 107,
   "metadata": {
    "collapsed": false
   },
   "outputs": [
    {
     "data": {
      "text/plain": [
       "<matplotlib.collections.PathCollection at 0x10a8f5590>"
      ]
     },
     "execution_count": 107,
     "metadata": {},
     "output_type": "execute_result"
    },
    {
     "data": {
      "image/png": "[encoded data removed]",
      "text/plain": [
       "<matplotlib.figure.Figure at 0x10a812fd0>"
      ]
     },
     "metadata": {},
     "output_type": "display_data"
    }
   ],
   "source": [
    "plt.scatter(enron_df.shared_receipt_with_poi, enron_df.total_payments)"
   ]
  },
  {
   "cell_type": "code",
   "execution_count": 108,
   "metadata": {
    "collapsed": false
   },
   "outputs": [],
   "source": [
    "def display_outlier(column_name):\n",
    "    \"\"\"prints the max value in a df column of the name passed as arg.\"\"\"\n",
    "    outlier = enron_df[column_name].max()\n",
    "    print enron_df.loc[enron_df[column_name] == outlier]\n",
    "    \n",
    "#display_outlier('shared_receipt_with_poi')\n",
    "# this shows that the datapoint is a valid person"
   ]
  },
  {
   "cell_type": "code",
   "execution_count": 109,
   "metadata": {
    "collapsed": true
   },
   "outputs": [],
   "source": [
    "# shows that this manually found datapoint is not a person, therefore I remove it\n",
    "#print enron_df.loc[\"THE TRAVEL AGENCY IN THE PARK\"]\n",
    "\n",
    "agency = \"THE TRAVEL AGENCY IN THE PARK\"\n",
    "enron_df = enron_df.drop([agency])"
   ]
  },
  {
   "cell_type": "markdown",
   "metadata": {},
   "source": [
    "## Engineering a new feature"
   ]
  },
  {
   "cell_type": "code",
   "execution_count": 110,
   "metadata": {
    "collapsed": true
   },
   "outputs": [],
   "source": [
    "def email_perc(row):\n",
    "    \"\"\"calculates the ratio of emails sent to a POI vs. emails received from a POI.\n",
    "    \n",
    "    takes as input one row of a dataframe\n",
    "    returns the ratio as a floating point number.\n",
    "    \"\"\"\n",
    "    one_way = row['from_this_person_to_poi']\n",
    "    the_other = row['from_poi_to_this_person']\n",
    "    \n",
    "    ratio = 0\n",
    "    # calculating the ratio only if there is no 0 value involved\n",
    "    if one_way != 0 and the_other != 0:\n",
    "        ratio = float(one_way) / the_other\n",
    "    return ratio"
   ]
  },
  {
   "cell_type": "code",
   "execution_count": 111,
   "metadata": {
    "collapsed": false
   },
   "outputs": [],
   "source": [
    "# generating the feature of interest\n",
    "enron_df[\"sent_received_ratio\"] = enron_df.apply(lambda row: email_perc(row), axis=1)"
   ]
  },
  {
   "cell_type": "code",
   "execution_count": 112,
   "metadata": {
    "collapsed": false,
    "scrolled": true
   },
   "outputs": [
    {
     "data": {
      "text/plain": [
       "<matplotlib.collections.PathCollection at 0x10aa20350>"
      ]
     },
     "execution_count": 112,
     "metadata": {},
     "output_type": "execute_result"
    },
    {
     "data": {
      "image/png": "[encoded data removed]",
      "text/plain": [
       "<matplotlib.figure.Figure at 0x10a8aedd0>"
      ]
     },
     "metadata": {},
     "output_type": "display_data"
    }
   ],
   "source": [
    "# visualizing the new feature, while accounting for the POI and non-POI in the dataset\n",
    "# POI are displayed as red circles, non-POI as blue circles\n",
    "use_colors = {0: \"blue\", 1: \"red\"}\n",
    "cPOI = np.array(enron_df[['poi']])\n",
    "plt.scatter(enron_df.bonus, enron_df.sent_received_ratio, c=[use_colors[z[0]] for z in cPOI])"
   ]
  },
  {
   "cell_type": "code",
   "execution_count": 113,
   "metadata": {
    "collapsed": false
   },
   "outputs": [
    {
     "data": {
      "text/plain": [
       "['poi',\n",
       " 'restricted_stock',\n",
       " 'restricted_stock_deferred',\n",
       " 'salary',\n",
       " 'shared_receipt_with_poi',\n",
       " 'to_messages',\n",
       " 'total_payments',\n",
       " 'total_stock_value',\n",
       " 'sent_received_ratio',\n",
       " 'bonus',\n",
       " 'deferral_payments',\n",
       " 'deferred_income',\n",
       " 'director_fees',\n",
       " 'exercised_stock_options',\n",
       " 'expenses',\n",
       " 'from_messages',\n",
       " 'from_poi_to_this_person',\n",
       " 'from_this_person_to_poi',\n",
       " 'loan_advances',\n",
       " 'long_term_incentive',\n",
       " 'other']"
      ]
     },
     "execution_count": 113,
     "metadata": {},
     "output_type": "execute_result"
    }
   ],
   "source": [
    "# updating the features list with the new feature\n",
    "# and moving 'poi' to the 0th place\n",
    "features_list.append(\"sent_received_ratio\")\n",
    "features_list = features_list[12:] + features_list[:12]\n",
    "features_list"
   ]
  },
  {
   "cell_type": "markdown",
   "metadata": {},
   "source": [
    "## More Wrangling"
   ]
  },
  {
   "cell_type": "code",
   "execution_count": 115,
   "metadata": {
    "collapsed": false
   },
   "outputs": [],
   "source": [
    "# the classifiers cannot handle NaN values, therefore they need to be either removed or imputed\n",
    "# also due to the small size of the dataset I chose to impute values\n",
    "# creating a copy of the original df for imputing\n",
    "enron_imp = enron_df"
   ]
  },
  {
   "cell_type": "code",
   "execution_count": 116,
   "metadata": {
    "collapsed": false
   },
   "outputs": [],
   "source": [
    "# email-corpus data (and features generated from it) receive the median (no value != 0)\n",
    "# from_messages, from_poi_to_this_person, from_this_person_to_poi, to_messages, sent_received_ratio\n",
    "enron_imp.from_messages.fillna(enron_imp.from_messages.median(), inplace=True)\n",
    "enron_imp.from_poi_to_this_person.fillna(enron_imp.from_poi_to_this_person.median(), inplace=True)\n",
    "enron_imp.from_this_person_to_poi.fillna(enron_imp.from_this_person_to_poi.median(), inplace=True)\n",
    "enron_imp.to_messages.fillna(enron_imp.to_messages.median(), inplace=True)\n",
    "enron_imp.sent_received_ratio.fillna(enron_imp.sent_received_ratio.median(), inplace=True)"
   ]
  },
  {
   "cell_type": "code",
   "execution_count": 117,
   "metadata": {
    "collapsed": false
   },
   "outputs": [
    {
     "data": {
      "text/html": [
       "<div>\n",
       "<table border=\"1\" class=\"dataframe\">\n",
       "  <thead>\n",
       "    <tr style=\"text-align: right;\">\n",
       "      <th></th>\n",
       "      <th>bonus</th>\n",
       "      <th>deferral_payments</th>\n",
       "      <th>deferred_income</th>\n",
       "      <th>director_fees</th>\n",
       "      <th>exercised_stock_options</th>\n",
       "      <th>expenses</th>\n",
       "      <th>from_messages</th>\n",
       "      <th>from_poi_to_this_person</th>\n",
       "      <th>from_this_person_to_poi</th>\n",
       "      <th>loan_advances</th>\n",
       "      <th>...</th>\n",
       "      <th>other</th>\n",
       "      <th>poi</th>\n",
       "      <th>restricted_stock</th>\n",
       "      <th>restricted_stock_deferred</th>\n",
       "      <th>salary</th>\n",
       "      <th>shared_receipt_with_poi</th>\n",
       "      <th>to_messages</th>\n",
       "      <th>total_payments</th>\n",
       "      <th>total_stock_value</th>\n",
       "      <th>sent_received_ratio</th>\n",
       "    </tr>\n",
       "  </thead>\n",
       "  <tbody>\n",
       "    <tr>\n",
       "      <th>ALLEN PHILLIP K</th>\n",
       "      <td>4175000</td>\n",
       "      <td>2869717</td>\n",
       "      <td>-3081055</td>\n",
       "      <td>0</td>\n",
       "      <td>1729541</td>\n",
       "      <td>13868</td>\n",
       "      <td>2195</td>\n",
       "      <td>47</td>\n",
       "      <td>65</td>\n",
       "      <td>0</td>\n",
       "      <td>...</td>\n",
       "      <td>152</td>\n",
       "      <td>False</td>\n",
       "      <td>126027</td>\n",
       "      <td>-126027</td>\n",
       "      <td>201955</td>\n",
       "      <td>1407</td>\n",
       "      <td>2902</td>\n",
       "      <td>4484442</td>\n",
       "      <td>1729541</td>\n",
       "      <td>1.382979</td>\n",
       "    </tr>\n",
       "    <tr>\n",
       "      <th>BADUM JAMES P</th>\n",
       "      <td>0</td>\n",
       "      <td>178980</td>\n",
       "      <td>0</td>\n",
       "      <td>0</td>\n",
       "      <td>257817</td>\n",
       "      <td>3486</td>\n",
       "      <td>41</td>\n",
       "      <td>35</td>\n",
       "      <td>8</td>\n",
       "      <td>0</td>\n",
       "      <td>...</td>\n",
       "      <td>0</td>\n",
       "      <td>False</td>\n",
       "      <td>0</td>\n",
       "      <td>0</td>\n",
       "      <td>0</td>\n",
       "      <td>0</td>\n",
       "      <td>1211</td>\n",
       "      <td>182466</td>\n",
       "      <td>257817</td>\n",
       "      <td>0.180195</td>\n",
       "    </tr>\n",
       "    <tr>\n",
       "      <th>BANNANTINE JAMES M</th>\n",
       "      <td>0</td>\n",
       "      <td>0</td>\n",
       "      <td>-5104</td>\n",
       "      <td>0</td>\n",
       "      <td>4046157</td>\n",
       "      <td>56301</td>\n",
       "      <td>29</td>\n",
       "      <td>39</td>\n",
       "      <td>0</td>\n",
       "      <td>0</td>\n",
       "      <td>...</td>\n",
       "      <td>864523</td>\n",
       "      <td>False</td>\n",
       "      <td>1757552</td>\n",
       "      <td>-560222</td>\n",
       "      <td>477</td>\n",
       "      <td>465</td>\n",
       "      <td>566</td>\n",
       "      <td>916197</td>\n",
       "      <td>5243487</td>\n",
       "      <td>0.000000</td>\n",
       "    </tr>\n",
       "    <tr>\n",
       "      <th>BAXTER JOHN C</th>\n",
       "      <td>1200000</td>\n",
       "      <td>1295738</td>\n",
       "      <td>-1386055</td>\n",
       "      <td>0</td>\n",
       "      <td>6680544</td>\n",
       "      <td>11200</td>\n",
       "      <td>41</td>\n",
       "      <td>35</td>\n",
       "      <td>8</td>\n",
       "      <td>0</td>\n",
       "      <td>...</td>\n",
       "      <td>2660303</td>\n",
       "      <td>False</td>\n",
       "      <td>3942714</td>\n",
       "      <td>0</td>\n",
       "      <td>267102</td>\n",
       "      <td>0</td>\n",
       "      <td>1211</td>\n",
       "      <td>5634343</td>\n",
       "      <td>10623258</td>\n",
       "      <td>0.180195</td>\n",
       "    </tr>\n",
       "    <tr>\n",
       "      <th>BAY FRANKLIN R</th>\n",
       "      <td>400000</td>\n",
       "      <td>260455</td>\n",
       "      <td>-201641</td>\n",
       "      <td>0</td>\n",
       "      <td>0</td>\n",
       "      <td>129142</td>\n",
       "      <td>41</td>\n",
       "      <td>35</td>\n",
       "      <td>8</td>\n",
       "      <td>0</td>\n",
       "      <td>...</td>\n",
       "      <td>69</td>\n",
       "      <td>False</td>\n",
       "      <td>145796</td>\n",
       "      <td>-82782</td>\n",
       "      <td>239671</td>\n",
       "      <td>0</td>\n",
       "      <td>1211</td>\n",
       "      <td>827696</td>\n",
       "      <td>63014</td>\n",
       "      <td>0.180195</td>\n",
       "    </tr>\n",
       "  </tbody>\n",
       "</table>\n",
       "<p>5 rows × 21 columns</p>\n",
       "</div>"
      ],
      "text/plain": [
       "                      bonus  deferral_payments  deferred_income  \\\n",
       "ALLEN PHILLIP K     4175000            2869717         -3081055   \n",
       "BADUM JAMES P             0             178980                0   \n",
       "BANNANTINE JAMES M        0                  0            -5104   \n",
       "BAXTER JOHN C       1200000            1295738         -1386055   \n",
       "BAY FRANKLIN R       400000             260455          -201641   \n",
       "\n",
       "                    director_fees  exercised_stock_options  expenses  \\\n",
       "ALLEN PHILLIP K                 0                  1729541     13868   \n",
       "BADUM JAMES P                   0                   257817      3486   \n",
       "BANNANTINE JAMES M              0                  4046157     56301   \n",
       "BAXTER JOHN C                   0                  6680544     11200   \n",
       "BAY FRANKLIN R                  0                        0    129142   \n",
       "\n",
       "                    from_messages  from_poi_to_this_person  \\\n",
       "ALLEN PHILLIP K              2195                       47   \n",
       "BADUM JAMES P                  41                       35   \n",
       "BANNANTINE JAMES M             29                       39   \n",
       "BAXTER JOHN C                  41                       35   \n",
       "BAY FRANKLIN R                 41                       35   \n",
       "\n",
       "                    from_this_person_to_poi  loan_advances  \\\n",
       "ALLEN PHILLIP K                          65              0   \n",
       "BADUM JAMES P                             8              0   \n",
       "BANNANTINE JAMES M                        0              0   \n",
       "BAXTER JOHN C                             8              0   \n",
       "BAY FRANKLIN R                            8              0   \n",
       "\n",
       "                           ...             other    poi restricted_stock  \\\n",
       "ALLEN PHILLIP K            ...               152  False           126027   \n",
       "BADUM JAMES P              ...                 0  False                0   \n",
       "BANNANTINE JAMES M         ...            864523  False          1757552   \n",
       "BAXTER JOHN C              ...           2660303  False          3942714   \n",
       "BAY FRANKLIN R             ...                69  False           145796   \n",
       "\n",
       "                    restricted_stock_deferred  salary  \\\n",
       "ALLEN PHILLIP K                       -126027  201955   \n",
       "BADUM JAMES P                               0       0   \n",
       "BANNANTINE JAMES M                    -560222     477   \n",
       "BAXTER JOHN C                               0  267102   \n",
       "BAY FRANKLIN R                         -82782  239671   \n",
       "\n",
       "                    shared_receipt_with_poi  to_messages  total_payments  \\\n",
       "ALLEN PHILLIP K                        1407         2902         4484442   \n",
       "BADUM JAMES P                             0         1211          182466   \n",
       "BANNANTINE JAMES M                      465          566          916197   \n",
       "BAXTER JOHN C                             0         1211         5634343   \n",
       "BAY FRANKLIN R                            0         1211          827696   \n",
       "\n",
       "                    total_stock_value  sent_received_ratio  \n",
       "ALLEN PHILLIP K               1729541             1.382979  \n",
       "BADUM JAMES P                  257817             0.180195  \n",
       "BANNANTINE JAMES M            5243487             0.000000  \n",
       "BAXTER JOHN C                10623258             0.180195  \n",
       "BAY FRANKLIN R                  63014             0.180195  \n",
       "\n",
       "[5 rows x 21 columns]"
      ]
     },
     "execution_count": 117,
     "metadata": {},
     "output_type": "execute_result"
    }
   ],
   "source": [
    "# financial data (and features generated from it) receive 0 (no value most likely == 0)\n",
    "# since all the email-corpus data NaNs are now filled, I can impute the remaining NaN\n",
    "# in the dataframe with 0\n",
    "enron_imp.fillna(0, inplace=True)\n",
    "# here's the imputed df\n",
    "enron_imp.head()"
   ]
  },
  {
   "cell_type": "code",
   "execution_count": 118,
   "metadata": {
    "collapsed": true
   },
   "outputs": [],
   "source": [
    "# translating back to a dict for easier work with the lesson code\n",
    "imp_dataset = enron_imp.to_dict(orient='index')"
   ]
  },
  {
   "cell_type": "markdown",
   "metadata": {},
   "source": [
    "## Feature Selection"
   ]
  },
  {
   "cell_type": "code",
   "execution_count": 119,
   "metadata": {
    "collapsed": true
   },
   "outputs": [],
   "source": [
    "# I'll be using an overfit Decision Tree to calculate the feature importances\n",
    "\n",
    "def get_most_important_features(dataset, features_list):\n",
    "    \"\"\"Calculates the feature importances.\n",
    "    \n",
    "    Takes as input a dataset and a list of features.\n",
    "    Creates an overfit Decision Tree and calculates the feature importances.\n",
    "    Returns a list with the feature importances.\n",
    "    \"\"\"\n",
    "    # creating an overfitted decision tree\n",
    "    from sklearn.tree import DecisionTreeClassifier\n",
    "    from sklearn.metrics import accuracy_score\n",
    "\n",
    "    data = featureFormat(dataset, features_list, sort_keys = True)\n",
    "    labels, features = targetFeatureSplit(data)\n",
    "        \n",
    "    # new features filtered, NaN values removed\n",
    "    features_train, features_test, labels_train, labels_test = train_test_split(features,\n",
    "                                                                                    labels,\n",
    "                                                                                    test_size=0.3,\n",
    "                                                                                    random_state=42)\n",
    "\n",
    "    clf = DecisionTreeClassifier()\n",
    "    clf.fit(features_train, labels_train)\n",
    "    pred = clf.predict(features_test)\n",
    "    acc = accuracy_score(labels_test, pred)\n",
    "    # uncomment to print the accuracy score\n",
    "    #print \"overfitted accuracy\", acc\n",
    "\n",
    "    # calculating feature importances\n",
    "    feat_imp = clf.feature_importances_\n",
    "    # uncomment to print the most important (common) ones\n",
    "    #print feat_imp\n",
    "    #for index, feature in enumerate(feat_imp):\n",
    "    #    if feature > 0.2:\n",
    "    #        print \"spot:\", index, \":\", features_list[index+1], \" | value:\", feature\n",
    "    return feat_imp"
   ]
  },
  {
   "cell_type": "code",
   "execution_count": 120,
   "metadata": {
    "collapsed": false
   },
   "outputs": [],
   "source": [
    "# collecting the values to calculate the average feature importances\n",
    "feat_imp_list_list = []\n",
    "\n",
    "for i in range(100):\n",
    "    feat_imp = get_most_important_features(imp_dataset, features_list)\n",
    "    feat_imp_list_list.append(feat_imp)"
   ]
  },
  {
   "cell_type": "code",
   "execution_count": 121,
   "metadata": {
    "collapsed": false
   },
   "outputs": [],
   "source": [
    "feature_compare = features_list[1:]\n",
    "feat_imp_dict = {}\n",
    "\n",
    "for f in feature_compare:\n",
    "    feat_imp_dict[f] = []\n",
    "\n",
    "for array in feat_imp_list_list:\n",
    "    for index, number in enumerate(array):\n",
    "        feat_imp_dict[feature_compare[index]].append(number)"
   ]
  },
  {
   "cell_type": "code",
   "execution_count": 122,
   "metadata": {
    "collapsed": false
   },
   "outputs": [
    {
     "name": "stdout",
     "output_type": "stream",
     "text": [
      "salary : 0.00810492189803\n",
      "to_messages : 0.0\n",
      "sent_received_ratio : 0.0255305039788\n",
      "deferral_payments : 0.0201149425287\n",
      "total_payments : 0.0539935160625\n",
      "loan_advances : 0.0\n",
      "bonus : 0.292259909742\n",
      "long_term_incentive : 0.0499852637784\n",
      "restricted_stock_deferred : 0.0\n",
      "total_stock_value : 0.00589448865311\n",
      "shared_receipt_with_poi : 0.0\n",
      "from_poi_to_this_person : 0.0317197170645\n",
      "exercised_stock_options : 0.0125257883879\n",
      "from_messages : 0.0\n",
      "other : 0.0583554376658\n",
      "from_this_person_to_poi : 0.0\n",
      "deferred_income : 0.178624057934\n",
      "expenses : 0.160095936484\n",
      "restricted_stock : 0.102795515822\n",
      "director_fees : 0.0\n"
     ]
    }
   ],
   "source": [
    "top_feat_imp = {}\n",
    "threshold = 0.1\n",
    "# getting the average of all runs and storing the ones passing the threshold in a dictionary\n",
    "for key, value in feat_imp_dict.items():\n",
    "    mean = np.asarray(value).mean()\n",
    "    print key, \":\", mean\n",
    "    if mean > threshold:\n",
    "        top_feat_imp[key] = mean"
   ]
  },
  {
   "cell_type": "code",
   "execution_count": 123,
   "metadata": {
    "collapsed": false
   },
   "outputs": [
    {
     "name": "stdout",
     "output_type": "stream",
     "text": [
      "{'bonus': 0.29225990974186628,\n",
      " 'deferred_income': 0.17862405793440281,\n",
      " 'expenses': 0.1600959364837119,\n",
      " 'restricted_stock': 0.10279551582233569}\n"
     ]
    }
   ],
   "source": [
    "pprint.pprint(top_feat_imp)"
   ]
  },
  {
   "cell_type": "code",
   "execution_count": 124,
   "metadata": {
    "collapsed": false
   },
   "outputs": [],
   "source": [
    "# updating the features list with the top performers (those I will actually use)\n",
    "features_list = ['poi'] + top_feat_imp.keys()"
   ]
  },
  {
   "cell_type": "markdown",
   "metadata": {},
   "source": [
    "## Classifier"
   ]
  },
  {
   "cell_type": "code",
   "execution_count": 125,
   "metadata": {
    "collapsed": true
   },
   "outputs": [],
   "source": [
    "# preparing the data into training and testing sets\n",
    "data = featureFormat(imp_dataset, features_list, sort_keys = True)\n",
    "labels, features = targetFeatureSplit(data)\n",
    "# features after imputing values\n",
    "features_train, features_test, labels_train, labels_test = train_test_split(features, labels, test_size=0.3, random_state=42)\n",
    "# combining the training and testing variables into a list for easier input for the function I wrote\n",
    "full_feat_list = [features_train, features_test, labels_train, labels_test]"
   ]
  },
  {
   "cell_type": "code",
   "execution_count": 126,
   "metadata": {
    "collapsed": true
   },
   "outputs": [],
   "source": [
    "def test_classifier(classifier_obj, data, scale=False):\n",
    "    \"\"\"Measures the time and accuracy of a given classifier.\n",
    "    \n",
    "    Takes as input a classifiert object (tuned or untuned)\n",
    "    and a list containing the training and testing features and labels\n",
    "    in this form:\n",
    "    data = [features_train, features_test, labels_train, labels_test]\n",
    "    Prints processing time and overall accuracy score.\n",
    "    \"\"\"\n",
    "    from time import time\n",
    "    from sklearn.metrics import accuracy_score\n",
    "    from sklearn.preprocessing import MinMaxScaler\n",
    "    \n",
    "    # scaling the data when the type of algorithm demands this\n",
    "    if scale == True:\n",
    "        scaler = MinMaxScaler()\n",
    "        features_train = scaler.fit_transform(data[0])\n",
    "        features_test = scaler.transform(data[1])\n",
    "    else:\n",
    "        features_train = data[0]\n",
    "        features_test = data[1]\n",
    "    labels_train = data[2]\n",
    "    labels_test = data[3]\n",
    "    \n",
    "    ### uncomment for information about time performance and accuracy ###\n",
    "    ## taking the time the algorithm runs\n",
    "    #t0 = time()\n",
    "    classifier_obj.fit(features_train, labels_train)\n",
    "    #print \"training time:\", round(time()-t0, 3), \"s\"\n",
    "    \n",
    "    ## taking time for prediction\n",
    "    #t1 = time()\n",
    "    pred = classifier_obj.predict(features_test)\n",
    "    #print \"predicting time:\", round(time()-t1, 3), \"s\"\n",
    "    \n",
    "    #acc = accuracy_score(labels_test, pred)\n",
    "    #print \"accuracy:\", acc\n",
    "    \n",
    "    print construct_CM(labels_test, pred)\n",
    "    print calculate_f1(labels_test, pred)"
   ]
  },
  {
   "cell_type": "code",
   "execution_count": 127,
   "metadata": {
    "collapsed": true
   },
   "outputs": [],
   "source": [
    "def get_CM_nums(true_labels, predictions, CM_type):\n",
    "    \"\"\"Calculates the number of elements in the different cells of a confusion matrix.\n",
    "\n",
    "    Takes as input the true labels and the predictions, both as lists.\n",
    "    Further a specification of the metric wanted as an abbreviated string:\n",
    "    'TP' for True Positives, 'FP' for False Positives\n",
    "    'TN' for True Negatives, 'FN' for False Negatives\n",
    "    Returns the amount of the specified metric.\n",
    "    \"\"\"\n",
    "    import numpy as np\n",
    "    \n",
    "    if CM_type == \"TP\" or CM_type == \"TN\":\n",
    "        if CM_type == \"TP\":\n",
    "            CM_type = 1\n",
    "        elif CM_type == \"TN\":\n",
    "            CM_type = 0\n",
    "        cpp = [1 for j in zip(true_labels, predictions) if j[0] == j[1] and j[1] == CM_type]\n",
    "    elif CM_type == \"FP\" or CM_type == \"FN\":\n",
    "        if CM_type == \"FP\":\n",
    "            CM_type = 1\n",
    "        elif CM_type == \"FN\":\n",
    "            CM_type = 0\n",
    "        cpp = [1 for j in zip(true_labels, predictions) if j[0] != j[1] and j[1] == CM_type]\n",
    "    else:\n",
    "        print \"error, please enter TP, TN, FP, or FN.\"\n",
    "    num_cpp = np.sum(cpp)\n",
    "    return int(num_cpp)\n",
    "\n",
    "def construct_CM(true_labels, predictions):\n",
    "    \"\"\"Wrapper function to calculate the confusion matrix and returns a formatted string.\n",
    "\n",
    "    Takes as input the true labels and the predictions, both as lists.\n",
    "    Calls get_CM_nums() with all possible inputs (TP, FP, TN, FN)\n",
    "    Returns a formatted string representing the confusion martrix that is easy to read.\n",
    "    \"\"\"\n",
    "    num_TP = get_CM_nums(true_labels, predictions, \"TP\")\n",
    "    num_TN = get_CM_nums(true_labels, predictions, \"TN\")\n",
    "    num_FP = get_CM_nums(true_labels, predictions, \"FP\")\n",
    "    num_FN = get_CM_nums(true_labels, predictions, \"FN\")\n",
    "\n",
    "    return \"\"\"confusion matrix:                  \n",
    "              predicted class\n",
    "              _Yes_|__No_\n",
    "actual | Yes |  {0}  |  {3}\n",
    "class  | No  |  {2}  |  {1}\"\"\".format(num_TP, num_TN, num_FP, num_FN)\n",
    "\n",
    "def calculate_f1(true_labels, predictions):\n",
    "    \"\"\"Calculates statistical metrics for the classifier's prediction.\n",
    "    \n",
    "    Takes as input the true labels and the predictions, both as lists.\n",
    "    Returns a string containing the scores for precision recall and the f1-score.\n",
    "    \"\"\"\n",
    "    from sklearn.metrics import precision_score\n",
    "    from sklearn.metrics import recall_score\n",
    "    from sklearn.metrics import f1_score\n",
    "    \n",
    "    precision = precision_score(true_labels, predictions)\n",
    "    recall = recall_score(true_labels, predictions)\n",
    "    f1_score =  f1_score(true_labels, predictions)\n",
    "    return \"\"\"precision: {0}\n",
    "recall:    {1}\n",
    "f1_score:  {2}\"\"\".format(precision, recall, f1_score)"
   ]
  },
  {
   "cell_type": "code",
   "execution_count": 128,
   "metadata": {
    "collapsed": true
   },
   "outputs": [],
   "source": [
    "def test_a_lot(training_test_list):\n",
    "    \"\"\"Wrapper function that calculates performance results for different classifiers and prints the results.\n",
    "    \n",
    "    Takes as input a list of test and training data in the following form:\n",
    "    'training_test_list = [features_train, features_test, labels_train, labels_test]'\n",
    "    Calls the functions test_classifier() on Naive Bayes, SVM, Decision Trees,\n",
    "    and K-nearest neighbors (each with the default settings).\n",
    "    Prints all results in formatted output.\n",
    "    \"\"\"\n",
    "    from sklearn.naive_bayes import GaussianNB\n",
    "    from sklearn.svm import SVC\n",
    "    from sklearn.tree import DecisionTreeClassifier\n",
    "    from sklearn.neighbors import KNeighborsClassifier\n",
    "\n",
    "    print \"PERFORMANCE RESULTS OF DIFFERENT CLASSIFIERS\"\n",
    "    ### Naive Bayes\n",
    "    print \"\\n\\n### NAIVE BAYES ###\"\n",
    "    clf = GaussianNB()\n",
    "    test_classifier(clf, training_test_list)\n",
    "\n",
    "    ### Support Vector Machines\n",
    "    print \"\\n\\n### SUPPORT VECTOR MACHINES ###\"\n",
    "    # adapting the class_weight to reflect the imbalanced dataset of 1:7\n",
    "    clf = SVC()\n",
    "    test_classifier(clf, training_test_list, scale=True)\n",
    "\n",
    "    ### Decision Trees\n",
    "    print \"\\n\\n### DECISION TREES ###\"\n",
    "    clf = DecisionTreeClassifier(class_weight='auto')\n",
    "    test_classifier(clf, training_test_list)\n",
    "\n",
    "    ### K-nearest Neighbours\n",
    "    print \"\\n\\n### K-NEAREST NEIGHBORS ###\"\n",
    "    neigh = KNeighborsClassifier()\n",
    "    test_classifier(neigh, training_test_list, scale=True)"
   ]
  },
  {
   "cell_type": "code",
   "execution_count": 129,
   "metadata": {
    "collapsed": false
   },
   "outputs": [
    {
     "name": "stdout",
     "output_type": "stream",
     "text": [
      "PERFORMANCE RESULTS OF DIFFERENT CLASSIFIERS\n",
      "\n",
      "\n",
      "### NAIVE BAYES ###\n",
      "confusion matrix:                  \n",
      "              predicted class\n",
      "              _Yes_|__No_\n",
      "actual | Yes |  0  |  4\n",
      "class  | No  |  2  |  34\n",
      "precision: 0.0\n",
      "recall:    0.0\n",
      "f1_score:  0.0\n",
      "\n",
      "\n",
      "### SUPPORT VECTOR MACHINES ###\n",
      "confusion matrix:                  \n",
      "              predicted class\n",
      "              _Yes_|__No_\n",
      "actual | Yes |  0  |  4\n",
      "class  | No  |  0  |  36\n",
      "precision: 0.0\n",
      "recall:    0.0\n",
      "f1_score:  0.0\n",
      "\n",
      "\n",
      "### DECISION TREES ###\n",
      "confusion matrix:                  \n",
      "              predicted class\n",
      "              _Yes_|__No_\n",
      "actual | Yes |  2  |  2\n",
      "class  | No  |  4  |  32\n",
      "precision: 0.333333333333\n",
      "recall:    0.5\n",
      "f1_score:  0.4\n",
      "\n",
      "\n",
      "### K-NEAREST NEIGHBORS ###\n",
      "confusion matrix:                  \n",
      "              predicted class\n",
      "              _Yes_|__No_\n",
      "actual | Yes |  0  |  4\n",
      "class  | No  |  1  |  35\n",
      "precision: 0.0\n",
      "recall:    0.0\n",
      "f1_score:  0.0\n"
     ]
    }
   ],
   "source": [
    "test_a_lot(full_feat_list)"
   ]
  },
  {
   "cell_type": "markdown",
   "metadata": {},
   "source": [
    "## Tuning"
   ]
  },
  {
   "cell_type": "code",
   "execution_count": 130,
   "metadata": {
    "collapsed": false
   },
   "outputs": [
    {
     "name": "stdout",
     "output_type": "stream",
     "text": [
      "{'class_weight': None}\n"
     ]
    }
   ],
   "source": [
    "# checking the best tuning setting for SVM\n",
    "from sklearn.svm import SVC\n",
    "\n",
    "parameters = {\n",
    "              'class_weight' : [None, 'auto']\n",
    "             }\n",
    "\n",
    "sv = SVC()\n",
    "clf = GridSearchCV(sv, parameters)\n",
    "clf.fit(features_train, labels_train)\n",
    "sv_params = clf.best_params_\n",
    "print sv_params"
   ]
  },
  {
   "cell_type": "code",
   "execution_count": 140,
   "metadata": {
    "collapsed": false
   },
   "outputs": [
    {
     "name": "stdout",
     "output_type": "stream",
     "text": [
      "tuned SVM\n",
      "confusion matrix:                  \n",
      "              predicted class\n",
      "              _Yes_|__No_\n",
      "actual | Yes |  0  |  4\n",
      "class  | No  |  0  |  36\n",
      "precision: 0.0\n",
      "recall:    0.0\n",
      "f1_score:  0.0\n",
      "\n",
      "untuned SVM\n",
      "confusion matrix:                  \n",
      "              predicted class\n",
      "              _Yes_|__No_\n",
      "actual | Yes |  0  |  4\n",
      "class  | No  |  0  |  36\n",
      "precision: 0.0\n",
      "recall:    0.0\n",
      "f1_score:  0.0\n"
     ]
    }
   ],
   "source": [
    "print \"tuned SVM\"\n",
    "clf = SVC(class_weight='auto')\n",
    "test_classifier(clf, full_feat_list)\n",
    "\n",
    "print \"\\nuntuned SVM\"\n",
    "clf = SVC(class_weight=None)\n",
    "test_classifier(clf, full_feat_list)"
   ]
  },
  {
   "cell_type": "code",
   "execution_count": 131,
   "metadata": {
    "collapsed": false,
    "scrolled": true
   },
   "outputs": [
    {
     "name": "stdout",
     "output_type": "stream",
     "text": [
      "{'min_samples_split': 2, 'min_weight_fraction_leaf': 0, 'max_depth': None, 'min_samples_leaf': 5}\n"
     ]
    }
   ],
   "source": [
    "# checking the best tuning setting for Decistion Trees\n",
    "from sklearn.tree import DecisionTreeClassifier\n",
    "\n",
    "parameters = {'max_depth' : [None, 10, 5, 2],\n",
    "              'min_samples_split' : [2, 10, 5, 1],\n",
    "              'min_samples_leaf' : [1, 5, 2],\n",
    "              'min_weight_fraction_leaf' : [0, 0.25, 0.5]\n",
    "             }\n",
    "# ,\n",
    "#              'class_weight' : [None, 'auto', {0:.14, 1:.86}\n",
    "\n",
    "dt = DecisionTreeClassifier()\n",
    "clf = GridSearchCV(dt, parameters)\n",
    "clf.fit(features_train, labels_train)\n",
    "dt_params = clf.best_params_\n",
    "print dt_params"
   ]
  },
  {
   "cell_type": "code",
   "execution_count": 132,
   "metadata": {
    "collapsed": false,
    "scrolled": true
   },
   "outputs": [
    {
     "name": "stdout",
     "output_type": "stream",
     "text": [
      "tuned DECISION TREES\n",
      "confusion matrix:                  \n",
      "              predicted class\n",
      "              _Yes_|__No_\n",
      "actual | Yes |  4  |  0\n",
      "class  | No  |  12  |  24\n",
      "precision: 0.25\n",
      "recall:    1.0\n",
      "f1_score:  0.4\n"
     ]
    }
   ],
   "source": [
    "print \"tuned DECISION TREES\"\n",
    "# min_samples_leaf=1 and max_depth=None are both default values\n",
    "clf = DecisionTreeClassifier(class_weight='auto', **dt_params)\n",
    "test_classifier(clf, full_feat_list)"
   ]
  },
  {
   "cell_type": "code",
   "execution_count": 133,
   "metadata": {
    "collapsed": false
   },
   "outputs": [
    {
     "name": "stdout",
     "output_type": "stream",
     "text": [
      "{'n_neighbors': 5, 'weights': 'uniform', 'leaf_size': 30, 'algorithm': 'ball_tree'}\n"
     ]
    }
   ],
   "source": [
    "# checking the best tuning setting for KNN\n",
    "from sklearn.neighbors import KNeighborsClassifier\n",
    "\n",
    "parameters = {'n_neighbors' : [5, 10, 3, 2],\n",
    "              'weights' : ['uniform', 'distance'],\n",
    "              'algorithm' : ['ball_tree', 'kd_tree', 'brute'],\n",
    "              'leaf_size' : [30, 10, 60, 100]\n",
    "             }\n",
    "\n",
    "knn = KNeighborsClassifier()\n",
    "clf = GridSearchCV(knn, parameters)\n",
    "clf.fit(features_train, labels_train)\n",
    "knn_params = clf.best_params_\n",
    "print knn_params"
   ]
  },
  {
   "cell_type": "code",
   "execution_count": 134,
   "metadata": {
    "collapsed": false,
    "scrolled": true
   },
   "outputs": [
    {
     "name": "stdout",
     "output_type": "stream",
     "text": [
      "tuned K-NEAREST NEIGHBORS\n",
      "confusion matrix:                  \n",
      "              predicted class\n",
      "              _Yes_|__No_\n",
      "actual | Yes |  0  |  4\n",
      "class  | No  |  1  |  35\n",
      "precision: 0.0\n",
      "recall:    0.0\n",
      "f1_score:  0.0\n"
     ]
    }
   ],
   "source": [
    "print \"tuned K-NEAREST NEIGHBORS\"\n",
    "# leaf_size=30 is the default value\n",
    "neigh = KNeighborsClassifier(**knn_params)\n",
    "test_classifier(neigh, full_feat_list, scale=True)"
   ]
  },
  {
   "cell_type": "markdown",
   "metadata": {},
   "source": [
    "## Final Run"
   ]
  },
  {
   "cell_type": "code",
   "execution_count": 135,
   "metadata": {
    "collapsed": false
   },
   "outputs": [
    {
     "name": "stdout",
     "output_type": "stream",
     "text": [
      "[ 0.  1.  0.  0.  0.  0.  0.  0.  0.  0.  0.  0.  0.  0.  0.  0.  0.  0.\n",
      "  0.  0.  1.  0.  0.  0.  0.  0.  0.  0.  0.  1.  0.  1.  0.  0.  0.  0.\n",
      "  0.  0.  0.  0.]\n"
     ]
    }
   ],
   "source": [
    "clf = KNeighborsClassifier(n_neighbors=2, weights='distance', algorithm='ball_tree')\n",
    "clf.fit(features_train, labels_train)\n",
    "pred = clf.predict(features_test)\n",
    "print pred"
   ]
  }
 ],
 "metadata": {
  "kernelspec": {
   "display_name": "Python 2",
   "language": "python",
   "name": "python2"
  },
  "language_info": {
   "codemirror_mode": {
    "name": "ipython",
    "version": 2
   },
   "file_extension": ".py",
   "mimetype": "text/x-python",
   "name": "python",
   "nbconvert_exporter": "python",
   "pygments_lexer": "ipython2",
   "version": "2.7.10"
  }
 },
 "nbformat": 4,
 "nbformat_minor": 0
}
